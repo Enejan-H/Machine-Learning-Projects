{
 "cells": [
  {
   "cell_type": "markdown",
   "id": "db3db6e6",
   "metadata": {},
   "source": [
    "# CO2 emission prediction of cars"
   ]
  },
  {
   "cell_type": "markdown",
   "id": "385a3aa0",
   "metadata": {},
   "source": []
  },
  {
   "cell_type": "code",
   "execution_count": 3,
   "id": "93b820f9",
   "metadata": {
    "ExecuteTime": {
     "end_time": "2024-02-10T18:47:44.573642Z",
     "start_time": "2024-02-10T18:47:43.979086Z"
    }
   },
   "outputs": [],
   "source": [
    "import numpy as np\n",
    "import pandas as pd\n",
    "import matplotlib.pyplot as plt\n",
    "import seaborn as sns\n",
    "plt.rcParams[\"figure.figsize\"] = (10,6)\n",
    "pd.set_option('display.max_columns', 100)\n",
    "import warnings\n",
    "warnings.filterwarnings('ignore')"
   ]
  },
  {
   "cell_type": "markdown",
   "id": "e551ea61",
   "metadata": {},
   "source": [
    "## Read Data Set"
   ]
  },
  {
   "cell_type": "code",
   "execution_count": 4,
   "id": "0417b641",
   "metadata": {
    "ExecuteTime": {
     "end_time": "2024-02-10T18:47:44.590383Z",
     "start_time": "2024-02-10T18:47:44.574651Z"
    }
   },
   "outputs": [
    {
     "data": {
      "text/html": [
       "<div>\n",
       "<style scoped>\n",
       "    .dataframe tbody tr th:only-of-type {\n",
       "        vertical-align: middle;\n",
       "    }\n",
       "\n",
       "    .dataframe tbody tr th {\n",
       "        vertical-align: top;\n",
       "    }\n",
       "\n",
       "    .dataframe thead th {\n",
       "        text-align: right;\n",
       "    }\n",
       "</style>\n",
       "<table border=\"1\" class=\"dataframe\">\n",
       "  <thead>\n",
       "    <tr style=\"text-align: right;\">\n",
       "      <th></th>\n",
       "      <th>Make</th>\n",
       "      <th>Model</th>\n",
       "      <th>Vehicle Class</th>\n",
       "      <th>Engine Size(L)</th>\n",
       "      <th>Cylinders</th>\n",
       "      <th>Transmission</th>\n",
       "      <th>Fuel Type</th>\n",
       "      <th>Fuel Consumption City (L/100 km)</th>\n",
       "      <th>Fuel Consumption Hwy (L/100 km)</th>\n",
       "      <th>Fuel Consumption Comb (L/100 km)</th>\n",
       "      <th>Fuel Consumption Comb (mpg)</th>\n",
       "      <th>CO2 Emissions(g/km)</th>\n",
       "    </tr>\n",
       "  </thead>\n",
       "  <tbody>\n",
       "    <tr>\n",
       "      <th>0</th>\n",
       "      <td>ACURA</td>\n",
       "      <td>ILX</td>\n",
       "      <td>COMPACT</td>\n",
       "      <td>2.0</td>\n",
       "      <td>4</td>\n",
       "      <td>AS5</td>\n",
       "      <td>Z</td>\n",
       "      <td>9.9</td>\n",
       "      <td>6.7</td>\n",
       "      <td>8.5</td>\n",
       "      <td>33</td>\n",
       "      <td>196</td>\n",
       "    </tr>\n",
       "    <tr>\n",
       "      <th>1</th>\n",
       "      <td>ACURA</td>\n",
       "      <td>ILX</td>\n",
       "      <td>COMPACT</td>\n",
       "      <td>2.4</td>\n",
       "      <td>4</td>\n",
       "      <td>M6</td>\n",
       "      <td>Z</td>\n",
       "      <td>11.2</td>\n",
       "      <td>7.7</td>\n",
       "      <td>9.6</td>\n",
       "      <td>29</td>\n",
       "      <td>221</td>\n",
       "    </tr>\n",
       "    <tr>\n",
       "      <th>2</th>\n",
       "      <td>ACURA</td>\n",
       "      <td>ILX HYBRID</td>\n",
       "      <td>COMPACT</td>\n",
       "      <td>1.5</td>\n",
       "      <td>4</td>\n",
       "      <td>AV7</td>\n",
       "      <td>Z</td>\n",
       "      <td>6.0</td>\n",
       "      <td>5.8</td>\n",
       "      <td>5.9</td>\n",
       "      <td>48</td>\n",
       "      <td>136</td>\n",
       "    </tr>\n",
       "    <tr>\n",
       "      <th>3</th>\n",
       "      <td>ACURA</td>\n",
       "      <td>MDX 4WD</td>\n",
       "      <td>SUV - SMALL</td>\n",
       "      <td>3.5</td>\n",
       "      <td>6</td>\n",
       "      <td>AS6</td>\n",
       "      <td>Z</td>\n",
       "      <td>12.7</td>\n",
       "      <td>9.1</td>\n",
       "      <td>11.1</td>\n",
       "      <td>25</td>\n",
       "      <td>255</td>\n",
       "    </tr>\n",
       "    <tr>\n",
       "      <th>4</th>\n",
       "      <td>ACURA</td>\n",
       "      <td>RDX AWD</td>\n",
       "      <td>SUV - SMALL</td>\n",
       "      <td>3.5</td>\n",
       "      <td>6</td>\n",
       "      <td>AS6</td>\n",
       "      <td>Z</td>\n",
       "      <td>12.1</td>\n",
       "      <td>8.7</td>\n",
       "      <td>10.6</td>\n",
       "      <td>27</td>\n",
       "      <td>244</td>\n",
       "    </tr>\n",
       "  </tbody>\n",
       "</table>\n",
       "</div>"
      ],
      "text/plain": [
       "    Make       Model Vehicle Class  Engine Size(L)  Cylinders Transmission  \\\n",
       "0  ACURA         ILX       COMPACT             2.0          4          AS5   \n",
       "1  ACURA         ILX       COMPACT             2.4          4           M6   \n",
       "2  ACURA  ILX HYBRID       COMPACT             1.5          4          AV7   \n",
       "3  ACURA     MDX 4WD   SUV - SMALL             3.5          6          AS6   \n",
       "4  ACURA     RDX AWD   SUV - SMALL             3.5          6          AS6   \n",
       "\n",
       "  Fuel Type  Fuel Consumption City (L/100 km)  \\\n",
       "0         Z                               9.9   \n",
       "1         Z                              11.2   \n",
       "2         Z                               6.0   \n",
       "3         Z                              12.7   \n",
       "4         Z                              12.1   \n",
       "\n",
       "   Fuel Consumption Hwy (L/100 km)  Fuel Consumption Comb (L/100 km)  \\\n",
       "0                              6.7                               8.5   \n",
       "1                              7.7                               9.6   \n",
       "2                              5.8                               5.9   \n",
       "3                              9.1                              11.1   \n",
       "4                              8.7                              10.6   \n",
       "\n",
       "   Fuel Consumption Comb (mpg)  CO2 Emissions(g/km)  \n",
       "0                           33                  196  \n",
       "1                           29                  221  \n",
       "2                           48                  136  \n",
       "3                           25                  255  \n",
       "4                           27                  244  "
      ]
     },
     "execution_count": 4,
     "metadata": {},
     "output_type": "execute_result"
    }
   ],
   "source": [
    "df=pd.read_csv(\"/Users/enejanhayytjanova/Desktop/co2.csv\")\n",
    "df.head()"
   ]
  },
  {
   "cell_type": "code",
   "execution_count": 5,
   "id": "f74400e2",
   "metadata": {
    "ExecuteTime": {
     "end_time": "2024-02-10T18:47:44.593128Z",
     "start_time": "2024-02-10T18:47:44.591020Z"
    }
   },
   "outputs": [
    {
     "data": {
      "text/plain": [
       "(7385, 12)"
      ]
     },
     "execution_count": 5,
     "metadata": {},
     "output_type": "execute_result"
    }
   ],
   "source": [
    "df.shape"
   ]
  },
  {
   "cell_type": "code",
   "execution_count": 6,
   "id": "0dcfa5c6",
   "metadata": {
    "ExecuteTime": {
     "end_time": "2024-02-10T18:47:44.600368Z",
     "start_time": "2024-02-10T18:47:44.594276Z"
    }
   },
   "outputs": [
    {
     "name": "stdout",
     "output_type": "stream",
     "text": [
      "<class 'pandas.core.frame.DataFrame'>\n",
      "RangeIndex: 7385 entries, 0 to 7384\n",
      "Data columns (total 12 columns):\n",
      " #   Column                            Non-Null Count  Dtype  \n",
      "---  ------                            --------------  -----  \n",
      " 0   Make                              7385 non-null   object \n",
      " 1   Model                             7385 non-null   object \n",
      " 2   Vehicle Class                     7385 non-null   object \n",
      " 3   Engine Size(L)                    7385 non-null   float64\n",
      " 4   Cylinders                         7385 non-null   int64  \n",
      " 5   Transmission                      7385 non-null   object \n",
      " 6   Fuel Type                         7385 non-null   object \n",
      " 7   Fuel Consumption City (L/100 km)  7385 non-null   float64\n",
      " 8   Fuel Consumption Hwy (L/100 km)   7385 non-null   float64\n",
      " 9   Fuel Consumption Comb (L/100 km)  7385 non-null   float64\n",
      " 10  Fuel Consumption Comb (mpg)       7385 non-null   int64  \n",
      " 11  CO2 Emissions(g/km)               7385 non-null   int64  \n",
      "dtypes: float64(4), int64(3), object(5)\n",
      "memory usage: 692.5+ KB\n"
     ]
    }
   ],
   "source": [
    "df.info()"
   ]
  },
  {
   "cell_type": "code",
   "execution_count": 7,
   "id": "9b8976b6",
   "metadata": {
    "ExecuteTime": {
     "end_time": "2024-02-10T18:47:44.611038Z",
     "start_time": "2024-02-10T18:47:44.600883Z"
    }
   },
   "outputs": [
    {
     "data": {
      "text/html": [
       "<div>\n",
       "<style scoped>\n",
       "    .dataframe tbody tr th:only-of-type {\n",
       "        vertical-align: middle;\n",
       "    }\n",
       "\n",
       "    .dataframe tbody tr th {\n",
       "        vertical-align: top;\n",
       "    }\n",
       "\n",
       "    .dataframe thead th {\n",
       "        text-align: right;\n",
       "    }\n",
       "</style>\n",
       "<table border=\"1\" class=\"dataframe\">\n",
       "  <thead>\n",
       "    <tr style=\"text-align: right;\">\n",
       "      <th></th>\n",
       "      <th>count</th>\n",
       "      <th>mean</th>\n",
       "      <th>std</th>\n",
       "      <th>min</th>\n",
       "      <th>25%</th>\n",
       "      <th>50%</th>\n",
       "      <th>75%</th>\n",
       "      <th>max</th>\n",
       "    </tr>\n",
       "  </thead>\n",
       "  <tbody>\n",
       "    <tr>\n",
       "      <th>Engine Size(L)</th>\n",
       "      <td>7385.0</td>\n",
       "      <td>3.160068</td>\n",
       "      <td>1.354170</td>\n",
       "      <td>0.9</td>\n",
       "      <td>2.0</td>\n",
       "      <td>3.0</td>\n",
       "      <td>3.7</td>\n",
       "      <td>8.4</td>\n",
       "    </tr>\n",
       "    <tr>\n",
       "      <th>Cylinders</th>\n",
       "      <td>7385.0</td>\n",
       "      <td>5.615030</td>\n",
       "      <td>1.828307</td>\n",
       "      <td>3.0</td>\n",
       "      <td>4.0</td>\n",
       "      <td>6.0</td>\n",
       "      <td>6.0</td>\n",
       "      <td>16.0</td>\n",
       "    </tr>\n",
       "    <tr>\n",
       "      <th>Fuel Consumption City (L/100 km)</th>\n",
       "      <td>7385.0</td>\n",
       "      <td>12.556534</td>\n",
       "      <td>3.500274</td>\n",
       "      <td>4.2</td>\n",
       "      <td>10.1</td>\n",
       "      <td>12.1</td>\n",
       "      <td>14.6</td>\n",
       "      <td>30.6</td>\n",
       "    </tr>\n",
       "    <tr>\n",
       "      <th>Fuel Consumption Hwy (L/100 km)</th>\n",
       "      <td>7385.0</td>\n",
       "      <td>9.041706</td>\n",
       "      <td>2.224456</td>\n",
       "      <td>4.0</td>\n",
       "      <td>7.5</td>\n",
       "      <td>8.7</td>\n",
       "      <td>10.2</td>\n",
       "      <td>20.6</td>\n",
       "    </tr>\n",
       "    <tr>\n",
       "      <th>Fuel Consumption Comb (L/100 km)</th>\n",
       "      <td>7385.0</td>\n",
       "      <td>10.975071</td>\n",
       "      <td>2.892506</td>\n",
       "      <td>4.1</td>\n",
       "      <td>8.9</td>\n",
       "      <td>10.6</td>\n",
       "      <td>12.6</td>\n",
       "      <td>26.1</td>\n",
       "    </tr>\n",
       "    <tr>\n",
       "      <th>Fuel Consumption Comb (mpg)</th>\n",
       "      <td>7385.0</td>\n",
       "      <td>27.481652</td>\n",
       "      <td>7.231879</td>\n",
       "      <td>11.0</td>\n",
       "      <td>22.0</td>\n",
       "      <td>27.0</td>\n",
       "      <td>32.0</td>\n",
       "      <td>69.0</td>\n",
       "    </tr>\n",
       "    <tr>\n",
       "      <th>CO2 Emissions(g/km)</th>\n",
       "      <td>7385.0</td>\n",
       "      <td>250.584699</td>\n",
       "      <td>58.512679</td>\n",
       "      <td>96.0</td>\n",
       "      <td>208.0</td>\n",
       "      <td>246.0</td>\n",
       "      <td>288.0</td>\n",
       "      <td>522.0</td>\n",
       "    </tr>\n",
       "  </tbody>\n",
       "</table>\n",
       "</div>"
      ],
      "text/plain": [
       "                                   count        mean        std   min    25%  \\\n",
       "Engine Size(L)                    7385.0    3.160068   1.354170   0.9    2.0   \n",
       "Cylinders                         7385.0    5.615030   1.828307   3.0    4.0   \n",
       "Fuel Consumption City (L/100 km)  7385.0   12.556534   3.500274   4.2   10.1   \n",
       "Fuel Consumption Hwy (L/100 km)   7385.0    9.041706   2.224456   4.0    7.5   \n",
       "Fuel Consumption Comb (L/100 km)  7385.0   10.975071   2.892506   4.1    8.9   \n",
       "Fuel Consumption Comb (mpg)       7385.0   27.481652   7.231879  11.0   22.0   \n",
       "CO2 Emissions(g/km)               7385.0  250.584699  58.512679  96.0  208.0   \n",
       "\n",
       "                                    50%    75%    max  \n",
       "Engine Size(L)                      3.0    3.7    8.4  \n",
       "Cylinders                           6.0    6.0   16.0  \n",
       "Fuel Consumption City (L/100 km)   12.1   14.6   30.6  \n",
       "Fuel Consumption Hwy (L/100 km)     8.7   10.2   20.6  \n",
       "Fuel Consumption Comb (L/100 km)   10.6   12.6   26.1  \n",
       "Fuel Consumption Comb (mpg)        27.0   32.0   69.0  \n",
       "CO2 Emissions(g/km)               246.0  288.0  522.0  "
      ]
     },
     "execution_count": 7,
     "metadata": {},
     "output_type": "execute_result"
    }
   ],
   "source": [
    "df.describe().T"
   ]
  },
  {
   "cell_type": "markdown",
   "id": "380492ae",
   "metadata": {},
   "source": [
    "## Correlation"
   ]
  },
  {
   "cell_type": "code",
   "execution_count": 8,
   "id": "a6efdda1",
   "metadata": {
    "ExecuteTime": {
     "end_time": "2024-02-10T18:47:44.615861Z",
     "start_time": "2024-02-10T18:47:44.611789Z"
    }
   },
   "outputs": [
    {
     "data": {
      "text/html": [
       "<div>\n",
       "<style scoped>\n",
       "    .dataframe tbody tr th:only-of-type {\n",
       "        vertical-align: middle;\n",
       "    }\n",
       "\n",
       "    .dataframe tbody tr th {\n",
       "        vertical-align: top;\n",
       "    }\n",
       "\n",
       "    .dataframe thead th {\n",
       "        text-align: right;\n",
       "    }\n",
       "</style>\n",
       "<table border=\"1\" class=\"dataframe\">\n",
       "  <thead>\n",
       "    <tr style=\"text-align: right;\">\n",
       "      <th></th>\n",
       "      <th>Engine Size(L)</th>\n",
       "      <th>Cylinders</th>\n",
       "      <th>Fuel Consumption City (L/100 km)</th>\n",
       "      <th>Fuel Consumption Hwy (L/100 km)</th>\n",
       "      <th>Fuel Consumption Comb (L/100 km)</th>\n",
       "      <th>Fuel Consumption Comb (mpg)</th>\n",
       "      <th>CO2 Emissions(g/km)</th>\n",
       "    </tr>\n",
       "  </thead>\n",
       "  <tbody>\n",
       "    <tr>\n",
       "      <th>Engine Size(L)</th>\n",
       "      <td>1.000000</td>\n",
       "      <td>0.927653</td>\n",
       "      <td>0.831379</td>\n",
       "      <td>0.761526</td>\n",
       "      <td>0.817060</td>\n",
       "      <td>-0.757854</td>\n",
       "      <td>0.851145</td>\n",
       "    </tr>\n",
       "    <tr>\n",
       "      <th>Cylinders</th>\n",
       "      <td>0.927653</td>\n",
       "      <td>1.000000</td>\n",
       "      <td>0.800702</td>\n",
       "      <td>0.715252</td>\n",
       "      <td>0.780534</td>\n",
       "      <td>-0.719321</td>\n",
       "      <td>0.832644</td>\n",
       "    </tr>\n",
       "    <tr>\n",
       "      <th>Fuel Consumption City (L/100 km)</th>\n",
       "      <td>0.831379</td>\n",
       "      <td>0.800702</td>\n",
       "      <td>1.000000</td>\n",
       "      <td>0.948180</td>\n",
       "      <td>0.993810</td>\n",
       "      <td>-0.927059</td>\n",
       "      <td>0.919592</td>\n",
       "    </tr>\n",
       "    <tr>\n",
       "      <th>Fuel Consumption Hwy (L/100 km)</th>\n",
       "      <td>0.761526</td>\n",
       "      <td>0.715252</td>\n",
       "      <td>0.948180</td>\n",
       "      <td>1.000000</td>\n",
       "      <td>0.977299</td>\n",
       "      <td>-0.890638</td>\n",
       "      <td>0.883536</td>\n",
       "    </tr>\n",
       "    <tr>\n",
       "      <th>Fuel Consumption Comb (L/100 km)</th>\n",
       "      <td>0.817060</td>\n",
       "      <td>0.780534</td>\n",
       "      <td>0.993810</td>\n",
       "      <td>0.977299</td>\n",
       "      <td>1.000000</td>\n",
       "      <td>-0.925576</td>\n",
       "      <td>0.918052</td>\n",
       "    </tr>\n",
       "    <tr>\n",
       "      <th>Fuel Consumption Comb (mpg)</th>\n",
       "      <td>-0.757854</td>\n",
       "      <td>-0.719321</td>\n",
       "      <td>-0.927059</td>\n",
       "      <td>-0.890638</td>\n",
       "      <td>-0.925576</td>\n",
       "      <td>1.000000</td>\n",
       "      <td>-0.907426</td>\n",
       "    </tr>\n",
       "    <tr>\n",
       "      <th>CO2 Emissions(g/km)</th>\n",
       "      <td>0.851145</td>\n",
       "      <td>0.832644</td>\n",
       "      <td>0.919592</td>\n",
       "      <td>0.883536</td>\n",
       "      <td>0.918052</td>\n",
       "      <td>-0.907426</td>\n",
       "      <td>1.000000</td>\n",
       "    </tr>\n",
       "  </tbody>\n",
       "</table>\n",
       "</div>"
      ],
      "text/plain": [
       "                                  Engine Size(L)  Cylinders  \\\n",
       "Engine Size(L)                          1.000000   0.927653   \n",
       "Cylinders                               0.927653   1.000000   \n",
       "Fuel Consumption City (L/100 km)        0.831379   0.800702   \n",
       "Fuel Consumption Hwy (L/100 km)         0.761526   0.715252   \n",
       "Fuel Consumption Comb (L/100 km)        0.817060   0.780534   \n",
       "Fuel Consumption Comb (mpg)            -0.757854  -0.719321   \n",
       "CO2 Emissions(g/km)                     0.851145   0.832644   \n",
       "\n",
       "                                  Fuel Consumption City (L/100 km)  \\\n",
       "Engine Size(L)                                            0.831379   \n",
       "Cylinders                                                 0.800702   \n",
       "Fuel Consumption City (L/100 km)                          1.000000   \n",
       "Fuel Consumption Hwy (L/100 km)                           0.948180   \n",
       "Fuel Consumption Comb (L/100 km)                          0.993810   \n",
       "Fuel Consumption Comb (mpg)                              -0.927059   \n",
       "CO2 Emissions(g/km)                                       0.919592   \n",
       "\n",
       "                                  Fuel Consumption Hwy (L/100 km)  \\\n",
       "Engine Size(L)                                           0.761526   \n",
       "Cylinders                                                0.715252   \n",
       "Fuel Consumption City (L/100 km)                         0.948180   \n",
       "Fuel Consumption Hwy (L/100 km)                          1.000000   \n",
       "Fuel Consumption Comb (L/100 km)                         0.977299   \n",
       "Fuel Consumption Comb (mpg)                             -0.890638   \n",
       "CO2 Emissions(g/km)                                      0.883536   \n",
       "\n",
       "                                  Fuel Consumption Comb (L/100 km)  \\\n",
       "Engine Size(L)                                            0.817060   \n",
       "Cylinders                                                 0.780534   \n",
       "Fuel Consumption City (L/100 km)                          0.993810   \n",
       "Fuel Consumption Hwy (L/100 km)                           0.977299   \n",
       "Fuel Consumption Comb (L/100 km)                          1.000000   \n",
       "Fuel Consumption Comb (mpg)                              -0.925576   \n",
       "CO2 Emissions(g/km)                                       0.918052   \n",
       "\n",
       "                                  Fuel Consumption Comb (mpg)  \\\n",
       "Engine Size(L)                                      -0.757854   \n",
       "Cylinders                                           -0.719321   \n",
       "Fuel Consumption City (L/100 km)                    -0.927059   \n",
       "Fuel Consumption Hwy (L/100 km)                     -0.890638   \n",
       "Fuel Consumption Comb (L/100 km)                    -0.925576   \n",
       "Fuel Consumption Comb (mpg)                          1.000000   \n",
       "CO2 Emissions(g/km)                                 -0.907426   \n",
       "\n",
       "                                  CO2 Emissions(g/km)  \n",
       "Engine Size(L)                               0.851145  \n",
       "Cylinders                                    0.832644  \n",
       "Fuel Consumption City (L/100 km)             0.919592  \n",
       "Fuel Consumption Hwy (L/100 km)              0.883536  \n",
       "Fuel Consumption Comb (L/100 km)             0.918052  \n",
       "Fuel Consumption Comb (mpg)                 -0.907426  \n",
       "CO2 Emissions(g/km)                          1.000000  "
      ]
     },
     "execution_count": 8,
     "metadata": {},
     "output_type": "execute_result"
    }
   ],
   "source": [
    "df.corr()"
   ]
  },
  {
   "cell_type": "code",
   "execution_count": 9,
   "id": "d1439c34",
   "metadata": {
    "ExecuteTime": {
     "end_time": "2024-02-10T18:47:44.760320Z",
     "start_time": "2024-02-10T18:47:44.616374Z"
    }
   },
   "outputs": [
    {
     "data": {
      "image/png": "[encoded data removed]",
      "text/plain": [
       "<Figure size 1000x600 with 2 Axes>"
      ]
     },
     "metadata": {},
     "output_type": "display_data"
    }
   ],
   "source": [
    "sns.heatmap(df.corr(), annot=True);"
   ]
  },
  {
   "cell_type": "markdown",
   "id": "dec01121",
   "metadata": {},
   "source": [
    "SLR yaparken Engine Size(L) ve CO2 Emissions(g/km) columnlarını kullanacaksınız."
   ]
  },
  {
   "cell_type": "code",
   "execution_count": 10,
   "id": "1c43f267",
   "metadata": {
    "ExecuteTime": {
     "end_time": "2024-02-10T18:47:44.766441Z",
     "start_time": "2024-02-10T18:47:44.761970Z"
    }
   },
   "outputs": [
    {
     "data": {
      "text/html": [
       "<div>\n",
       "<style scoped>\n",
       "    .dataframe tbody tr th:only-of-type {\n",
       "        vertical-align: middle;\n",
       "    }\n",
       "\n",
       "    .dataframe tbody tr th {\n",
       "        vertical-align: top;\n",
       "    }\n",
       "\n",
       "    .dataframe thead th {\n",
       "        text-align: right;\n",
       "    }\n",
       "</style>\n",
       "<table border=\"1\" class=\"dataframe\">\n",
       "  <thead>\n",
       "    <tr style=\"text-align: right;\">\n",
       "      <th></th>\n",
       "      <th>Make</th>\n",
       "      <th>Model</th>\n",
       "      <th>Vehicle Class</th>\n",
       "      <th>Engine Size(L)</th>\n",
       "      <th>Cylinders</th>\n",
       "      <th>Transmission</th>\n",
       "      <th>Fuel Type</th>\n",
       "      <th>Fuel Consumption City (L/100 km)</th>\n",
       "      <th>Fuel Consumption Hwy (L/100 km)</th>\n",
       "      <th>Fuel Consumption Comb (L/100 km)</th>\n",
       "      <th>Fuel Consumption Comb (mpg)</th>\n",
       "      <th>CO2 Emissions(g/km)</th>\n",
       "    </tr>\n",
       "  </thead>\n",
       "  <tbody>\n",
       "    <tr>\n",
       "      <th>0</th>\n",
       "      <td>ACURA</td>\n",
       "      <td>ILX</td>\n",
       "      <td>COMPACT</td>\n",
       "      <td>2.0</td>\n",
       "      <td>4</td>\n",
       "      <td>AS5</td>\n",
       "      <td>Z</td>\n",
       "      <td>9.9</td>\n",
       "      <td>6.7</td>\n",
       "      <td>8.5</td>\n",
       "      <td>33</td>\n",
       "      <td>196</td>\n",
       "    </tr>\n",
       "    <tr>\n",
       "      <th>1</th>\n",
       "      <td>ACURA</td>\n",
       "      <td>ILX</td>\n",
       "      <td>COMPACT</td>\n",
       "      <td>2.4</td>\n",
       "      <td>4</td>\n",
       "      <td>M6</td>\n",
       "      <td>Z</td>\n",
       "      <td>11.2</td>\n",
       "      <td>7.7</td>\n",
       "      <td>9.6</td>\n",
       "      <td>29</td>\n",
       "      <td>221</td>\n",
       "    </tr>\n",
       "  </tbody>\n",
       "</table>\n",
       "</div>"
      ],
      "text/plain": [
       "    Make Model Vehicle Class  Engine Size(L)  Cylinders Transmission  \\\n",
       "0  ACURA   ILX       COMPACT             2.0          4          AS5   \n",
       "1  ACURA   ILX       COMPACT             2.4          4           M6   \n",
       "\n",
       "  Fuel Type  Fuel Consumption City (L/100 km)  \\\n",
       "0         Z                               9.9   \n",
       "1         Z                              11.2   \n",
       "\n",
       "   Fuel Consumption Hwy (L/100 km)  Fuel Consumption Comb (L/100 km)  \\\n",
       "0                              6.7                               8.5   \n",
       "1                              7.7                               9.6   \n",
       "\n",
       "   Fuel Consumption Comb (mpg)  CO2 Emissions(g/km)  \n",
       "0                           33                  196  \n",
       "1                           29                  221  "
      ]
     },
     "execution_count": 10,
     "metadata": {},
     "output_type": "execute_result"
    }
   ],
   "source": [
    "df.head(2)"
   ]
  },
  {
   "cell_type": "code",
   "execution_count": 11,
   "id": "52daa65c",
   "metadata": {
    "ExecuteTime": {
     "end_time": "2024-02-10T18:47:44.770956Z",
     "start_time": "2024-02-10T18:47:44.767356Z"
    }
   },
   "outputs": [
    {
     "data": {
      "text/html": [
       "<div>\n",
       "<style scoped>\n",
       "    .dataframe tbody tr th:only-of-type {\n",
       "        vertical-align: middle;\n",
       "    }\n",
       "\n",
       "    .dataframe tbody tr th {\n",
       "        vertical-align: top;\n",
       "    }\n",
       "\n",
       "    .dataframe thead th {\n",
       "        text-align: right;\n",
       "    }\n",
       "</style>\n",
       "<table border=\"1\" class=\"dataframe\">\n",
       "  <thead>\n",
       "    <tr style=\"text-align: right;\">\n",
       "      <th></th>\n",
       "      <th>Engine Size(L)</th>\n",
       "      <th>CO2 Emissions(g/km)</th>\n",
       "    </tr>\n",
       "  </thead>\n",
       "  <tbody>\n",
       "    <tr>\n",
       "      <th>0</th>\n",
       "      <td>2.0</td>\n",
       "      <td>196</td>\n",
       "    </tr>\n",
       "    <tr>\n",
       "      <th>1</th>\n",
       "      <td>2.4</td>\n",
       "      <td>221</td>\n",
       "    </tr>\n",
       "    <tr>\n",
       "      <th>2</th>\n",
       "      <td>1.5</td>\n",
       "      <td>136</td>\n",
       "    </tr>\n",
       "    <tr>\n",
       "      <th>3</th>\n",
       "      <td>3.5</td>\n",
       "      <td>255</td>\n",
       "    </tr>\n",
       "    <tr>\n",
       "      <th>4</th>\n",
       "      <td>3.5</td>\n",
       "      <td>244</td>\n",
       "    </tr>\n",
       "  </tbody>\n",
       "</table>\n",
       "</div>"
      ],
      "text/plain": [
       "   Engine Size(L)  CO2 Emissions(g/km)\n",
       "0             2.0                  196\n",
       "1             2.4                  221\n",
       "2             1.5                  136\n",
       "3             3.5                  255\n",
       "4             3.5                  244"
      ]
     },
     "execution_count": 11,
     "metadata": {},
     "output_type": "execute_result"
    }
   ],
   "source": [
    "df = df.iloc[:, [3, 11]]    # sales degerini en sona almak için\n",
    "df.head()"
   ]
  },
  {
   "cell_type": "code",
   "execution_count": 12,
   "id": "45a7efc7",
   "metadata": {
    "ExecuteTime": {
     "end_time": "2024-02-10T18:47:45.072568Z",
     "start_time": "2024-02-10T18:47:44.773529Z"
    },
    "scrolled": true
   },
   "outputs": [
    {
     "data": {
      "text/plain": [
       "<seaborn.axisgrid.PairGrid at 0x168adb350>"
      ]
     },
     "execution_count": 12,
     "metadata": {},
     "output_type": "execute_result"
    },
    {
     "data": {
      "image/png": "[encoded data removed]",
      "text/plain": [
       "<Figure size 500x500 with 6 Axes>"
      ]
     },
     "metadata": {},
     "output_type": "display_data"
    }
   ],
   "source": [
    "sns.pairplot(df)"
   ]
  },
  {
   "cell_type": "code",
   "execution_count": 13,
   "id": "d16c1af6",
   "metadata": {
    "ExecuteTime": {
     "end_time": "2024-02-10T18:47:45.075203Z",
     "start_time": "2024-02-10T18:47:45.073466Z"
    }
   },
   "outputs": [],
   "source": [
    "X = df.drop(['CO2 Emissions(g/km)'], axis=1)\n",
    "y = df['CO2 Emissions(g/km)']"
   ]
  },
  {
   "cell_type": "code",
   "execution_count": 14,
   "id": "614b649b",
   "metadata": {
    "ExecuteTime": {
     "end_time": "2024-02-10T18:47:45.144942Z",
     "start_time": "2024-02-10T18:47:45.075832Z"
    }
   },
   "outputs": [
    {
     "data": {
      "image/png": "[encoded data removed]",
      "text/plain": [
       "<Figure size 1000x600 with 1 Axes>"
      ]
     },
     "metadata": {},
     "output_type": "display_data"
    }
   ],
   "source": [
    "sns.scatterplot(x=\"Engine Size(L)\", y = \"CO2 Emissions(g/km)\", data=df);"
   ]
  },
  {
   "cell_type": "code",
   "execution_count": 15,
   "id": "2fc1ee55",
   "metadata": {
    "ExecuteTime": {
     "end_time": "2024-02-10T18:47:45.149489Z",
     "start_time": "2024-02-10T18:47:45.146446Z"
    }
   },
   "outputs": [
    {
     "data": {
      "text/plain": [
       "0.8511446437900011"
      ]
     },
     "execution_count": 15,
     "metadata": {},
     "output_type": "execute_result"
    }
   ],
   "source": [
    "corr = df[\"Engine Size(L)\"].corr(df[\"CO2 Emissions(g/km)\"])\n",
    "corr"
   ]
  },
  {
   "cell_type": "code",
   "execution_count": 16,
   "id": "b04aff1c",
   "metadata": {
    "ExecuteTime": {
     "end_time": "2024-02-10T18:47:45.152527Z",
     "start_time": "2024-02-10T18:47:45.150283Z"
    }
   },
   "outputs": [
    {
     "data": {
      "text/plain": [
       "0.7244472046524079"
      ]
     },
     "execution_count": 16,
     "metadata": {},
     "output_type": "execute_result"
    }
   ],
   "source": [
    "R2_score = corr**2\n",
    "R2_score"
   ]
  },
  {
   "cell_type": "code",
   "execution_count": 17,
   "id": "d5422475",
   "metadata": {
    "ExecuteTime": {
     "end_time": "2024-02-10T18:47:45.226101Z",
     "start_time": "2024-02-10T18:47:45.153377Z"
    }
   },
   "outputs": [
    {
     "data": {
      "image/png": "[encoded data removed]",
      "text/plain": [
       "<Figure size 1000x600 with 1 Axes>"
      ]
     },
     "metadata": {},
     "output_type": "display_data"
    }
   ],
   "source": [
    "# Least square Error LSE ile Line of Best fit seçimi\n",
    "\n",
    "sns.regplot(x = \"Engine Size(L)\", y =\"CO2 Emissions(g/km)\", data=df, ci=None);"
   ]
  },
  {
   "cell_type": "markdown",
   "id": "719ed54b",
   "metadata": {},
   "source": [
    "## Train Test Split"
   ]
  },
  {
   "cell_type": "code",
   "execution_count": 18,
   "id": "9cc38bde",
   "metadata": {
    "ExecuteTime": {
     "end_time": "2024-02-10T18:47:45.236062Z",
     "start_time": "2024-02-10T18:47:45.227405Z"
    }
   },
   "outputs": [],
   "source": [
    "from sklearn.model_selection import train_test_split"
   ]
  },
  {
   "cell_type": "code",
   "execution_count": 19,
   "id": "1b2fc897",
   "metadata": {
    "ExecuteTime": {
     "end_time": "2024-02-10T18:47:45.239851Z",
     "start_time": "2024-02-10T18:47:45.236741Z"
    }
   },
   "outputs": [],
   "source": [
    "X_train, X_test, y_train, y_test = train_test_split(X, y, test_size=0.3, random_state=101)"
   ]
  },
  {
   "cell_type": "code",
   "execution_count": 20,
   "id": "b986ca78",
   "metadata": {
    "ExecuteTime": {
     "end_time": "2024-02-10T18:47:45.242310Z",
     "start_time": "2024-02-10T18:47:45.240346Z"
    }
   },
   "outputs": [],
   "source": [
    "from sklearn.preprocessing import StandardScaler, MinMaxScaler, RobustScaler"
   ]
  },
  {
   "cell_type": "code",
   "execution_count": 21,
   "id": "01df242c",
   "metadata": {
    "ExecuteTime": {
     "end_time": "2024-02-10T18:47:45.244750Z",
     "start_time": "2024-02-10T18:47:45.243085Z"
    }
   },
   "outputs": [],
   "source": [
    "scaler = StandardScaler()"
   ]
  },
  {
   "cell_type": "code",
   "execution_count": 22,
   "id": "a566b0d4",
   "metadata": {
    "ExecuteTime": {
     "end_time": "2024-02-10T18:47:45.251511Z",
     "start_time": "2024-02-10T18:47:45.245726Z"
    }
   },
   "outputs": [
    {
     "data": {
      "text/html": [
       "<div>\n",
       "<style scoped>\n",
       "    .dataframe tbody tr th:only-of-type {\n",
       "        vertical-align: middle;\n",
       "    }\n",
       "\n",
       "    .dataframe tbody tr th {\n",
       "        vertical-align: top;\n",
       "    }\n",
       "\n",
       "    .dataframe thead th {\n",
       "        text-align: right;\n",
       "    }\n",
       "</style>\n",
       "<table border=\"1\" class=\"dataframe\">\n",
       "  <thead>\n",
       "    <tr style=\"text-align: right;\">\n",
       "      <th></th>\n",
       "      <th>Engine Size(L)</th>\n",
       "      <th>CO2 Emissions(g/km)</th>\n",
       "    </tr>\n",
       "  </thead>\n",
       "  <tbody>\n",
       "    <tr>\n",
       "      <th>0</th>\n",
       "      <td>2.0</td>\n",
       "      <td>196</td>\n",
       "    </tr>\n",
       "    <tr>\n",
       "      <th>1</th>\n",
       "      <td>2.4</td>\n",
       "      <td>221</td>\n",
       "    </tr>\n",
       "    <tr>\n",
       "      <th>2</th>\n",
       "      <td>1.5</td>\n",
       "      <td>136</td>\n",
       "    </tr>\n",
       "    <tr>\n",
       "      <th>3</th>\n",
       "      <td>3.5</td>\n",
       "      <td>255</td>\n",
       "    </tr>\n",
       "    <tr>\n",
       "      <th>4</th>\n",
       "      <td>3.5</td>\n",
       "      <td>244</td>\n",
       "    </tr>\n",
       "    <tr>\n",
       "      <th>...</th>\n",
       "      <td>...</td>\n",
       "      <td>...</td>\n",
       "    </tr>\n",
       "    <tr>\n",
       "      <th>7380</th>\n",
       "      <td>2.0</td>\n",
       "      <td>219</td>\n",
       "    </tr>\n",
       "    <tr>\n",
       "      <th>7381</th>\n",
       "      <td>2.0</td>\n",
       "      <td>232</td>\n",
       "    </tr>\n",
       "    <tr>\n",
       "      <th>7382</th>\n",
       "      <td>2.0</td>\n",
       "      <td>240</td>\n",
       "    </tr>\n",
       "    <tr>\n",
       "      <th>7383</th>\n",
       "      <td>2.0</td>\n",
       "      <td>232</td>\n",
       "    </tr>\n",
       "    <tr>\n",
       "      <th>7384</th>\n",
       "      <td>2.0</td>\n",
       "      <td>248</td>\n",
       "    </tr>\n",
       "  </tbody>\n",
       "</table>\n",
       "<p>7385 rows × 2 columns</p>\n",
       "</div>"
      ],
      "text/plain": [
       "      Engine Size(L)  CO2 Emissions(g/km)\n",
       "0                2.0                  196\n",
       "1                2.4                  221\n",
       "2                1.5                  136\n",
       "3                3.5                  255\n",
       "4                3.5                  244\n",
       "...              ...                  ...\n",
       "7380             2.0                  219\n",
       "7381             2.0                  232\n",
       "7382             2.0                  240\n",
       "7383             2.0                  232\n",
       "7384             2.0                  248\n",
       "\n",
       "[7385 rows x 2 columns]"
      ]
     },
     "execution_count": 22,
     "metadata": {},
     "output_type": "execute_result"
    }
   ],
   "source": [
    "df"
   ]
  },
  {
   "cell_type": "code",
   "execution_count": 23,
   "id": "3b52ee35",
   "metadata": {
    "ExecuteTime": {
     "end_time": "2024-02-10T18:47:45.256646Z",
     "start_time": "2024-02-10T18:47:45.252697Z"
    }
   },
   "outputs": [
    {
     "data": {
      "text/plain": [
       "array([[-0.86311156],\n",
       "       [-0.86311156],\n",
       "       [ 1.57256625],\n",
       "       ...,\n",
       "       [ 1.57256625],\n",
       "       [-0.56787789],\n",
       "       [-0.56787789]])"
      ]
     },
     "execution_count": 23,
     "metadata": {},
     "output_type": "execute_result"
    }
   ],
   "source": [
    "X_train_scaled = scaler.fit_transform(X_train)\n",
    "X_train_scaled"
   ]
  },
  {
   "cell_type": "code",
   "execution_count": 24,
   "id": "2694acc7",
   "metadata": {
    "ExecuteTime": {
     "end_time": "2024-02-10T18:47:45.260508Z",
     "start_time": "2024-02-10T18:47:45.257488Z"
    }
   },
   "outputs": [
    {
     "data": {
      "text/plain": [
       "array([[-0.56787789],\n",
       "       [-0.86311156],\n",
       "       [ 0.31782313],\n",
       "       ...,\n",
       "       [ 1.86779992],\n",
       "       [ 2.08922518],\n",
       "       [-0.12502738]])"
      ]
     },
     "execution_count": 24,
     "metadata": {},
     "output_type": "execute_result"
    }
   ],
   "source": [
    "X_test_scaled = scaler.transform(X_test)\n",
    "X_test_scaled"
   ]
  },
  {
   "cell_type": "markdown",
   "id": "74eb76d3",
   "metadata": {},
   "source": [
    "## Linear Regression"
   ]
  },
  {
   "cell_type": "code",
   "execution_count": 25,
   "id": "9f945b33",
   "metadata": {
    "ExecuteTime": {
     "end_time": "2024-02-10T18:47:45.296370Z",
     "start_time": "2024-02-10T18:47:45.261294Z"
    }
   },
   "outputs": [],
   "source": [
    "from sklearn.linear_model import LinearRegression"
   ]
  },
  {
   "cell_type": "code",
   "execution_count": 26,
   "id": "01ffebec",
   "metadata": {
    "ExecuteTime": {
     "end_time": "2024-02-10T18:47:45.299412Z",
     "start_time": "2024-02-10T18:47:45.297409Z"
    }
   },
   "outputs": [],
   "source": [
    "lm = LinearRegression()"
   ]
  },
  {
   "cell_type": "code",
   "execution_count": 27,
   "id": "ab238bee",
   "metadata": {
    "ExecuteTime": {
     "end_time": "2024-02-10T18:47:45.304739Z",
     "start_time": "2024-02-10T18:47:45.300362Z"
    }
   },
   "outputs": [
    {
     "data": {
      "text/html": [
       "<style>#sk-container-id-1 {color: black;}#sk-container-id-1 pre{padding: 0;}#sk-container-id-1 div.sk-toggleable {background-color: white;}#sk-container-id-1 label.sk-toggleable__label {cursor: pointer;display: block;width: 100%;margin-bottom: 0;padding: 0.3em;box-sizing: border-box;text-align: center;}#sk-container-id-1 label.sk-toggleable__label-arrow:before {content: \"▸\";float: left;margin-right: 0.25em;color: #696969;}#sk-container-id-1 label.sk-toggleable__label-arrow:hover:before {color: black;}#sk-container-id-1 div.sk-estimator:hover label.sk-toggleable__label-arrow:before {color: black;}#sk-container-id-1 div.sk-toggleable__content {max-height: 0;max-width: 0;overflow: hidden;text-align: left;background-color: #f0f8ff;}#sk-container-id-1 div.sk-toggleable__content pre {margin: 0.2em;color: black;border-radius: 0.25em;background-color: #f0f8ff;}#sk-container-id-1 input.sk-toggleable__control:checked~div.sk-toggleable__content {max-height: 200px;max-width: 100%;overflow: auto;}#sk-container-id-1 input.sk-toggleable__control:checked~label.sk-toggleable__label-arrow:before {content: \"▾\";}#sk-container-id-1 div.sk-estimator input.sk-toggleable__control:checked~label.sk-toggleable__label {background-color: #d4ebff;}#sk-container-id-1 div.sk-label input.sk-toggleable__control:checked~label.sk-toggleable__label {background-color: #d4ebff;}#sk-container-id-1 input.sk-hidden--visually {border: 0;clip: rect(1px 1px 1px 1px);clip: rect(1px, 1px, 1px, 1px);height: 1px;margin: -1px;overflow: hidden;padding: 0;position: absolute;width: 1px;}#sk-container-id-1 div.sk-estimator {font-family: monospace;background-color: #f0f8ff;border: 1px dotted black;border-radius: 0.25em;box-sizing: border-box;margin-bottom: 0.5em;}#sk-container-id-1 div.sk-estimator:hover {background-color: #d4ebff;}#sk-container-id-1 div.sk-parallel-item::after {content: \"\";width: 100%;border-bottom: 1px solid gray;flex-grow: 1;}#sk-container-id-1 div.sk-label:hover label.sk-toggleable__label {background-color: #d4ebff;}#sk-container-id-1 div.sk-serial::before {content: \"\";position: absolute;border-left: 1px solid gray;box-sizing: border-box;top: 0;bottom: 0;left: 50%;z-index: 0;}#sk-container-id-1 div.sk-serial {display: flex;flex-direction: column;align-items: center;background-color: white;padding-right: 0.2em;padding-left: 0.2em;position: relative;}#sk-container-id-1 div.sk-item {position: relative;z-index: 1;}#sk-container-id-1 div.sk-parallel {display: flex;align-items: stretch;justify-content: center;background-color: white;position: relative;}#sk-container-id-1 div.sk-item::before, #sk-container-id-1 div.sk-parallel-item::before {content: \"\";position: absolute;border-left: 1px solid gray;box-sizing: border-box;top: 0;bottom: 0;left: 50%;z-index: -1;}#sk-container-id-1 div.sk-parallel-item {display: flex;flex-direction: column;z-index: 1;position: relative;background-color: white;}#sk-container-id-1 div.sk-parallel-item:first-child::after {align-self: flex-end;width: 50%;}#sk-container-id-1 div.sk-parallel-item:last-child::after {align-self: flex-start;width: 50%;}#sk-container-id-1 div.sk-parallel-item:only-child::after {width: 0;}#sk-container-id-1 div.sk-dashed-wrapped {border: 1px dashed gray;margin: 0 0.4em 0.5em 0.4em;box-sizing: border-box;padding-bottom: 0.4em;background-color: white;}#sk-container-id-1 div.sk-label label {font-family: monospace;font-weight: bold;display: inline-block;line-height: 1.2em;}#sk-container-id-1 div.sk-label-container {text-align: center;}#sk-container-id-1 div.sk-container {/* jupyter's `normalize.less` sets `[hidden] { display: none; }` but bootstrap.min.css set `[hidden] { display: none !important; }` so we also need the `!important` here to be able to override the default hidden behavior on the sphinx rendered scikit-learn.org. See: https://github.com/scikit-learn/scikit-learn/issues/21755 */display: inline-block !important;position: relative;}#sk-container-id-1 div.sk-text-repr-fallback {display: none;}</style><div id=\"sk-container-id-1\" class=\"sk-top-container\"><div class=\"sk-text-repr-fallback\"><pre>LinearRegression()</pre><b>In a Jupyter environment, please rerun this cell to show the HTML representation or trust the notebook. <br />On GitHub, the HTML representation is unable to render, please try loading this page with nbviewer.org.</b></div><div class=\"sk-container\" hidden><div class=\"sk-item\"><div class=\"sk-estimator sk-toggleable\"><input class=\"sk-toggleable__control sk-hidden--visually\" id=\"sk-estimator-id-1\" type=\"checkbox\" checked><label for=\"sk-estimator-id-1\" class=\"sk-toggleable__label sk-toggleable__label-arrow\">LinearRegression</label><div class=\"sk-toggleable__content\"><pre>LinearRegression()</pre></div></div></div></div></div>"
      ],
      "text/plain": [
       "LinearRegression()"
      ]
     },
     "execution_count": 27,
     "metadata": {},
     "output_type": "execute_result"
    }
   ],
   "source": [
    "lm.fit(X_train_scaled, y_train)"
   ]
  },
  {
   "cell_type": "code",
   "execution_count": 28,
   "id": "395ed13d",
   "metadata": {
    "ExecuteTime": {
     "end_time": "2024-02-10T18:47:45.307258Z",
     "start_time": "2024-02-10T18:47:45.305624Z"
    }
   },
   "outputs": [],
   "source": [
    "y_pred = lm.predict(X_test_scaled)\n",
    "y_train_pred = lm.predict(X_train_scaled)"
   ]
  },
  {
   "cell_type": "code",
   "execution_count": 29,
   "id": "d6af1d32",
   "metadata": {
    "ExecuteTime": {
     "end_time": "2024-02-10T18:47:45.310375Z",
     "start_time": "2024-02-10T18:47:45.307959Z"
    }
   },
   "outputs": [],
   "source": [
    "from sklearn.metrics import mean_absolute_error, mean_squared_error, r2_score\n",
    "\n",
    "def train_val(y_train, y_train_pred, y_test, y_pred, i): \n",
    "    \n",
    "    scores = {i+\"_train\": {\"R2\" : r2_score(y_train, y_train_pred),\n",
    "    \"mae\" : mean_absolute_error(y_train, y_train_pred),\n",
    "    \"mse\" : mean_squared_error(y_train, y_train_pred),                          \n",
    "    \"rmse\" : np.sqrt(mean_squared_error(y_train, y_train_pred))},\n",
    "    \n",
    "    i+\"_test\": {\"R2\" : r2_score(y_test, y_pred),\n",
    "    \"mae\" : mean_absolute_error(y_test, y_pred),\n",
    "    \"mse\" : mean_squared_error(y_test, y_pred),\n",
    "    \"rmse\" : np.sqrt(mean_squared_error(y_test, y_pred))}}\n",
    "    \n",
    "    return pd.DataFrame(scores)"
   ]
  },
  {
   "cell_type": "code",
   "execution_count": 30,
   "id": "f6cd98e2",
   "metadata": {
    "ExecuteTime": {
     "end_time": "2024-02-10T18:47:45.319487Z",
     "start_time": "2024-02-10T18:47:45.314519Z"
    },
    "scrolled": true
   },
   "outputs": [
    {
     "data": {
      "text/html": [
       "<div>\n",
       "<style scoped>\n",
       "    .dataframe tbody tr th:only-of-type {\n",
       "        vertical-align: middle;\n",
       "    }\n",
       "\n",
       "    .dataframe tbody tr th {\n",
       "        vertical-align: top;\n",
       "    }\n",
       "\n",
       "    .dataframe thead th {\n",
       "        text-align: right;\n",
       "    }\n",
       "</style>\n",
       "<table border=\"1\" class=\"dataframe\">\n",
       "  <thead>\n",
       "    <tr style=\"text-align: right;\">\n",
       "      <th></th>\n",
       "      <th>sing_linear_train</th>\n",
       "      <th>sing_linear_test</th>\n",
       "    </tr>\n",
       "  </thead>\n",
       "  <tbody>\n",
       "    <tr>\n",
       "      <th>R2</th>\n",
       "      <td>0.718368</td>\n",
       "      <td>0.738833</td>\n",
       "    </tr>\n",
       "    <tr>\n",
       "      <th>mae</th>\n",
       "      <td>23.631283</td>\n",
       "      <td>22.446376</td>\n",
       "    </tr>\n",
       "    <tr>\n",
       "      <th>mse</th>\n",
       "      <td>969.612930</td>\n",
       "      <td>882.099147</td>\n",
       "    </tr>\n",
       "    <tr>\n",
       "      <th>rmse</th>\n",
       "      <td>31.138608</td>\n",
       "      <td>29.700154</td>\n",
       "    </tr>\n",
       "  </tbody>\n",
       "</table>\n",
       "</div>"
      ],
      "text/plain": [
       "      sing_linear_train  sing_linear_test\n",
       "R2             0.718368          0.738833\n",
       "mae           23.631283         22.446376\n",
       "mse          969.612930        882.099147\n",
       "rmse          31.138608         29.700154"
      ]
     },
     "execution_count": 30,
     "metadata": {},
     "output_type": "execute_result"
    }
   ],
   "source": [
    "ls = train_val(y_train, y_train_pred, y_test, y_pred, \"sing_linear\") \n",
    "ls "
   ]
  },
  {
   "cell_type": "code",
   "execution_count": 31,
   "id": "f1d1e39b",
   "metadata": {
    "ExecuteTime": {
     "end_time": "2024-02-10T18:47:45.323110Z",
     "start_time": "2024-02-10T18:47:45.320286Z"
    }
   },
   "outputs": [
    {
     "data": {
      "text/plain": [
       "array([49.73152524])"
      ]
     },
     "execution_count": 31,
     "metadata": {},
     "output_type": "execute_result"
    }
   ],
   "source": [
    "lm.coef_"
   ]
  },
  {
   "cell_type": "code",
   "execution_count": 32,
   "id": "9306912d",
   "metadata": {
    "ExecuteTime": {
     "end_time": "2024-02-10T18:47:45.326184Z",
     "start_time": "2024-02-10T18:47:45.323873Z"
    }
   },
   "outputs": [
    {
     "data": {
      "text/plain": [
       "250.6991681176243"
      ]
     },
     "execution_count": 32,
     "metadata": {},
     "output_type": "execute_result"
    }
   ],
   "source": [
    "lm.intercept_"
   ]
  },
  {
   "cell_type": "markdown",
   "id": "825b742e",
   "metadata": {},
   "source": [
    "## Cross Validation"
   ]
  },
  {
   "cell_type": "code",
   "execution_count": 33,
   "id": "29663896",
   "metadata": {
    "ExecuteTime": {
     "end_time": "2024-02-10T18:47:45.329763Z",
     "start_time": "2024-02-10T18:47:45.328016Z"
    }
   },
   "outputs": [],
   "source": [
    "from sklearn.model_selection import cross_validate, cross_val_score"
   ]
  },
  {
   "cell_type": "code",
   "execution_count": 34,
   "id": "e1d53aa1",
   "metadata": {
    "ExecuteTime": {
     "end_time": "2024-02-10T18:47:45.338888Z",
     "start_time": "2024-02-10T18:47:45.331048Z"
    }
   },
   "outputs": [],
   "source": [
    "model = LinearRegression()\n",
    "scores = cross_validate(model, X_train_scaled, y_train, scoring =['r2',\n",
    "                                                                  'neg_mean_absolute_error',\n",
    "                                                                  'neg_mean_squared_error',\n",
    "                                                                  'neg_root_mean_squared_error',], cv = 5)"
   ]
  },
  {
   "cell_type": "code",
   "execution_count": 35,
   "id": "2eed495d",
   "metadata": {
    "ExecuteTime": {
     "end_time": "2024-02-10T18:47:45.343983Z",
     "start_time": "2024-02-10T18:47:45.339661Z"
    }
   },
   "outputs": [
    {
     "data": {
      "text/html": [
       "<div>\n",
       "<style scoped>\n",
       "    .dataframe tbody tr th:only-of-type {\n",
       "        vertical-align: middle;\n",
       "    }\n",
       "\n",
       "    .dataframe tbody tr th {\n",
       "        vertical-align: top;\n",
       "    }\n",
       "\n",
       "    .dataframe thead th {\n",
       "        text-align: right;\n",
       "    }\n",
       "</style>\n",
       "<table border=\"1\" class=\"dataframe\">\n",
       "  <thead>\n",
       "    <tr style=\"text-align: right;\">\n",
       "      <th></th>\n",
       "      <th>fit_time</th>\n",
       "      <th>score_time</th>\n",
       "      <th>test_r2</th>\n",
       "      <th>test_neg_mean_absolute_error</th>\n",
       "      <th>test_neg_mean_squared_error</th>\n",
       "      <th>test_neg_root_mean_squared_error</th>\n",
       "    </tr>\n",
       "  </thead>\n",
       "  <tbody>\n",
       "    <tr>\n",
       "      <th>1</th>\n",
       "      <td>0.000903</td>\n",
       "      <td>0.000608</td>\n",
       "      <td>0.706525</td>\n",
       "      <td>-24.557101</td>\n",
       "      <td>-1027.461811</td>\n",
       "      <td>-32.054045</td>\n",
       "    </tr>\n",
       "    <tr>\n",
       "      <th>2</th>\n",
       "      <td>0.000333</td>\n",
       "      <td>0.000481</td>\n",
       "      <td>0.720055</td>\n",
       "      <td>-22.987874</td>\n",
       "      <td>-933.319870</td>\n",
       "      <td>-30.550284</td>\n",
       "    </tr>\n",
       "    <tr>\n",
       "      <th>3</th>\n",
       "      <td>0.000283</td>\n",
       "      <td>0.000478</td>\n",
       "      <td>0.722405</td>\n",
       "      <td>-22.987124</td>\n",
       "      <td>-930.173185</td>\n",
       "      <td>-30.498741</td>\n",
       "    </tr>\n",
       "    <tr>\n",
       "      <th>4</th>\n",
       "      <td>0.000285</td>\n",
       "      <td>0.000443</td>\n",
       "      <td>0.717320</td>\n",
       "      <td>-23.880474</td>\n",
       "      <td>-991.197077</td>\n",
       "      <td>-31.483282</td>\n",
       "    </tr>\n",
       "    <tr>\n",
       "      <th>5</th>\n",
       "      <td>0.000270</td>\n",
       "      <td>0.000456</td>\n",
       "      <td>0.723469</td>\n",
       "      <td>-23.763598</td>\n",
       "      <td>-968.574833</td>\n",
       "      <td>-31.121935</td>\n",
       "    </tr>\n",
       "  </tbody>\n",
       "</table>\n",
       "</div>"
      ],
      "text/plain": [
       "   fit_time  score_time   test_r2  test_neg_mean_absolute_error  \\\n",
       "1  0.000903    0.000608  0.706525                    -24.557101   \n",
       "2  0.000333    0.000481  0.720055                    -22.987874   \n",
       "3  0.000283    0.000478  0.722405                    -22.987124   \n",
       "4  0.000285    0.000443  0.717320                    -23.880474   \n",
       "5  0.000270    0.000456  0.723469                    -23.763598   \n",
       "\n",
       "   test_neg_mean_squared_error  test_neg_root_mean_squared_error  \n",
       "1                 -1027.461811                        -32.054045  \n",
       "2                  -933.319870                        -30.550284  \n",
       "3                  -930.173185                        -30.498741  \n",
       "4                  -991.197077                        -31.483282  \n",
       "5                  -968.574833                        -31.121935  "
      ]
     },
     "execution_count": 35,
     "metadata": {},
     "output_type": "execute_result"
    }
   ],
   "source": [
    "pd.DataFrame(scores, index = range(1,6))"
   ]
  },
  {
   "cell_type": "code",
   "execution_count": 36,
   "id": "dbdc96e5",
   "metadata": {
    "ExecuteTime": {
     "end_time": "2024-02-10T18:47:45.349528Z",
     "start_time": "2024-02-10T18:47:45.344884Z"
    }
   },
   "outputs": [
    {
     "data": {
      "text/plain": [
       "cv_test_r2                               0.717955\n",
       "cv_test_neg_mean_absolute_error        -23.635234\n",
       "cv_test_neg_mean_squared_error        -970.145355\n",
       "cv_test_neg_root_mean_squared_error    -31.141658\n",
       "dtype: float64"
      ]
     },
     "execution_count": 36,
     "metadata": {},
     "output_type": "execute_result"
    }
   ],
   "source": [
    "cv_df = pd.DataFrame(scores, index=range(1, 6)).add_prefix(\"cv_\")\n",
    "cv_df\n",
    "cv_df.iloc[:, 2:].mean()"
   ]
  },
  {
   "cell_type": "code",
   "execution_count": 37,
   "id": "f1d38993",
   "metadata": {
    "ExecuteTime": {
     "end_time": "2024-02-10T18:47:45.355521Z",
     "start_time": "2024-02-10T18:47:45.350249Z"
    }
   },
   "outputs": [
    {
     "data": {
      "text/html": [
       "<div>\n",
       "<style scoped>\n",
       "    .dataframe tbody tr th:only-of-type {\n",
       "        vertical-align: middle;\n",
       "    }\n",
       "\n",
       "    .dataframe tbody tr th {\n",
       "        vertical-align: top;\n",
       "    }\n",
       "\n",
       "    .dataframe thead th {\n",
       "        text-align: right;\n",
       "    }\n",
       "</style>\n",
       "<table border=\"1\" class=\"dataframe\">\n",
       "  <thead>\n",
       "    <tr style=\"text-align: right;\">\n",
       "      <th></th>\n",
       "      <th>linear_train</th>\n",
       "      <th>linear_test</th>\n",
       "    </tr>\n",
       "  </thead>\n",
       "  <tbody>\n",
       "    <tr>\n",
       "      <th>R2</th>\n",
       "      <td>0.718368</td>\n",
       "      <td>0.738833</td>\n",
       "    </tr>\n",
       "    <tr>\n",
       "      <th>mae</th>\n",
       "      <td>23.631283</td>\n",
       "      <td>22.446376</td>\n",
       "    </tr>\n",
       "    <tr>\n",
       "      <th>mse</th>\n",
       "      <td>969.612930</td>\n",
       "      <td>882.099147</td>\n",
       "    </tr>\n",
       "    <tr>\n",
       "      <th>rmse</th>\n",
       "      <td>31.138608</td>\n",
       "      <td>29.700154</td>\n",
       "    </tr>\n",
       "  </tbody>\n",
       "</table>\n",
       "</div>"
      ],
      "text/plain": [
       "      linear_train  linear_test\n",
       "R2        0.718368     0.738833\n",
       "mae      23.631283    22.446376\n",
       "mse     969.612930   882.099147\n",
       "rmse     31.138608    29.700154"
      ]
     },
     "execution_count": 37,
     "metadata": {},
     "output_type": "execute_result"
    }
   ],
   "source": [
    "train_val(y_train, y_train_pred, y_test, y_pred, \"linear\")"
   ]
  },
  {
   "cell_type": "code",
   "execution_count": 38,
   "id": "3064e581",
   "metadata": {
    "ExecuteTime": {
     "end_time": "2024-02-10T18:47:45.359959Z",
     "start_time": "2024-02-10T18:47:45.356354Z"
    }
   },
   "outputs": [
    {
     "data": {
      "text/html": [
       "<div>\n",
       "<style scoped>\n",
       "    .dataframe tbody tr th:only-of-type {\n",
       "        vertical-align: middle;\n",
       "    }\n",
       "\n",
       "    .dataframe tbody tr th {\n",
       "        vertical-align: top;\n",
       "    }\n",
       "\n",
       "    .dataframe thead th {\n",
       "        text-align: right;\n",
       "    }\n",
       "</style>\n",
       "<table border=\"1\" class=\"dataframe\">\n",
       "  <thead>\n",
       "    <tr style=\"text-align: right;\">\n",
       "      <th></th>\n",
       "      <th>lm_coef</th>\n",
       "    </tr>\n",
       "  </thead>\n",
       "  <tbody>\n",
       "    <tr>\n",
       "      <th>0</th>\n",
       "      <td>49.731525</td>\n",
       "    </tr>\n",
       "  </tbody>\n",
       "</table>\n",
       "</div>"
      ],
      "text/plain": [
       "     lm_coef\n",
       "0  49.731525"
      ]
     },
     "execution_count": 38,
     "metadata": {},
     "output_type": "execute_result"
    }
   ],
   "source": [
    "lm_df = pd.DataFrame(lm.coef_, columns = [\"lm_coef\"])\n",
    "lm_df"
   ]
  },
  {
   "cell_type": "code",
   "execution_count": 39,
   "id": "082c616d",
   "metadata": {
    "ExecuteTime": {
     "end_time": "2024-02-10T18:47:45.363220Z",
     "start_time": "2024-02-10T18:47:45.361033Z"
    }
   },
   "outputs": [
    {
     "data": {
      "text/plain": [
       "array([49.73152524])"
      ]
     },
     "execution_count": 39,
     "metadata": {},
     "output_type": "execute_result"
    }
   ],
   "source": [
    "lm.coef_"
   ]
  },
  {
   "cell_type": "code",
   "execution_count": 40,
   "id": "d0984141",
   "metadata": {
    "ExecuteTime": {
     "end_time": "2024-02-10T18:47:45.367713Z",
     "start_time": "2024-02-10T18:47:45.363983Z"
    }
   },
   "outputs": [
    {
     "data": {
      "text/html": [
       "<div>\n",
       "<style scoped>\n",
       "    .dataframe tbody tr th:only-of-type {\n",
       "        vertical-align: middle;\n",
       "    }\n",
       "\n",
       "    .dataframe tbody tr th {\n",
       "        vertical-align: top;\n",
       "    }\n",
       "\n",
       "    .dataframe thead th {\n",
       "        text-align: right;\n",
       "    }\n",
       "</style>\n",
       "<table border=\"1\" class=\"dataframe\">\n",
       "  <thead>\n",
       "    <tr style=\"text-align: right;\">\n",
       "      <th></th>\n",
       "      <th>Engine Size(L)</th>\n",
       "      <th>CO2 Emissions(g/km)</th>\n",
       "    </tr>\n",
       "  </thead>\n",
       "  <tbody>\n",
       "    <tr>\n",
       "      <th>0</th>\n",
       "      <td>2.0</td>\n",
       "      <td>196</td>\n",
       "    </tr>\n",
       "    <tr>\n",
       "      <th>1</th>\n",
       "      <td>2.4</td>\n",
       "      <td>221</td>\n",
       "    </tr>\n",
       "    <tr>\n",
       "      <th>2</th>\n",
       "      <td>1.5</td>\n",
       "      <td>136</td>\n",
       "    </tr>\n",
       "    <tr>\n",
       "      <th>3</th>\n",
       "      <td>3.5</td>\n",
       "      <td>255</td>\n",
       "    </tr>\n",
       "    <tr>\n",
       "      <th>4</th>\n",
       "      <td>3.5</td>\n",
       "      <td>244</td>\n",
       "    </tr>\n",
       "    <tr>\n",
       "      <th>...</th>\n",
       "      <td>...</td>\n",
       "      <td>...</td>\n",
       "    </tr>\n",
       "    <tr>\n",
       "      <th>7380</th>\n",
       "      <td>2.0</td>\n",
       "      <td>219</td>\n",
       "    </tr>\n",
       "    <tr>\n",
       "      <th>7381</th>\n",
       "      <td>2.0</td>\n",
       "      <td>232</td>\n",
       "    </tr>\n",
       "    <tr>\n",
       "      <th>7382</th>\n",
       "      <td>2.0</td>\n",
       "      <td>240</td>\n",
       "    </tr>\n",
       "    <tr>\n",
       "      <th>7383</th>\n",
       "      <td>2.0</td>\n",
       "      <td>232</td>\n",
       "    </tr>\n",
       "    <tr>\n",
       "      <th>7384</th>\n",
       "      <td>2.0</td>\n",
       "      <td>248</td>\n",
       "    </tr>\n",
       "  </tbody>\n",
       "</table>\n",
       "<p>7385 rows × 2 columns</p>\n",
       "</div>"
      ],
      "text/plain": [
       "      Engine Size(L)  CO2 Emissions(g/km)\n",
       "0                2.0                  196\n",
       "1                2.4                  221\n",
       "2                1.5                  136\n",
       "3                3.5                  255\n",
       "4                3.5                  244\n",
       "...              ...                  ...\n",
       "7380             2.0                  219\n",
       "7381             2.0                  232\n",
       "7382             2.0                  240\n",
       "7383             2.0                  232\n",
       "7384             2.0                  248\n",
       "\n",
       "[7385 rows x 2 columns]"
      ]
     },
     "execution_count": 40,
     "metadata": {},
     "output_type": "execute_result"
    }
   ],
   "source": [
    "df"
   ]
  },
  {
   "cell_type": "markdown",
   "id": "dd8fbb78",
   "metadata": {},
   "source": [
    "MLR Engine Size(L), Fuel Consumption Comb (L/100 km), Fuel Consumption Hwy (L/100 km), Fuel Consumption City (L/100 km), CO2 Emissions(g/km) columnlarını kullanacaksınız."
   ]
  },
  {
   "cell_type": "code",
   "execution_count": 41,
   "id": "bf0053d4",
   "metadata": {
    "ExecuteTime": {
     "end_time": "2024-02-10T18:47:45.378426Z",
     "start_time": "2024-02-10T18:47:45.368502Z"
    }
   },
   "outputs": [
    {
     "data": {
      "text/html": [
       "<div>\n",
       "<style scoped>\n",
       "    .dataframe tbody tr th:only-of-type {\n",
       "        vertical-align: middle;\n",
       "    }\n",
       "\n",
       "    .dataframe tbody tr th {\n",
       "        vertical-align: top;\n",
       "    }\n",
       "\n",
       "    .dataframe thead th {\n",
       "        text-align: right;\n",
       "    }\n",
       "</style>\n",
       "<table border=\"1\" class=\"dataframe\">\n",
       "  <thead>\n",
       "    <tr style=\"text-align: right;\">\n",
       "      <th></th>\n",
       "      <th>Make</th>\n",
       "      <th>Model</th>\n",
       "      <th>Vehicle Class</th>\n",
       "      <th>Engine Size(L)</th>\n",
       "      <th>Cylinders</th>\n",
       "      <th>Transmission</th>\n",
       "      <th>Fuel Type</th>\n",
       "      <th>Fuel Consumption City (L/100 km)</th>\n",
       "      <th>Fuel Consumption Hwy (L/100 km)</th>\n",
       "      <th>Fuel Consumption Comb (L/100 km)</th>\n",
       "      <th>Fuel Consumption Comb (mpg)</th>\n",
       "      <th>CO2 Emissions(g/km)</th>\n",
       "    </tr>\n",
       "  </thead>\n",
       "  <tbody>\n",
       "    <tr>\n",
       "      <th>0</th>\n",
       "      <td>ACURA</td>\n",
       "      <td>ILX</td>\n",
       "      <td>COMPACT</td>\n",
       "      <td>2.0</td>\n",
       "      <td>4</td>\n",
       "      <td>AS5</td>\n",
       "      <td>Z</td>\n",
       "      <td>9.9</td>\n",
       "      <td>6.7</td>\n",
       "      <td>8.5</td>\n",
       "      <td>33</td>\n",
       "      <td>196</td>\n",
       "    </tr>\n",
       "    <tr>\n",
       "      <th>1</th>\n",
       "      <td>ACURA</td>\n",
       "      <td>ILX</td>\n",
       "      <td>COMPACT</td>\n",
       "      <td>2.4</td>\n",
       "      <td>4</td>\n",
       "      <td>M6</td>\n",
       "      <td>Z</td>\n",
       "      <td>11.2</td>\n",
       "      <td>7.7</td>\n",
       "      <td>9.6</td>\n",
       "      <td>29</td>\n",
       "      <td>221</td>\n",
       "    </tr>\n",
       "    <tr>\n",
       "      <th>2</th>\n",
       "      <td>ACURA</td>\n",
       "      <td>ILX HYBRID</td>\n",
       "      <td>COMPACT</td>\n",
       "      <td>1.5</td>\n",
       "      <td>4</td>\n",
       "      <td>AV7</td>\n",
       "      <td>Z</td>\n",
       "      <td>6.0</td>\n",
       "      <td>5.8</td>\n",
       "      <td>5.9</td>\n",
       "      <td>48</td>\n",
       "      <td>136</td>\n",
       "    </tr>\n",
       "    <tr>\n",
       "      <th>3</th>\n",
       "      <td>ACURA</td>\n",
       "      <td>MDX 4WD</td>\n",
       "      <td>SUV - SMALL</td>\n",
       "      <td>3.5</td>\n",
       "      <td>6</td>\n",
       "      <td>AS6</td>\n",
       "      <td>Z</td>\n",
       "      <td>12.7</td>\n",
       "      <td>9.1</td>\n",
       "      <td>11.1</td>\n",
       "      <td>25</td>\n",
       "      <td>255</td>\n",
       "    </tr>\n",
       "    <tr>\n",
       "      <th>4</th>\n",
       "      <td>ACURA</td>\n",
       "      <td>RDX AWD</td>\n",
       "      <td>SUV - SMALL</td>\n",
       "      <td>3.5</td>\n",
       "      <td>6</td>\n",
       "      <td>AS6</td>\n",
       "      <td>Z</td>\n",
       "      <td>12.1</td>\n",
       "      <td>8.7</td>\n",
       "      <td>10.6</td>\n",
       "      <td>27</td>\n",
       "      <td>244</td>\n",
       "    </tr>\n",
       "  </tbody>\n",
       "</table>\n",
       "</div>"
      ],
      "text/plain": [
       "    Make       Model Vehicle Class  Engine Size(L)  Cylinders Transmission  \\\n",
       "0  ACURA         ILX       COMPACT             2.0          4          AS5   \n",
       "1  ACURA         ILX       COMPACT             2.4          4           M6   \n",
       "2  ACURA  ILX HYBRID       COMPACT             1.5          4          AV7   \n",
       "3  ACURA     MDX 4WD   SUV - SMALL             3.5          6          AS6   \n",
       "4  ACURA     RDX AWD   SUV - SMALL             3.5          6          AS6   \n",
       "\n",
       "  Fuel Type  Fuel Consumption City (L/100 km)  \\\n",
       "0         Z                               9.9   \n",
       "1         Z                              11.2   \n",
       "2         Z                               6.0   \n",
       "3         Z                              12.7   \n",
       "4         Z                              12.1   \n",
       "\n",
       "   Fuel Consumption Hwy (L/100 km)  Fuel Consumption Comb (L/100 km)  \\\n",
       "0                              6.7                               8.5   \n",
       "1                              7.7                               9.6   \n",
       "2                              5.8                               5.9   \n",
       "3                              9.1                              11.1   \n",
       "4                              8.7                              10.6   \n",
       "\n",
       "   Fuel Consumption Comb (mpg)  CO2 Emissions(g/km)  \n",
       "0                           33                  196  \n",
       "1                           29                  221  \n",
       "2                           48                  136  \n",
       "3                           25                  255  \n",
       "4                           27                  244  "
      ]
     },
     "execution_count": 41,
     "metadata": {},
     "output_type": "execute_result"
    }
   ],
   "source": [
    "df_1 =pd.read_csv(\"/Users/enejanhayytjanova/Desktop/co2.csv\")\n",
    "df_1.head()"
   ]
  },
  {
   "cell_type": "code",
   "execution_count": null,
   "id": "c8ebab78",
   "metadata": {
    "ExecuteTime": {
     "end_time": "2024-02-07T20:55:47.235936Z",
     "start_time": "2024-02-07T20:55:47.216969Z"
    }
   },
   "outputs": [],
   "source": []
  },
  {
   "cell_type": "code",
   "execution_count": 42,
   "id": "700e4deb",
   "metadata": {
    "ExecuteTime": {
     "end_time": "2024-02-10T18:47:45.381564Z",
     "start_time": "2024-02-10T18:47:45.379444Z"
    }
   },
   "outputs": [],
   "source": [
    "df_1.drop(columns=[\"Make\", \"Model\", \"Vehicle Class\",\"Cylinders\", \"Transmission\",\"Fuel Type\", \"Fuel Consumption Comb (mpg)\"], axis=1, inplace=True )"
   ]
  },
  {
   "cell_type": "code",
   "execution_count": 43,
   "id": "36d46ca2",
   "metadata": {
    "ExecuteTime": {
     "end_time": "2024-02-10T18:47:45.386792Z",
     "start_time": "2024-02-10T18:47:45.382379Z"
    }
   },
   "outputs": [
    {
     "data": {
      "text/html": [
       "<div>\n",
       "<style scoped>\n",
       "    .dataframe tbody tr th:only-of-type {\n",
       "        vertical-align: middle;\n",
       "    }\n",
       "\n",
       "    .dataframe tbody tr th {\n",
       "        vertical-align: top;\n",
       "    }\n",
       "\n",
       "    .dataframe thead th {\n",
       "        text-align: right;\n",
       "    }\n",
       "</style>\n",
       "<table border=\"1\" class=\"dataframe\">\n",
       "  <thead>\n",
       "    <tr style=\"text-align: right;\">\n",
       "      <th></th>\n",
       "      <th>Engine Size(L)</th>\n",
       "      <th>Fuel Consumption City (L/100 km)</th>\n",
       "      <th>Fuel Consumption Hwy (L/100 km)</th>\n",
       "      <th>Fuel Consumption Comb (L/100 km)</th>\n",
       "      <th>CO2 Emissions(g/km)</th>\n",
       "    </tr>\n",
       "  </thead>\n",
       "  <tbody>\n",
       "    <tr>\n",
       "      <th>0</th>\n",
       "      <td>2.0</td>\n",
       "      <td>9.9</td>\n",
       "      <td>6.7</td>\n",
       "      <td>8.5</td>\n",
       "      <td>196</td>\n",
       "    </tr>\n",
       "    <tr>\n",
       "      <th>1</th>\n",
       "      <td>2.4</td>\n",
       "      <td>11.2</td>\n",
       "      <td>7.7</td>\n",
       "      <td>9.6</td>\n",
       "      <td>221</td>\n",
       "    </tr>\n",
       "    <tr>\n",
       "      <th>2</th>\n",
       "      <td>1.5</td>\n",
       "      <td>6.0</td>\n",
       "      <td>5.8</td>\n",
       "      <td>5.9</td>\n",
       "      <td>136</td>\n",
       "    </tr>\n",
       "    <tr>\n",
       "      <th>3</th>\n",
       "      <td>3.5</td>\n",
       "      <td>12.7</td>\n",
       "      <td>9.1</td>\n",
       "      <td>11.1</td>\n",
       "      <td>255</td>\n",
       "    </tr>\n",
       "    <tr>\n",
       "      <th>4</th>\n",
       "      <td>3.5</td>\n",
       "      <td>12.1</td>\n",
       "      <td>8.7</td>\n",
       "      <td>10.6</td>\n",
       "      <td>244</td>\n",
       "    </tr>\n",
       "    <tr>\n",
       "      <th>...</th>\n",
       "      <td>...</td>\n",
       "      <td>...</td>\n",
       "      <td>...</td>\n",
       "      <td>...</td>\n",
       "      <td>...</td>\n",
       "    </tr>\n",
       "    <tr>\n",
       "      <th>7380</th>\n",
       "      <td>2.0</td>\n",
       "      <td>10.7</td>\n",
       "      <td>7.7</td>\n",
       "      <td>9.4</td>\n",
       "      <td>219</td>\n",
       "    </tr>\n",
       "    <tr>\n",
       "      <th>7381</th>\n",
       "      <td>2.0</td>\n",
       "      <td>11.2</td>\n",
       "      <td>8.3</td>\n",
       "      <td>9.9</td>\n",
       "      <td>232</td>\n",
       "    </tr>\n",
       "    <tr>\n",
       "      <th>7382</th>\n",
       "      <td>2.0</td>\n",
       "      <td>11.7</td>\n",
       "      <td>8.6</td>\n",
       "      <td>10.3</td>\n",
       "      <td>240</td>\n",
       "    </tr>\n",
       "    <tr>\n",
       "      <th>7383</th>\n",
       "      <td>2.0</td>\n",
       "      <td>11.2</td>\n",
       "      <td>8.3</td>\n",
       "      <td>9.9</td>\n",
       "      <td>232</td>\n",
       "    </tr>\n",
       "    <tr>\n",
       "      <th>7384</th>\n",
       "      <td>2.0</td>\n",
       "      <td>12.2</td>\n",
       "      <td>8.7</td>\n",
       "      <td>10.7</td>\n",
       "      <td>248</td>\n",
       "    </tr>\n",
       "  </tbody>\n",
       "</table>\n",
       "<p>7385 rows × 5 columns</p>\n",
       "</div>"
      ],
      "text/plain": [
       "      Engine Size(L)  Fuel Consumption City (L/100 km)  \\\n",
       "0                2.0                               9.9   \n",
       "1                2.4                              11.2   \n",
       "2                1.5                               6.0   \n",
       "3                3.5                              12.7   \n",
       "4                3.5                              12.1   \n",
       "...              ...                               ...   \n",
       "7380             2.0                              10.7   \n",
       "7381             2.0                              11.2   \n",
       "7382             2.0                              11.7   \n",
       "7383             2.0                              11.2   \n",
       "7384             2.0                              12.2   \n",
       "\n",
       "      Fuel Consumption Hwy (L/100 km)  Fuel Consumption Comb (L/100 km)  \\\n",
       "0                                 6.7                               8.5   \n",
       "1                                 7.7                               9.6   \n",
       "2                                 5.8                               5.9   \n",
       "3                                 9.1                              11.1   \n",
       "4                                 8.7                              10.6   \n",
       "...                               ...                               ...   \n",
       "7380                              7.7                               9.4   \n",
       "7381                              8.3                               9.9   \n",
       "7382                              8.6                              10.3   \n",
       "7383                              8.3                               9.9   \n",
       "7384                              8.7                              10.7   \n",
       "\n",
       "      CO2 Emissions(g/km)  \n",
       "0                     196  \n",
       "1                     221  \n",
       "2                     136  \n",
       "3                     255  \n",
       "4                     244  \n",
       "...                   ...  \n",
       "7380                  219  \n",
       "7381                  232  \n",
       "7382                  240  \n",
       "7383                  232  \n",
       "7384                  248  \n",
       "\n",
       "[7385 rows x 5 columns]"
      ]
     },
     "execution_count": 43,
     "metadata": {},
     "output_type": "execute_result"
    }
   ],
   "source": [
    "df_1"
   ]
  },
  {
   "cell_type": "code",
   "execution_count": 44,
   "id": "917bfb80",
   "metadata": {
    "ExecuteTime": {
     "end_time": "2024-02-10T18:47:45.389565Z",
     "start_time": "2024-02-10T18:47:45.387735Z"
    }
   },
   "outputs": [],
   "source": [
    "X = df_1.drop(\"CO2 Emissions(g/km)\",  axis=1)\n",
    "y = df_1[\"CO2 Emissions(g/km)\"]"
   ]
  },
  {
   "cell_type": "code",
   "execution_count": 45,
   "id": "36be4690",
   "metadata": {
    "ExecuteTime": {
     "end_time": "2024-02-10T18:47:45.393250Z",
     "start_time": "2024-02-10T18:47:45.390346Z"
    }
   },
   "outputs": [],
   "source": [
    "X_train, X_test, y_train, y_test = train_test_split(X, y, test_size=0.3, random_state=101)"
   ]
  },
  {
   "cell_type": "code",
   "execution_count": 46,
   "id": "76a03b1e",
   "metadata": {
    "ExecuteTime": {
     "end_time": "2024-02-10T18:47:45.397769Z",
     "start_time": "2024-02-10T18:47:45.394231Z"
    }
   },
   "outputs": [
    {
     "data": {
      "text/plain": [
       "array([[-0.86311156, -0.67523233, -0.83038175, -0.71944554],\n",
       "       [-0.86311156, -0.84706553, -0.9204934 , -0.89274411],\n",
       "       [ 1.57256625,  1.73043245,  2.1883586 ,  1.91469271],\n",
       "       ...,\n",
       "       [ 1.57256625,  0.81398872,  0.79162799,  0.80558187],\n",
       "       [-0.56787789,  0.87126645,  0.79162799,  0.84024158],\n",
       "       [-0.56787789, -0.3602048 , -0.28971184, -0.33818869]])"
      ]
     },
     "execution_count": 46,
     "metadata": {},
     "output_type": "execute_result"
    }
   ],
   "source": [
    "X_train_scaled = scaler.fit_transform(X_train)\n",
    "X_train_scaled"
   ]
  },
  {
   "cell_type": "code",
   "execution_count": 47,
   "id": "6cbefeca",
   "metadata": {
    "ExecuteTime": {
     "end_time": "2024-02-10T18:47:45.403419Z",
     "start_time": "2024-02-10T18:47:45.399074Z"
    }
   },
   "outputs": [
    {
     "data": {
      "text/plain": [
       "array([[-0.56787789, -0.3602048 ,  0.20590225, -0.16489012],\n",
       "       [-0.86311156, -2.02125906, -1.50621914, -1.86321609],\n",
       "       [ 0.31782313,  0.64215552,  0.38612555,  0.56296387],\n",
       "       ...,\n",
       "       [ 1.86779992,  1.61587698,  2.27847025,  1.84537328],\n",
       "       [ 2.08922518,  2.24593204,  1.3322979 ,  1.94935242],\n",
       "       [-0.12502738, -0.13109387, -0.33476766, -0.23420955]])"
      ]
     },
     "execution_count": 47,
     "metadata": {},
     "output_type": "execute_result"
    }
   ],
   "source": [
    "X_test_scaled = scaler.transform(X_test)\n",
    "X_test_scaled"
   ]
  },
  {
   "cell_type": "code",
   "execution_count": 48,
   "id": "e8ab7429",
   "metadata": {
    "ExecuteTime": {
     "end_time": "2024-02-10T18:47:45.406078Z",
     "start_time": "2024-02-10T18:47:45.404406Z"
    }
   },
   "outputs": [],
   "source": [
    "lm_1 = LinearRegression()"
   ]
  },
  {
   "cell_type": "code",
   "execution_count": 49,
   "id": "09b29841",
   "metadata": {
    "ExecuteTime": {
     "end_time": "2024-02-10T18:47:45.410392Z",
     "start_time": "2024-02-10T18:47:45.406916Z"
    }
   },
   "outputs": [
    {
     "data": {
      "text/html": [
       "<style>#sk-container-id-2 {color: black;}#sk-container-id-2 pre{padding: 0;}#sk-container-id-2 div.sk-toggleable {background-color: white;}#sk-container-id-2 label.sk-toggleable__label {cursor: pointer;display: block;width: 100%;margin-bottom: 0;padding: 0.3em;box-sizing: border-box;text-align: center;}#sk-container-id-2 label.sk-toggleable__label-arrow:before {content: \"▸\";float: left;margin-right: 0.25em;color: #696969;}#sk-container-id-2 label.sk-toggleable__label-arrow:hover:before {color: black;}#sk-container-id-2 div.sk-estimator:hover label.sk-toggleable__label-arrow:before {color: black;}#sk-container-id-2 div.sk-toggleable__content {max-height: 0;max-width: 0;overflow: hidden;text-align: left;background-color: #f0f8ff;}#sk-container-id-2 div.sk-toggleable__content pre {margin: 0.2em;color: black;border-radius: 0.25em;background-color: #f0f8ff;}#sk-container-id-2 input.sk-toggleable__control:checked~div.sk-toggleable__content {max-height: 200px;max-width: 100%;overflow: auto;}#sk-container-id-2 input.sk-toggleable__control:checked~label.sk-toggleable__label-arrow:before {content: \"▾\";}#sk-container-id-2 div.sk-estimator input.sk-toggleable__control:checked~label.sk-toggleable__label {background-color: #d4ebff;}#sk-container-id-2 div.sk-label input.sk-toggleable__control:checked~label.sk-toggleable__label {background-color: #d4ebff;}#sk-container-id-2 input.sk-hidden--visually {border: 0;clip: rect(1px 1px 1px 1px);clip: rect(1px, 1px, 1px, 1px);height: 1px;margin: -1px;overflow: hidden;padding: 0;position: absolute;width: 1px;}#sk-container-id-2 div.sk-estimator {font-family: monospace;background-color: #f0f8ff;border: 1px dotted black;border-radius: 0.25em;box-sizing: border-box;margin-bottom: 0.5em;}#sk-container-id-2 div.sk-estimator:hover {background-color: #d4ebff;}#sk-container-id-2 div.sk-parallel-item::after {content: \"\";width: 100%;border-bottom: 1px solid gray;flex-grow: 1;}#sk-container-id-2 div.sk-label:hover label.sk-toggleable__label {background-color: #d4ebff;}#sk-container-id-2 div.sk-serial::before {content: \"\";position: absolute;border-left: 1px solid gray;box-sizing: border-box;top: 0;bottom: 0;left: 50%;z-index: 0;}#sk-container-id-2 div.sk-serial {display: flex;flex-direction: column;align-items: center;background-color: white;padding-right: 0.2em;padding-left: 0.2em;position: relative;}#sk-container-id-2 div.sk-item {position: relative;z-index: 1;}#sk-container-id-2 div.sk-parallel {display: flex;align-items: stretch;justify-content: center;background-color: white;position: relative;}#sk-container-id-2 div.sk-item::before, #sk-container-id-2 div.sk-parallel-item::before {content: \"\";position: absolute;border-left: 1px solid gray;box-sizing: border-box;top: 0;bottom: 0;left: 50%;z-index: -1;}#sk-container-id-2 div.sk-parallel-item {display: flex;flex-direction: column;z-index: 1;position: relative;background-color: white;}#sk-container-id-2 div.sk-parallel-item:first-child::after {align-self: flex-end;width: 50%;}#sk-container-id-2 div.sk-parallel-item:last-child::after {align-self: flex-start;width: 50%;}#sk-container-id-2 div.sk-parallel-item:only-child::after {width: 0;}#sk-container-id-2 div.sk-dashed-wrapped {border: 1px dashed gray;margin: 0 0.4em 0.5em 0.4em;box-sizing: border-box;padding-bottom: 0.4em;background-color: white;}#sk-container-id-2 div.sk-label label {font-family: monospace;font-weight: bold;display: inline-block;line-height: 1.2em;}#sk-container-id-2 div.sk-label-container {text-align: center;}#sk-container-id-2 div.sk-container {/* jupyter's `normalize.less` sets `[hidden] { display: none; }` but bootstrap.min.css set `[hidden] { display: none !important; }` so we also need the `!important` here to be able to override the default hidden behavior on the sphinx rendered scikit-learn.org. See: https://github.com/scikit-learn/scikit-learn/issues/21755 */display: inline-block !important;position: relative;}#sk-container-id-2 div.sk-text-repr-fallback {display: none;}</style><div id=\"sk-container-id-2\" class=\"sk-top-container\"><div class=\"sk-text-repr-fallback\"><pre>LinearRegression()</pre><b>In a Jupyter environment, please rerun this cell to show the HTML representation or trust the notebook. <br />On GitHub, the HTML representation is unable to render, please try loading this page with nbviewer.org.</b></div><div class=\"sk-container\" hidden><div class=\"sk-item\"><div class=\"sk-estimator sk-toggleable\"><input class=\"sk-toggleable__control sk-hidden--visually\" id=\"sk-estimator-id-2\" type=\"checkbox\" checked><label for=\"sk-estimator-id-2\" class=\"sk-toggleable__label sk-toggleable__label-arrow\">LinearRegression</label><div class=\"sk-toggleable__content\"><pre>LinearRegression()</pre></div></div></div></div></div>"
      ],
      "text/plain": [
       "LinearRegression()"
      ]
     },
     "execution_count": 49,
     "metadata": {},
     "output_type": "execute_result"
    }
   ],
   "source": [
    "lm_1.fit(X_train_scaled, y_train)"
   ]
  },
  {
   "cell_type": "code",
   "execution_count": 50,
   "id": "3f599428",
   "metadata": {
    "ExecuteTime": {
     "end_time": "2024-02-10T18:47:45.434926Z",
     "start_time": "2024-02-10T18:47:45.411165Z"
    }
   },
   "outputs": [],
   "source": [
    "y_pred = lm_1.predict(X_test_scaled)\n",
    "y_train_pred = lm_1.predict(X_train_scaled)"
   ]
  },
  {
   "cell_type": "code",
   "execution_count": 51,
   "id": "78231cab",
   "metadata": {
    "ExecuteTime": {
     "end_time": "2024-02-10T18:47:45.458415Z",
     "start_time": "2024-02-10T18:47:45.443879Z"
    }
   },
   "outputs": [
    {
     "data": {
      "text/html": [
       "<div>\n",
       "<style scoped>\n",
       "    .dataframe tbody tr th:only-of-type {\n",
       "        vertical-align: middle;\n",
       "    }\n",
       "\n",
       "    .dataframe tbody tr th {\n",
       "        vertical-align: top;\n",
       "    }\n",
       "\n",
       "    .dataframe thead th {\n",
       "        text-align: right;\n",
       "    }\n",
       "</style>\n",
       "<table border=\"1\" class=\"dataframe\">\n",
       "  <thead>\n",
       "    <tr style=\"text-align: right;\">\n",
       "      <th></th>\n",
       "      <th>linear_train</th>\n",
       "      <th>linear_test</th>\n",
       "    </tr>\n",
       "  </thead>\n",
       "  <tbody>\n",
       "    <tr>\n",
       "      <th>R2</th>\n",
       "      <td>0.873668</td>\n",
       "      <td>0.873554</td>\n",
       "    </tr>\n",
       "    <tr>\n",
       "      <th>mae</th>\n",
       "      <td>13.424130</td>\n",
       "      <td>13.156975</td>\n",
       "    </tr>\n",
       "    <tr>\n",
       "      <th>mse</th>\n",
       "      <td>434.941944</td>\n",
       "      <td>427.074018</td>\n",
       "    </tr>\n",
       "    <tr>\n",
       "      <th>rmse</th>\n",
       "      <td>20.855262</td>\n",
       "      <td>20.665769</td>\n",
       "    </tr>\n",
       "  </tbody>\n",
       "</table>\n",
       "</div>"
      ],
      "text/plain": [
       "      linear_train  linear_test\n",
       "R2        0.873668     0.873554\n",
       "mae      13.424130    13.156975\n",
       "mse     434.941944   427.074018\n",
       "rmse     20.855262    20.665769"
      ]
     },
     "execution_count": 51,
     "metadata": {},
     "output_type": "execute_result"
    }
   ],
   "source": [
    "ls_1 = train_val(y_train, y_train_pred, y_test, y_pred, \"linear\") \n",
    "ls_1 "
   ]
  },
  {
   "cell_type": "code",
   "execution_count": 52,
   "id": "75bfc8ad",
   "metadata": {
    "ExecuteTime": {
     "end_time": "2024-02-10T18:47:45.477674Z",
     "start_time": "2024-02-10T18:47:45.459723Z"
    }
   },
   "outputs": [],
   "source": [
    "model = LinearRegression()\n",
    "scores = cross_validate(model, X_train_scaled, y_train, scoring =['r2',\n",
    "                                                                  'neg_mean_absolute_error',\n",
    "                                                                  'neg_mean_squared_error',\n",
    "                                                                  'neg_root_mean_squared_error',], cv = 5)"
   ]
  },
  {
   "cell_type": "code",
   "execution_count": 53,
   "id": "b343ed93",
   "metadata": {
    "ExecuteTime": {
     "end_time": "2024-02-10T18:47:45.485033Z",
     "start_time": "2024-02-10T18:47:45.479537Z"
    }
   },
   "outputs": [
    {
     "data": {
      "text/plain": [
       "cv_test_r2                               0.873346\n",
       "cv_test_neg_mean_absolute_error        -13.437805\n",
       "cv_test_neg_mean_squared_error        -436.083450\n",
       "cv_test_neg_root_mean_squared_error    -20.853070\n",
       "dtype: float64"
      ]
     },
     "execution_count": 53,
     "metadata": {},
     "output_type": "execute_result"
    }
   ],
   "source": [
    "cv_df = pd.DataFrame(scores, index=range(1, 6)).add_prefix(\"cv_\")\n",
    "cv_df.iloc[:, 2:].mean()"
   ]
  },
  {
   "cell_type": "code",
   "execution_count": 54,
   "id": "a4a91a21",
   "metadata": {
    "ExecuteTime": {
     "end_time": "2024-02-10T18:47:45.495913Z",
     "start_time": "2024-02-10T18:47:45.487083Z"
    }
   },
   "outputs": [
    {
     "data": {
      "text/html": [
       "<div>\n",
       "<style scoped>\n",
       "    .dataframe tbody tr th:only-of-type {\n",
       "        vertical-align: middle;\n",
       "    }\n",
       "\n",
       "    .dataframe tbody tr th {\n",
       "        vertical-align: top;\n",
       "    }\n",
       "\n",
       "    .dataframe thead th {\n",
       "        text-align: right;\n",
       "    }\n",
       "</style>\n",
       "<table border=\"1\" class=\"dataframe\">\n",
       "  <thead>\n",
       "    <tr style=\"text-align: right;\">\n",
       "      <th></th>\n",
       "      <th>linear_train</th>\n",
       "      <th>linear_test</th>\n",
       "    </tr>\n",
       "  </thead>\n",
       "  <tbody>\n",
       "    <tr>\n",
       "      <th>R2</th>\n",
       "      <td>0.873668</td>\n",
       "      <td>0.873554</td>\n",
       "    </tr>\n",
       "    <tr>\n",
       "      <th>mae</th>\n",
       "      <td>13.424130</td>\n",
       "      <td>13.156975</td>\n",
       "    </tr>\n",
       "    <tr>\n",
       "      <th>mse</th>\n",
       "      <td>434.941944</td>\n",
       "      <td>427.074018</td>\n",
       "    </tr>\n",
       "    <tr>\n",
       "      <th>rmse</th>\n",
       "      <td>20.855262</td>\n",
       "      <td>20.665769</td>\n",
       "    </tr>\n",
       "  </tbody>\n",
       "</table>\n",
       "</div>"
      ],
      "text/plain": [
       "      linear_train  linear_test\n",
       "R2        0.873668     0.873554\n",
       "mae      13.424130    13.156975\n",
       "mse     434.941944   427.074018\n",
       "rmse     20.855262    20.665769"
      ]
     },
     "execution_count": 54,
     "metadata": {},
     "output_type": "execute_result"
    }
   ],
   "source": [
    "train_val(y_train, y_train_pred, y_test, y_pred, \"linear\")"
   ]
  },
  {
   "cell_type": "code",
   "execution_count": 55,
   "id": "9e5bf85e",
   "metadata": {
    "ExecuteTime": {
     "end_time": "2024-02-10T18:47:45.501190Z",
     "start_time": "2024-02-10T18:47:45.497884Z"
    }
   },
   "outputs": [
    {
     "data": {
      "text/plain": [
       "array([16.98517207, 14.96294262,  4.57365974, 20.74378032])"
      ]
     },
     "execution_count": 55,
     "metadata": {},
     "output_type": "execute_result"
    }
   ],
   "source": [
    "lm_1.coef_"
   ]
  },
  {
   "cell_type": "code",
   "execution_count": 56,
   "id": "dbd08078",
   "metadata": {
    "ExecuteTime": {
     "end_time": "2024-02-10T18:47:45.506403Z",
     "start_time": "2024-02-10T18:47:45.503033Z"
    }
   },
   "outputs": [
    {
     "data": {
      "text/html": [
       "<div>\n",
       "<style scoped>\n",
       "    .dataframe tbody tr th:only-of-type {\n",
       "        vertical-align: middle;\n",
       "    }\n",
       "\n",
       "    .dataframe tbody tr th {\n",
       "        vertical-align: top;\n",
       "    }\n",
       "\n",
       "    .dataframe thead th {\n",
       "        text-align: right;\n",
       "    }\n",
       "</style>\n",
       "<table border=\"1\" class=\"dataframe\">\n",
       "  <thead>\n",
       "    <tr style=\"text-align: right;\">\n",
       "      <th></th>\n",
       "      <th>lm_1_coef</th>\n",
       "    </tr>\n",
       "  </thead>\n",
       "  <tbody>\n",
       "    <tr>\n",
       "      <th>0</th>\n",
       "      <td>16.985172</td>\n",
       "    </tr>\n",
       "    <tr>\n",
       "      <th>1</th>\n",
       "      <td>14.962943</td>\n",
       "    </tr>\n",
       "    <tr>\n",
       "      <th>2</th>\n",
       "      <td>4.573660</td>\n",
       "    </tr>\n",
       "    <tr>\n",
       "      <th>3</th>\n",
       "      <td>20.743780</td>\n",
       "    </tr>\n",
       "  </tbody>\n",
       "</table>\n",
       "</div>"
      ],
      "text/plain": [
       "   lm_1_coef\n",
       "0  16.985172\n",
       "1  14.962943\n",
       "2   4.573660\n",
       "3  20.743780"
      ]
     },
     "execution_count": 56,
     "metadata": {},
     "output_type": "execute_result"
    }
   ],
   "source": [
    "lm_1_df = pd.DataFrame(lm_1.coef_, columns = [\"lm_1_coef\"])\n",
    "lm_1_df"
   ]
  },
  {
   "cell_type": "markdown",
   "id": "b6a5f291",
   "metadata": {},
   "source": [
    "## Regularization"
   ]
  },
  {
   "cell_type": "markdown",
   "id": "1a714b0e",
   "metadata": {},
   "source": [
    "### Ridge"
   ]
  },
  {
   "cell_type": "code",
   "execution_count": 57,
   "id": "57808440",
   "metadata": {
    "ExecuteTime": {
     "end_time": "2024-02-10T18:47:45.510025Z",
     "start_time": "2024-02-10T18:47:45.508008Z"
    }
   },
   "outputs": [],
   "source": [
    "from sklearn.linear_model import Ridge"
   ]
  },
  {
   "cell_type": "code",
   "execution_count": 58,
   "id": "be20de0a",
   "metadata": {
    "ExecuteTime": {
     "end_time": "2024-02-10T18:47:45.513542Z",
     "start_time": "2024-02-10T18:47:45.511507Z"
    }
   },
   "outputs": [],
   "source": [
    "ridge_model = Ridge(alpha=1.0, random_state = 42)"
   ]
  },
  {
   "cell_type": "code",
   "execution_count": 59,
   "id": "bc5fb23d",
   "metadata": {
    "ExecuteTime": {
     "end_time": "2024-02-10T18:47:45.520381Z",
     "start_time": "2024-02-10T18:47:45.515245Z"
    }
   },
   "outputs": [
    {
     "data": {
      "text/html": [
       "<style>#sk-container-id-3 {color: black;}#sk-container-id-3 pre{padding: 0;}#sk-container-id-3 div.sk-toggleable {background-color: white;}#sk-container-id-3 label.sk-toggleable__label {cursor: pointer;display: block;width: 100%;margin-bottom: 0;padding: 0.3em;box-sizing: border-box;text-align: center;}#sk-container-id-3 label.sk-toggleable__label-arrow:before {content: \"▸\";float: left;margin-right: 0.25em;color: #696969;}#sk-container-id-3 label.sk-toggleable__label-arrow:hover:before {color: black;}#sk-container-id-3 div.sk-estimator:hover label.sk-toggleable__label-arrow:before {color: black;}#sk-container-id-3 div.sk-toggleable__content {max-height: 0;max-width: 0;overflow: hidden;text-align: left;background-color: #f0f8ff;}#sk-container-id-3 div.sk-toggleable__content pre {margin: 0.2em;color: black;border-radius: 0.25em;background-color: #f0f8ff;}#sk-container-id-3 input.sk-toggleable__control:checked~div.sk-toggleable__content {max-height: 200px;max-width: 100%;overflow: auto;}#sk-container-id-3 input.sk-toggleable__control:checked~label.sk-toggleable__label-arrow:before {content: \"▾\";}#sk-container-id-3 div.sk-estimator input.sk-toggleable__control:checked~label.sk-toggleable__label {background-color: #d4ebff;}#sk-container-id-3 div.sk-label input.sk-toggleable__control:checked~label.sk-toggleable__label {background-color: #d4ebff;}#sk-container-id-3 input.sk-hidden--visually {border: 0;clip: rect(1px 1px 1px 1px);clip: rect(1px, 1px, 1px, 1px);height: 1px;margin: -1px;overflow: hidden;padding: 0;position: absolute;width: 1px;}#sk-container-id-3 div.sk-estimator {font-family: monospace;background-color: #f0f8ff;border: 1px dotted black;border-radius: 0.25em;box-sizing: border-box;margin-bottom: 0.5em;}#sk-container-id-3 div.sk-estimator:hover {background-color: #d4ebff;}#sk-container-id-3 div.sk-parallel-item::after {content: \"\";width: 100%;border-bottom: 1px solid gray;flex-grow: 1;}#sk-container-id-3 div.sk-label:hover label.sk-toggleable__label {background-color: #d4ebff;}#sk-container-id-3 div.sk-serial::before {content: \"\";position: absolute;border-left: 1px solid gray;box-sizing: border-box;top: 0;bottom: 0;left: 50%;z-index: 0;}#sk-container-id-3 div.sk-serial {display: flex;flex-direction: column;align-items: center;background-color: white;padding-right: 0.2em;padding-left: 0.2em;position: relative;}#sk-container-id-3 div.sk-item {position: relative;z-index: 1;}#sk-container-id-3 div.sk-parallel {display: flex;align-items: stretch;justify-content: center;background-color: white;position: relative;}#sk-container-id-3 div.sk-item::before, #sk-container-id-3 div.sk-parallel-item::before {content: \"\";position: absolute;border-left: 1px solid gray;box-sizing: border-box;top: 0;bottom: 0;left: 50%;z-index: -1;}#sk-container-id-3 div.sk-parallel-item {display: flex;flex-direction: column;z-index: 1;position: relative;background-color: white;}#sk-container-id-3 div.sk-parallel-item:first-child::after {align-self: flex-end;width: 50%;}#sk-container-id-3 div.sk-parallel-item:last-child::after {align-self: flex-start;width: 50%;}#sk-container-id-3 div.sk-parallel-item:only-child::after {width: 0;}#sk-container-id-3 div.sk-dashed-wrapped {border: 1px dashed gray;margin: 0 0.4em 0.5em 0.4em;box-sizing: border-box;padding-bottom: 0.4em;background-color: white;}#sk-container-id-3 div.sk-label label {font-family: monospace;font-weight: bold;display: inline-block;line-height: 1.2em;}#sk-container-id-3 div.sk-label-container {text-align: center;}#sk-container-id-3 div.sk-container {/* jupyter's `normalize.less` sets `[hidden] { display: none; }` but bootstrap.min.css set `[hidden] { display: none !important; }` so we also need the `!important` here to be able to override the default hidden behavior on the sphinx rendered scikit-learn.org. See: https://github.com/scikit-learn/scikit-learn/issues/21755 */display: inline-block !important;position: relative;}#sk-container-id-3 div.sk-text-repr-fallback {display: none;}</style><div id=\"sk-container-id-3\" class=\"sk-top-container\"><div class=\"sk-text-repr-fallback\"><pre>Ridge(random_state=42)</pre><b>In a Jupyter environment, please rerun this cell to show the HTML representation or trust the notebook. <br />On GitHub, the HTML representation is unable to render, please try loading this page with nbviewer.org.</b></div><div class=\"sk-container\" hidden><div class=\"sk-item\"><div class=\"sk-estimator sk-toggleable\"><input class=\"sk-toggleable__control sk-hidden--visually\" id=\"sk-estimator-id-3\" type=\"checkbox\" checked><label for=\"sk-estimator-id-3\" class=\"sk-toggleable__label sk-toggleable__label-arrow\">Ridge</label><div class=\"sk-toggleable__content\"><pre>Ridge(random_state=42)</pre></div></div></div></div></div>"
      ],
      "text/plain": [
       "Ridge(random_state=42)"
      ]
     },
     "execution_count": 59,
     "metadata": {},
     "output_type": "execute_result"
    }
   ],
   "source": [
    "ridge_model.fit(X_train_scaled, y_train)"
   ]
  },
  {
   "cell_type": "code",
   "execution_count": 60,
   "id": "af0a7389",
   "metadata": {
    "ExecuteTime": {
     "end_time": "2024-02-10T18:47:45.526886Z",
     "start_time": "2024-02-10T18:47:45.522130Z"
    }
   },
   "outputs": [],
   "source": [
    "y_pred = ridge_model.predict(X_test_scaled)\n",
    "y_train_pred = ridge_model.predict(X_train_scaled)"
   ]
  },
  {
   "cell_type": "code",
   "execution_count": 61,
   "id": "e38b5aa4",
   "metadata": {
    "ExecuteTime": {
     "end_time": "2024-02-10T18:47:45.537595Z",
     "start_time": "2024-02-10T18:47:45.528214Z"
    }
   },
   "outputs": [
    {
     "data": {
      "text/html": [
       "<div>\n",
       "<style scoped>\n",
       "    .dataframe tbody tr th:only-of-type {\n",
       "        vertical-align: middle;\n",
       "    }\n",
       "\n",
       "    .dataframe tbody tr th {\n",
       "        vertical-align: top;\n",
       "    }\n",
       "\n",
       "    .dataframe thead th {\n",
       "        text-align: right;\n",
       "    }\n",
       "</style>\n",
       "<table border=\"1\" class=\"dataframe\">\n",
       "  <thead>\n",
       "    <tr style=\"text-align: right;\">\n",
       "      <th></th>\n",
       "      <th>ridge_train</th>\n",
       "      <th>ridge_test</th>\n",
       "    </tr>\n",
       "  </thead>\n",
       "  <tbody>\n",
       "    <tr>\n",
       "      <th>R2</th>\n",
       "      <td>0.873667</td>\n",
       "      <td>0.873543</td>\n",
       "    </tr>\n",
       "    <tr>\n",
       "      <th>mae</th>\n",
       "      <td>13.424475</td>\n",
       "      <td>13.158126</td>\n",
       "    </tr>\n",
       "    <tr>\n",
       "      <th>mse</th>\n",
       "      <td>434.944562</td>\n",
       "      <td>427.110221</td>\n",
       "    </tr>\n",
       "    <tr>\n",
       "      <th>rmse</th>\n",
       "      <td>20.855325</td>\n",
       "      <td>20.666645</td>\n",
       "    </tr>\n",
       "  </tbody>\n",
       "</table>\n",
       "</div>"
      ],
      "text/plain": [
       "      ridge_train  ridge_test\n",
       "R2       0.873667    0.873543\n",
       "mae     13.424475   13.158126\n",
       "mse    434.944562  427.110221\n",
       "rmse    20.855325   20.666645"
      ]
     },
     "execution_count": 61,
     "metadata": {},
     "output_type": "execute_result"
    }
   ],
   "source": [
    "rs = train_val(y_train, y_train_pred, y_test, y_pred, \"ridge\")\n",
    "rs"
   ]
  },
  {
   "cell_type": "code",
   "execution_count": 62,
   "id": "ec7c9d9b",
   "metadata": {
    "ExecuteTime": {
     "end_time": "2024-02-10T18:47:45.543871Z",
     "start_time": "2024-02-10T18:47:45.540152Z"
    }
   },
   "outputs": [
    {
     "data": {
      "text/html": [
       "<div>\n",
       "<style scoped>\n",
       "    .dataframe tbody tr th:only-of-type {\n",
       "        vertical-align: middle;\n",
       "    }\n",
       "\n",
       "    .dataframe tbody tr th {\n",
       "        vertical-align: top;\n",
       "    }\n",
       "\n",
       "    .dataframe thead th {\n",
       "        text-align: right;\n",
       "    }\n",
       "</style>\n",
       "<table border=\"1\" class=\"dataframe\">\n",
       "  <thead>\n",
       "    <tr style=\"text-align: right;\">\n",
       "      <th></th>\n",
       "      <th>linear_train</th>\n",
       "      <th>linear_test</th>\n",
       "      <th>ridge_train</th>\n",
       "      <th>ridge_test</th>\n",
       "    </tr>\n",
       "  </thead>\n",
       "  <tbody>\n",
       "    <tr>\n",
       "      <th>R2</th>\n",
       "      <td>0.873668</td>\n",
       "      <td>0.873554</td>\n",
       "      <td>0.873667</td>\n",
       "      <td>0.873543</td>\n",
       "    </tr>\n",
       "    <tr>\n",
       "      <th>mae</th>\n",
       "      <td>13.424130</td>\n",
       "      <td>13.156975</td>\n",
       "      <td>13.424475</td>\n",
       "      <td>13.158126</td>\n",
       "    </tr>\n",
       "    <tr>\n",
       "      <th>mse</th>\n",
       "      <td>434.941944</td>\n",
       "      <td>427.074018</td>\n",
       "      <td>434.944562</td>\n",
       "      <td>427.110221</td>\n",
       "    </tr>\n",
       "    <tr>\n",
       "      <th>rmse</th>\n",
       "      <td>20.855262</td>\n",
       "      <td>20.665769</td>\n",
       "      <td>20.855325</td>\n",
       "      <td>20.666645</td>\n",
       "    </tr>\n",
       "  </tbody>\n",
       "</table>\n",
       "</div>"
      ],
      "text/plain": [
       "      linear_train  linear_test  ridge_train  ridge_test\n",
       "R2        0.873668     0.873554     0.873667    0.873543\n",
       "mae      13.424130    13.156975    13.424475   13.158126\n",
       "mse     434.941944   427.074018   434.944562  427.110221\n",
       "rmse     20.855262    20.665769    20.855325   20.666645"
      ]
     },
     "execution_count": 62,
     "metadata": {},
     "output_type": "execute_result"
    }
   ],
   "source": [
    "pd.concat([ls_1, rs], axis = 1)"
   ]
  },
  {
   "cell_type": "code",
   "execution_count": 63,
   "id": "121dd2c7",
   "metadata": {
    "ExecuteTime": {
     "end_time": "2024-02-10T18:47:45.561370Z",
     "start_time": "2024-02-10T18:47:45.545431Z"
    }
   },
   "outputs": [],
   "source": [
    "model = Ridge(alpha=1.0, random_state = 42)\n",
    "scores = cross_validate(model, X_train_scaled, y_train, scoring =['r2',\n",
    "                                                                  'neg_mean_absolute_error',\n",
    "                                                                  'neg_mean_squared_error',\n",
    "                                                                  'neg_root_mean_squared_error',], cv = 5)"
   ]
  },
  {
   "cell_type": "code",
   "execution_count": 64,
   "id": "eb7c5ca9",
   "metadata": {
    "ExecuteTime": {
     "end_time": "2024-02-10T18:47:45.583263Z",
     "start_time": "2024-02-10T18:47:45.563482Z"
    }
   },
   "outputs": [
    {
     "data": {
      "text/plain": [
       "cvr_test_r2                               0.873378\n",
       "cvr_test_neg_mean_absolute_error        -13.435594\n",
       "cvr_test_neg_mean_squared_error        -435.974781\n",
       "cvr_test_neg_root_mean_squared_error    -20.850506\n",
       "dtype: float64"
      ]
     },
     "execution_count": 64,
     "metadata": {},
     "output_type": "execute_result"
    }
   ],
   "source": [
    "cvr_df = pd.DataFrame(scores, index=range(1, 6)).add_prefix(\"cvr_\")\n",
    "cvr_df.iloc[:, 2:].mean()"
   ]
  },
  {
   "cell_type": "code",
   "execution_count": 65,
   "id": "7a7f4c02",
   "metadata": {
    "ExecuteTime": {
     "end_time": "2024-02-10T18:47:45.623494Z",
     "start_time": "2024-02-10T18:47:45.597037Z"
    }
   },
   "outputs": [
    {
     "data": {
      "text/html": [
       "<div>\n",
       "<style scoped>\n",
       "    .dataframe tbody tr th:only-of-type {\n",
       "        vertical-align: middle;\n",
       "    }\n",
       "\n",
       "    .dataframe tbody tr th {\n",
       "        vertical-align: top;\n",
       "    }\n",
       "\n",
       "    .dataframe thead th {\n",
       "        text-align: right;\n",
       "    }\n",
       "</style>\n",
       "<table border=\"1\" class=\"dataframe\">\n",
       "  <thead>\n",
       "    <tr style=\"text-align: right;\">\n",
       "      <th></th>\n",
       "      <th>ridge_train</th>\n",
       "      <th>ridge_test</th>\n",
       "    </tr>\n",
       "  </thead>\n",
       "  <tbody>\n",
       "    <tr>\n",
       "      <th>R2</th>\n",
       "      <td>0.873667</td>\n",
       "      <td>0.873543</td>\n",
       "    </tr>\n",
       "    <tr>\n",
       "      <th>mae</th>\n",
       "      <td>13.424475</td>\n",
       "      <td>13.158126</td>\n",
       "    </tr>\n",
       "    <tr>\n",
       "      <th>mse</th>\n",
       "      <td>434.944562</td>\n",
       "      <td>427.110221</td>\n",
       "    </tr>\n",
       "    <tr>\n",
       "      <th>rmse</th>\n",
       "      <td>20.855325</td>\n",
       "      <td>20.666645</td>\n",
       "    </tr>\n",
       "  </tbody>\n",
       "</table>\n",
       "</div>"
      ],
      "text/plain": [
       "      ridge_train  ridge_test\n",
       "R2       0.873667    0.873543\n",
       "mae     13.424475   13.158126\n",
       "mse    434.944562  427.110221\n",
       "rmse    20.855325   20.666645"
      ]
     },
     "execution_count": 65,
     "metadata": {},
     "output_type": "execute_result"
    }
   ],
   "source": [
    "train_val(y_train, y_train_pred, y_test, y_pred, \"ridge\")"
   ]
  },
  {
   "cell_type": "code",
   "execution_count": 66,
   "id": "58224f5e",
   "metadata": {
    "ExecuteTime": {
     "end_time": "2024-02-10T18:47:45.778455Z",
     "start_time": "2024-02-10T18:47:45.624810Z"
    }
   },
   "outputs": [
    {
     "data": {
      "image/png": "[encoded data removed]",
      "text/plain": [
       "<Figure size 1000x600 with 1 Axes>"
      ]
     },
     "metadata": {},
     "output_type": "display_data"
    }
   ],
   "source": [
    "sns.lineplot(data = cvr_df.iloc[:, 2:])\n",
    "plt.show();"
   ]
  },
  {
   "cell_type": "code",
   "execution_count": 67,
   "id": "487432be",
   "metadata": {
    "ExecuteTime": {
     "end_time": "2024-02-10T18:47:45.783411Z",
     "start_time": "2024-02-10T18:47:45.780903Z"
    }
   },
   "outputs": [
    {
     "data": {
      "text/plain": [
       "array([16.98574739, 17.19923834,  5.7714866 , 17.34759944])"
      ]
     },
     "execution_count": 67,
     "metadata": {},
     "output_type": "execute_result"
    }
   ],
   "source": [
    "ridge_model.coef_"
   ]
  },
  {
   "cell_type": "code",
   "execution_count": 68,
   "id": "ba369655",
   "metadata": {
    "ExecuteTime": {
     "end_time": "2024-02-10T18:47:45.787372Z",
     "start_time": "2024-02-10T18:47:45.784778Z"
    }
   },
   "outputs": [],
   "source": [
    "rm_df = pd.DataFrame(ridge_model.coef_, columns = [\"ridge_coef_1\"])"
   ]
  },
  {
   "cell_type": "code",
   "execution_count": 69,
   "id": "0c72b4ca",
   "metadata": {
    "ExecuteTime": {
     "end_time": "2024-02-10T18:47:45.793578Z",
     "start_time": "2024-02-10T18:47:45.788745Z"
    }
   },
   "outputs": [
    {
     "data": {
      "text/html": [
       "<div>\n",
       "<style scoped>\n",
       "    .dataframe tbody tr th:only-of-type {\n",
       "        vertical-align: middle;\n",
       "    }\n",
       "\n",
       "    .dataframe tbody tr th {\n",
       "        vertical-align: top;\n",
       "    }\n",
       "\n",
       "    .dataframe thead th {\n",
       "        text-align: right;\n",
       "    }\n",
       "</style>\n",
       "<table border=\"1\" class=\"dataframe\">\n",
       "  <thead>\n",
       "    <tr style=\"text-align: right;\">\n",
       "      <th></th>\n",
       "      <th>lm_1_coef</th>\n",
       "      <th>ridge_coef_1</th>\n",
       "    </tr>\n",
       "  </thead>\n",
       "  <tbody>\n",
       "    <tr>\n",
       "      <th>0</th>\n",
       "      <td>16.985172</td>\n",
       "      <td>16.985747</td>\n",
       "    </tr>\n",
       "    <tr>\n",
       "      <th>1</th>\n",
       "      <td>14.962943</td>\n",
       "      <td>17.199238</td>\n",
       "    </tr>\n",
       "    <tr>\n",
       "      <th>2</th>\n",
       "      <td>4.573660</td>\n",
       "      <td>5.771487</td>\n",
       "    </tr>\n",
       "    <tr>\n",
       "      <th>3</th>\n",
       "      <td>20.743780</td>\n",
       "      <td>17.347599</td>\n",
       "    </tr>\n",
       "  </tbody>\n",
       "</table>\n",
       "</div>"
      ],
      "text/plain": [
       "   lm_1_coef  ridge_coef_1\n",
       "0  16.985172     16.985747\n",
       "1  14.962943     17.199238\n",
       "2   4.573660      5.771487\n",
       "3  20.743780     17.347599"
      ]
     },
     "execution_count": 69,
     "metadata": {},
     "output_type": "execute_result"
    }
   ],
   "source": [
    "pd.concat([lm_1_df, rm_df], axis = 1)"
   ]
  },
  {
   "cell_type": "code",
   "execution_count": 70,
   "id": "2e678b8e",
   "metadata": {
    "ExecuteTime": {
     "end_time": "2024-02-10T18:47:45.796311Z",
     "start_time": "2024-02-10T18:47:45.794716Z"
    }
   },
   "outputs": [],
   "source": [
    "from sklearn.linear_model import RidgeCV"
   ]
  },
  {
   "cell_type": "code",
   "execution_count": 71,
   "id": "87ba817f",
   "metadata": {
    "ExecuteTime": {
     "end_time": "2024-02-10T18:47:45.799530Z",
     "start_time": "2024-02-10T18:47:45.796913Z"
    }
   },
   "outputs": [
    {
     "data": {
      "text/plain": [
       "array([10.        , 10.04040404, 10.08080808, 10.12121212, 10.16161616,\n",
       "       10.2020202 , 10.24242424, 10.28282828, 10.32323232, 10.36363636,\n",
       "       10.4040404 , 10.44444444, 10.48484848, 10.52525253, 10.56565657,\n",
       "       10.60606061, 10.64646465, 10.68686869, 10.72727273, 10.76767677,\n",
       "       10.80808081, 10.84848485, 10.88888889, 10.92929293, 10.96969697,\n",
       "       11.01010101, 11.05050505, 11.09090909, 11.13131313, 11.17171717,\n",
       "       11.21212121, 11.25252525, 11.29292929, 11.33333333, 11.37373737,\n",
       "       11.41414141, 11.45454545, 11.49494949, 11.53535354, 11.57575758,\n",
       "       11.61616162, 11.65656566, 11.6969697 , 11.73737374, 11.77777778,\n",
       "       11.81818182, 11.85858586, 11.8989899 , 11.93939394, 11.97979798,\n",
       "       12.02020202, 12.06060606, 12.1010101 , 12.14141414, 12.18181818,\n",
       "       12.22222222, 12.26262626, 12.3030303 , 12.34343434, 12.38383838,\n",
       "       12.42424242, 12.46464646, 12.50505051, 12.54545455, 12.58585859,\n",
       "       12.62626263, 12.66666667, 12.70707071, 12.74747475, 12.78787879,\n",
       "       12.82828283, 12.86868687, 12.90909091, 12.94949495, 12.98989899,\n",
       "       13.03030303, 13.07070707, 13.11111111, 13.15151515, 13.19191919,\n",
       "       13.23232323, 13.27272727, 13.31313131, 13.35353535, 13.39393939,\n",
       "       13.43434343, 13.47474747, 13.51515152, 13.55555556, 13.5959596 ,\n",
       "       13.63636364, 13.67676768, 13.71717172, 13.75757576, 13.7979798 ,\n",
       "       13.83838384, 13.87878788, 13.91919192, 13.95959596, 14.        ])"
      ]
     },
     "execution_count": 71,
     "metadata": {},
     "output_type": "execute_result"
    }
   ],
   "source": [
    "alpha_space = np.linspace(10, 14, 100)\n",
    "alpha_space"
   ]
  },
  {
   "cell_type": "code",
   "execution_count": 72,
   "id": "e88e1a96",
   "metadata": {
    "ExecuteTime": {
     "end_time": "2024-02-10T18:47:45.802512Z",
     "start_time": "2024-02-10T18:47:45.800470Z"
    }
   },
   "outputs": [],
   "source": [
    "    ridge_cv_model = RidgeCV(alphas= alpha_space, cv=5, scoring=\"neg_root_mean_squared_error\")"
   ]
  },
  {
   "cell_type": "code",
   "execution_count": 73,
   "id": "16eb5296",
   "metadata": {
    "ExecuteTime": {
     "end_time": "2024-02-10T18:47:45.810009Z",
     "start_time": "2024-02-10T18:47:45.803621Z"
    }
   },
   "outputs": [
    {
     "data": {
      "text/html": [
       "<style>#sk-container-id-4 {color: black;}#sk-container-id-4 pre{padding: 0;}#sk-container-id-4 div.sk-toggleable {background-color: white;}#sk-container-id-4 label.sk-toggleable__label {cursor: pointer;display: block;width: 100%;margin-bottom: 0;padding: 0.3em;box-sizing: border-box;text-align: center;}#sk-container-id-4 label.sk-toggleable__label-arrow:before {content: \"▸\";float: left;margin-right: 0.25em;color: #696969;}#sk-container-id-4 label.sk-toggleable__label-arrow:hover:before {color: black;}#sk-container-id-4 div.sk-estimator:hover label.sk-toggleable__label-arrow:before {color: black;}#sk-container-id-4 div.sk-toggleable__content {max-height: 0;max-width: 0;overflow: hidden;text-align: left;background-color: #f0f8ff;}#sk-container-id-4 div.sk-toggleable__content pre {margin: 0.2em;color: black;border-radius: 0.25em;background-color: #f0f8ff;}#sk-container-id-4 input.sk-toggleable__control:checked~div.sk-toggleable__content {max-height: 200px;max-width: 100%;overflow: auto;}#sk-container-id-4 input.sk-toggleable__control:checked~label.sk-toggleable__label-arrow:before {content: \"▾\";}#sk-container-id-4 div.sk-estimator input.sk-toggleable__control:checked~label.sk-toggleable__label {background-color: #d4ebff;}#sk-container-id-4 div.sk-label input.sk-toggleable__control:checked~label.sk-toggleable__label {background-color: #d4ebff;}#sk-container-id-4 input.sk-hidden--visually {border: 0;clip: rect(1px 1px 1px 1px);clip: rect(1px, 1px, 1px, 1px);height: 1px;margin: -1px;overflow: hidden;padding: 0;position: absolute;width: 1px;}#sk-container-id-4 div.sk-estimator {font-family: monospace;background-color: #f0f8ff;border: 1px dotted black;border-radius: 0.25em;box-sizing: border-box;margin-bottom: 0.5em;}#sk-container-id-4 div.sk-estimator:hover {background-color: #d4ebff;}#sk-container-id-4 div.sk-parallel-item::after {content: \"\";width: 100%;border-bottom: 1px solid gray;flex-grow: 1;}#sk-container-id-4 div.sk-label:hover label.sk-toggleable__label {background-color: #d4ebff;}#sk-container-id-4 div.sk-serial::before {content: \"\";position: absolute;border-left: 1px solid gray;box-sizing: border-box;top: 0;bottom: 0;left: 50%;z-index: 0;}#sk-container-id-4 div.sk-serial {display: flex;flex-direction: column;align-items: center;background-color: white;padding-right: 0.2em;padding-left: 0.2em;position: relative;}#sk-container-id-4 div.sk-item {position: relative;z-index: 1;}#sk-container-id-4 div.sk-parallel {display: flex;align-items: stretch;justify-content: center;background-color: white;position: relative;}#sk-container-id-4 div.sk-item::before, #sk-container-id-4 div.sk-parallel-item::before {content: \"\";position: absolute;border-left: 1px solid gray;box-sizing: border-box;top: 0;bottom: 0;left: 50%;z-index: -1;}#sk-container-id-4 div.sk-parallel-item {display: flex;flex-direction: column;z-index: 1;position: relative;background-color: white;}#sk-container-id-4 div.sk-parallel-item:first-child::after {align-self: flex-end;width: 50%;}#sk-container-id-4 div.sk-parallel-item:last-child::after {align-self: flex-start;width: 50%;}#sk-container-id-4 div.sk-parallel-item:only-child::after {width: 0;}#sk-container-id-4 div.sk-dashed-wrapped {border: 1px dashed gray;margin: 0 0.4em 0.5em 0.4em;box-sizing: border-box;padding-bottom: 0.4em;background-color: white;}#sk-container-id-4 div.sk-label label {font-family: monospace;font-weight: bold;display: inline-block;line-height: 1.2em;}#sk-container-id-4 div.sk-label-container {text-align: center;}#sk-container-id-4 div.sk-container {/* jupyter's `normalize.less` sets `[hidden] { display: none; }` but bootstrap.min.css set `[hidden] { display: none !important; }` so we also need the `!important` here to be able to override the default hidden behavior on the sphinx rendered scikit-learn.org. See: https://github.com/scikit-learn/scikit-learn/issues/21755 */display: inline-block !important;position: relative;}#sk-container-id-4 div.sk-text-repr-fallback {display: none;}</style><div id=\"sk-container-id-4\" class=\"sk-top-container\"><div class=\"sk-text-repr-fallback\"><pre>RidgeCV(alphas=array([10.        , 10.04040404, 10.08080808, 10.12121212, 10.16161616,\n",
       "       10.2020202 , 10.24242424, 10.28282828, 10.32323232, 10.36363636,\n",
       "       10.4040404 , 10.44444444, 10.48484848, 10.52525253, 10.56565657,\n",
       "       10.60606061, 10.64646465, 10.68686869, 10.72727273, 10.76767677,\n",
       "       10.80808081, 10.84848485, 10.88888889, 10.92929293, 10.96969697,\n",
       "       11.01010101, 11.05050505, 11.09090909, 11...\n",
       "       12.82828283, 12.86868687, 12.90909091, 12.94949495, 12.98989899,\n",
       "       13.03030303, 13.07070707, 13.11111111, 13.15151515, 13.19191919,\n",
       "       13.23232323, 13.27272727, 13.31313131, 13.35353535, 13.39393939,\n",
       "       13.43434343, 13.47474747, 13.51515152, 13.55555556, 13.5959596 ,\n",
       "       13.63636364, 13.67676768, 13.71717172, 13.75757576, 13.7979798 ,\n",
       "       13.83838384, 13.87878788, 13.91919192, 13.95959596, 14.        ]),\n",
       "        cv=5, scoring=&#x27;neg_root_mean_squared_error&#x27;)</pre><b>In a Jupyter environment, please rerun this cell to show the HTML representation or trust the notebook. <br />On GitHub, the HTML representation is unable to render, please try loading this page with nbviewer.org.</b></div><div class=\"sk-container\" hidden><div class=\"sk-item\"><div class=\"sk-estimator sk-toggleable\"><input class=\"sk-toggleable__control sk-hidden--visually\" id=\"sk-estimator-id-4\" type=\"checkbox\" checked><label for=\"sk-estimator-id-4\" class=\"sk-toggleable__label sk-toggleable__label-arrow\">RidgeCV</label><div class=\"sk-toggleable__content\"><pre>RidgeCV(alphas=array([10.        , 10.04040404, 10.08080808, 10.12121212, 10.16161616,\n",
       "       10.2020202 , 10.24242424, 10.28282828, 10.32323232, 10.36363636,\n",
       "       10.4040404 , 10.44444444, 10.48484848, 10.52525253, 10.56565657,\n",
       "       10.60606061, 10.64646465, 10.68686869, 10.72727273, 10.76767677,\n",
       "       10.80808081, 10.84848485, 10.88888889, 10.92929293, 10.96969697,\n",
       "       11.01010101, 11.05050505, 11.09090909, 11...\n",
       "       12.82828283, 12.86868687, 12.90909091, 12.94949495, 12.98989899,\n",
       "       13.03030303, 13.07070707, 13.11111111, 13.15151515, 13.19191919,\n",
       "       13.23232323, 13.27272727, 13.31313131, 13.35353535, 13.39393939,\n",
       "       13.43434343, 13.47474747, 13.51515152, 13.55555556, 13.5959596 ,\n",
       "       13.63636364, 13.67676768, 13.71717172, 13.75757576, 13.7979798 ,\n",
       "       13.83838384, 13.87878788, 13.91919192, 13.95959596, 14.        ]),\n",
       "        cv=5, scoring=&#x27;neg_root_mean_squared_error&#x27;)</pre></div></div></div></div></div>"
      ],
      "text/plain": [
       "RidgeCV(alphas=array([10.        , 10.04040404, 10.08080808, 10.12121212, 10.16161616,\n",
       "       10.2020202 , 10.24242424, 10.28282828, 10.32323232, 10.36363636,\n",
       "       10.4040404 , 10.44444444, 10.48484848, 10.52525253, 10.56565657,\n",
       "       10.60606061, 10.64646465, 10.68686869, 10.72727273, 10.76767677,\n",
       "       10.80808081, 10.84848485, 10.88888889, 10.92929293, 10.96969697,\n",
       "       11.01010101, 11.05050505, 11.09090909, 11...\n",
       "       12.82828283, 12.86868687, 12.90909091, 12.94949495, 12.98989899,\n",
       "       13.03030303, 13.07070707, 13.11111111, 13.15151515, 13.19191919,\n",
       "       13.23232323, 13.27272727, 13.31313131, 13.35353535, 13.39393939,\n",
       "       13.43434343, 13.47474747, 13.51515152, 13.55555556, 13.5959596 ,\n",
       "       13.63636364, 13.67676768, 13.71717172, 13.75757576, 13.7979798 ,\n",
       "       13.83838384, 13.87878788, 13.91919192, 13.95959596, 14.        ]),\n",
       "        cv=5, scoring='neg_root_mean_squared_error')"
      ]
     },
     "execution_count": 73,
     "metadata": {},
     "output_type": "execute_result"
    }
   ],
   "source": [
    "ridge_cv_model"
   ]
  },
  {
   "cell_type": "code",
   "execution_count": 74,
   "id": "e1e34aed",
   "metadata": {
    "ExecuteTime": {
     "end_time": "2024-02-10T18:47:46.074470Z",
     "start_time": "2024-02-10T18:47:45.811639Z"
    }
   },
   "outputs": [
    {
     "data": {
      "text/html": [
       "<style>#sk-container-id-5 {color: black;}#sk-container-id-5 pre{padding: 0;}#sk-container-id-5 div.sk-toggleable {background-color: white;}#sk-container-id-5 label.sk-toggleable__label {cursor: pointer;display: block;width: 100%;margin-bottom: 0;padding: 0.3em;box-sizing: border-box;text-align: center;}#sk-container-id-5 label.sk-toggleable__label-arrow:before {content: \"▸\";float: left;margin-right: 0.25em;color: #696969;}#sk-container-id-5 label.sk-toggleable__label-arrow:hover:before {color: black;}#sk-container-id-5 div.sk-estimator:hover label.sk-toggleable__label-arrow:before {color: black;}#sk-container-id-5 div.sk-toggleable__content {max-height: 0;max-width: 0;overflow: hidden;text-align: left;background-color: #f0f8ff;}#sk-container-id-5 div.sk-toggleable__content pre {margin: 0.2em;color: black;border-radius: 0.25em;background-color: #f0f8ff;}#sk-container-id-5 input.sk-toggleable__control:checked~div.sk-toggleable__content {max-height: 200px;max-width: 100%;overflow: auto;}#sk-container-id-5 input.sk-toggleable__control:checked~label.sk-toggleable__label-arrow:before {content: \"▾\";}#sk-container-id-5 div.sk-estimator input.sk-toggleable__control:checked~label.sk-toggleable__label {background-color: #d4ebff;}#sk-container-id-5 div.sk-label input.sk-toggleable__control:checked~label.sk-toggleable__label {background-color: #d4ebff;}#sk-container-id-5 input.sk-hidden--visually {border: 0;clip: rect(1px 1px 1px 1px);clip: rect(1px, 1px, 1px, 1px);height: 1px;margin: -1px;overflow: hidden;padding: 0;position: absolute;width: 1px;}#sk-container-id-5 div.sk-estimator {font-family: monospace;background-color: #f0f8ff;border: 1px dotted black;border-radius: 0.25em;box-sizing: border-box;margin-bottom: 0.5em;}#sk-container-id-5 div.sk-estimator:hover {background-color: #d4ebff;}#sk-container-id-5 div.sk-parallel-item::after {content: \"\";width: 100%;border-bottom: 1px solid gray;flex-grow: 1;}#sk-container-id-5 div.sk-label:hover label.sk-toggleable__label {background-color: #d4ebff;}#sk-container-id-5 div.sk-serial::before {content: \"\";position: absolute;border-left: 1px solid gray;box-sizing: border-box;top: 0;bottom: 0;left: 50%;z-index: 0;}#sk-container-id-5 div.sk-serial {display: flex;flex-direction: column;align-items: center;background-color: white;padding-right: 0.2em;padding-left: 0.2em;position: relative;}#sk-container-id-5 div.sk-item {position: relative;z-index: 1;}#sk-container-id-5 div.sk-parallel {display: flex;align-items: stretch;justify-content: center;background-color: white;position: relative;}#sk-container-id-5 div.sk-item::before, #sk-container-id-5 div.sk-parallel-item::before {content: \"\";position: absolute;border-left: 1px solid gray;box-sizing: border-box;top: 0;bottom: 0;left: 50%;z-index: -1;}#sk-container-id-5 div.sk-parallel-item {display: flex;flex-direction: column;z-index: 1;position: relative;background-color: white;}#sk-container-id-5 div.sk-parallel-item:first-child::after {align-self: flex-end;width: 50%;}#sk-container-id-5 div.sk-parallel-item:last-child::after {align-self: flex-start;width: 50%;}#sk-container-id-5 div.sk-parallel-item:only-child::after {width: 0;}#sk-container-id-5 div.sk-dashed-wrapped {border: 1px dashed gray;margin: 0 0.4em 0.5em 0.4em;box-sizing: border-box;padding-bottom: 0.4em;background-color: white;}#sk-container-id-5 div.sk-label label {font-family: monospace;font-weight: bold;display: inline-block;line-height: 1.2em;}#sk-container-id-5 div.sk-label-container {text-align: center;}#sk-container-id-5 div.sk-container {/* jupyter's `normalize.less` sets `[hidden] { display: none; }` but bootstrap.min.css set `[hidden] { display: none !important; }` so we also need the `!important` here to be able to override the default hidden behavior on the sphinx rendered scikit-learn.org. See: https://github.com/scikit-learn/scikit-learn/issues/21755 */display: inline-block !important;position: relative;}#sk-container-id-5 div.sk-text-repr-fallback {display: none;}</style><div id=\"sk-container-id-5\" class=\"sk-top-container\"><div class=\"sk-text-repr-fallback\"><pre>RidgeCV(alphas=array([10.        , 10.04040404, 10.08080808, 10.12121212, 10.16161616,\n",
       "       10.2020202 , 10.24242424, 10.28282828, 10.32323232, 10.36363636,\n",
       "       10.4040404 , 10.44444444, 10.48484848, 10.52525253, 10.56565657,\n",
       "       10.60606061, 10.64646465, 10.68686869, 10.72727273, 10.76767677,\n",
       "       10.80808081, 10.84848485, 10.88888889, 10.92929293, 10.96969697,\n",
       "       11.01010101, 11.05050505, 11.09090909, 11...\n",
       "       12.82828283, 12.86868687, 12.90909091, 12.94949495, 12.98989899,\n",
       "       13.03030303, 13.07070707, 13.11111111, 13.15151515, 13.19191919,\n",
       "       13.23232323, 13.27272727, 13.31313131, 13.35353535, 13.39393939,\n",
       "       13.43434343, 13.47474747, 13.51515152, 13.55555556, 13.5959596 ,\n",
       "       13.63636364, 13.67676768, 13.71717172, 13.75757576, 13.7979798 ,\n",
       "       13.83838384, 13.87878788, 13.91919192, 13.95959596, 14.        ]),\n",
       "        cv=5, scoring=&#x27;neg_root_mean_squared_error&#x27;)</pre><b>In a Jupyter environment, please rerun this cell to show the HTML representation or trust the notebook. <br />On GitHub, the HTML representation is unable to render, please try loading this page with nbviewer.org.</b></div><div class=\"sk-container\" hidden><div class=\"sk-item\"><div class=\"sk-estimator sk-toggleable\"><input class=\"sk-toggleable__control sk-hidden--visually\" id=\"sk-estimator-id-5\" type=\"checkbox\" checked><label for=\"sk-estimator-id-5\" class=\"sk-toggleable__label sk-toggleable__label-arrow\">RidgeCV</label><div class=\"sk-toggleable__content\"><pre>RidgeCV(alphas=array([10.        , 10.04040404, 10.08080808, 10.12121212, 10.16161616,\n",
       "       10.2020202 , 10.24242424, 10.28282828, 10.32323232, 10.36363636,\n",
       "       10.4040404 , 10.44444444, 10.48484848, 10.52525253, 10.56565657,\n",
       "       10.60606061, 10.64646465, 10.68686869, 10.72727273, 10.76767677,\n",
       "       10.80808081, 10.84848485, 10.88888889, 10.92929293, 10.96969697,\n",
       "       11.01010101, 11.05050505, 11.09090909, 11...\n",
       "       12.82828283, 12.86868687, 12.90909091, 12.94949495, 12.98989899,\n",
       "       13.03030303, 13.07070707, 13.11111111, 13.15151515, 13.19191919,\n",
       "       13.23232323, 13.27272727, 13.31313131, 13.35353535, 13.39393939,\n",
       "       13.43434343, 13.47474747, 13.51515152, 13.55555556, 13.5959596 ,\n",
       "       13.63636364, 13.67676768, 13.71717172, 13.75757576, 13.7979798 ,\n",
       "       13.83838384, 13.87878788, 13.91919192, 13.95959596, 14.        ]),\n",
       "        cv=5, scoring=&#x27;neg_root_mean_squared_error&#x27;)</pre></div></div></div></div></div>"
      ],
      "text/plain": [
       "RidgeCV(alphas=array([10.        , 10.04040404, 10.08080808, 10.12121212, 10.16161616,\n",
       "       10.2020202 , 10.24242424, 10.28282828, 10.32323232, 10.36363636,\n",
       "       10.4040404 , 10.44444444, 10.48484848, 10.52525253, 10.56565657,\n",
       "       10.60606061, 10.64646465, 10.68686869, 10.72727273, 10.76767677,\n",
       "       10.80808081, 10.84848485, 10.88888889, 10.92929293, 10.96969697,\n",
       "       11.01010101, 11.05050505, 11.09090909, 11...\n",
       "       12.82828283, 12.86868687, 12.90909091, 12.94949495, 12.98989899,\n",
       "       13.03030303, 13.07070707, 13.11111111, 13.15151515, 13.19191919,\n",
       "       13.23232323, 13.27272727, 13.31313131, 13.35353535, 13.39393939,\n",
       "       13.43434343, 13.47474747, 13.51515152, 13.55555556, 13.5959596 ,\n",
       "       13.63636364, 13.67676768, 13.71717172, 13.75757576, 13.7979798 ,\n",
       "       13.83838384, 13.87878788, 13.91919192, 13.95959596, 14.        ]),\n",
       "        cv=5, scoring='neg_root_mean_squared_error')"
      ]
     },
     "execution_count": 74,
     "metadata": {},
     "output_type": "execute_result"
    }
   ],
   "source": [
    "ridge_cv_model.fit(X_train_scaled, y_train)"
   ]
  },
  {
   "cell_type": "code",
   "execution_count": 75,
   "id": "eee874e7",
   "metadata": {
    "ExecuteTime": {
     "end_time": "2024-02-10T18:47:46.077066Z",
     "start_time": "2024-02-10T18:47:46.075184Z"
    }
   },
   "outputs": [
    {
     "data": {
      "text/plain": [
       "13.636363636363637"
      ]
     },
     "execution_count": 75,
     "metadata": {},
     "output_type": "execute_result"
    }
   ],
   "source": [
    "ridge_cv_model.alpha_"
   ]
  },
  {
   "cell_type": "code",
   "execution_count": 76,
   "id": "da89736b",
   "metadata": {
    "ExecuteTime": {
     "end_time": "2024-02-10T18:47:46.079724Z",
     "start_time": "2024-02-10T18:47:46.077562Z"
    }
   },
   "outputs": [
    {
     "data": {
      "text/plain": [
       "-20.849188299434527"
      ]
     },
     "execution_count": 76,
     "metadata": {},
     "output_type": "execute_result"
    }
   ],
   "source": [
    "ridge_cv_model.best_score_"
   ]
  },
  {
   "cell_type": "code",
   "execution_count": 77,
   "id": "13d0abdd",
   "metadata": {
    "ExecuteTime": {
     "end_time": "2024-02-10T18:47:46.110693Z",
     "start_time": "2024-02-10T18:47:46.080317Z"
    }
   },
   "outputs": [],
   "source": [
    "y_pred = ridge_cv_model.predict(X_test_scaled)\n",
    "y_train_pred = ridge_cv_model.predict(X_train_scaled)"
   ]
  },
  {
   "cell_type": "code",
   "execution_count": 78,
   "id": "bccc32d8",
   "metadata": {
    "ExecuteTime": {
     "end_time": "2024-02-10T18:47:46.166403Z",
     "start_time": "2024-02-10T18:47:46.127258Z"
    }
   },
   "outputs": [
    {
     "data": {
      "text/html": [
       "<div>\n",
       "<style scoped>\n",
       "    .dataframe tbody tr th:only-of-type {\n",
       "        vertical-align: middle;\n",
       "    }\n",
       "\n",
       "    .dataframe tbody tr th {\n",
       "        vertical-align: top;\n",
       "    }\n",
       "\n",
       "    .dataframe thead th {\n",
       "        text-align: right;\n",
       "    }\n",
       "</style>\n",
       "<table border=\"1\" class=\"dataframe\">\n",
       "  <thead>\n",
       "    <tr style=\"text-align: right;\">\n",
       "      <th></th>\n",
       "      <th>ridge_cv_train</th>\n",
       "      <th>ridge_cv_test</th>\n",
       "    </tr>\n",
       "  </thead>\n",
       "  <tbody>\n",
       "    <tr>\n",
       "      <th>R2</th>\n",
       "      <td>0.873663</td>\n",
       "      <td>0.873535</td>\n",
       "    </tr>\n",
       "    <tr>\n",
       "      <th>mae</th>\n",
       "      <td>13.428366</td>\n",
       "      <td>13.162172</td>\n",
       "    </tr>\n",
       "    <tr>\n",
       "      <th>mse</th>\n",
       "      <td>434.959111</td>\n",
       "      <td>427.139035</td>\n",
       "    </tr>\n",
       "    <tr>\n",
       "      <th>rmse</th>\n",
       "      <td>20.855673</td>\n",
       "      <td>20.667342</td>\n",
       "    </tr>\n",
       "  </tbody>\n",
       "</table>\n",
       "</div>"
      ],
      "text/plain": [
       "      ridge_cv_train  ridge_cv_test\n",
       "R2          0.873663       0.873535\n",
       "mae        13.428366      13.162172\n",
       "mse       434.959111     427.139035\n",
       "rmse       20.855673      20.667342"
      ]
     },
     "execution_count": 78,
     "metadata": {},
     "output_type": "execute_result"
    }
   ],
   "source": [
    "rcs = train_val(y_train, y_train_pred, y_test, y_pred, \"ridge_cv\")\n",
    "rcs"
   ]
  },
  {
   "cell_type": "code",
   "execution_count": 79,
   "id": "1bf08ebe",
   "metadata": {
    "ExecuteTime": {
     "end_time": "2024-02-10T18:47:46.187621Z",
     "start_time": "2024-02-10T18:47:46.172767Z"
    }
   },
   "outputs": [
    {
     "data": {
      "text/html": [
       "<div>\n",
       "<style scoped>\n",
       "    .dataframe tbody tr th:only-of-type {\n",
       "        vertical-align: middle;\n",
       "    }\n",
       "\n",
       "    .dataframe tbody tr th {\n",
       "        vertical-align: top;\n",
       "    }\n",
       "\n",
       "    .dataframe thead th {\n",
       "        text-align: right;\n",
       "    }\n",
       "</style>\n",
       "<table border=\"1\" class=\"dataframe\">\n",
       "  <thead>\n",
       "    <tr style=\"text-align: right;\">\n",
       "      <th></th>\n",
       "      <th>linear_train</th>\n",
       "      <th>linear_test</th>\n",
       "      <th>ridge_train</th>\n",
       "      <th>ridge_test</th>\n",
       "      <th>ridge_cv_train</th>\n",
       "      <th>ridge_cv_test</th>\n",
       "    </tr>\n",
       "  </thead>\n",
       "  <tbody>\n",
       "    <tr>\n",
       "      <th>R2</th>\n",
       "      <td>0.873668</td>\n",
       "      <td>0.873554</td>\n",
       "      <td>0.873667</td>\n",
       "      <td>0.873543</td>\n",
       "      <td>0.873663</td>\n",
       "      <td>0.873535</td>\n",
       "    </tr>\n",
       "    <tr>\n",
       "      <th>mae</th>\n",
       "      <td>13.424130</td>\n",
       "      <td>13.156975</td>\n",
       "      <td>13.424475</td>\n",
       "      <td>13.158126</td>\n",
       "      <td>13.428366</td>\n",
       "      <td>13.162172</td>\n",
       "    </tr>\n",
       "    <tr>\n",
       "      <th>mse</th>\n",
       "      <td>434.941944</td>\n",
       "      <td>427.074018</td>\n",
       "      <td>434.944562</td>\n",
       "      <td>427.110221</td>\n",
       "      <td>434.959111</td>\n",
       "      <td>427.139035</td>\n",
       "    </tr>\n",
       "    <tr>\n",
       "      <th>rmse</th>\n",
       "      <td>20.855262</td>\n",
       "      <td>20.665769</td>\n",
       "      <td>20.855325</td>\n",
       "      <td>20.666645</td>\n",
       "      <td>20.855673</td>\n",
       "      <td>20.667342</td>\n",
       "    </tr>\n",
       "  </tbody>\n",
       "</table>\n",
       "</div>"
      ],
      "text/plain": [
       "      linear_train  linear_test  ridge_train  ridge_test  ridge_cv_train  \\\n",
       "R2        0.873668     0.873554     0.873667    0.873543        0.873663   \n",
       "mae      13.424130    13.156975    13.424475   13.158126       13.428366   \n",
       "mse     434.941944   427.074018   434.944562  427.110221      434.959111   \n",
       "rmse     20.855262    20.665769    20.855325   20.666645       20.855673   \n",
       "\n",
       "      ridge_cv_test  \n",
       "R2         0.873535  \n",
       "mae       13.162172  \n",
       "mse      427.139035  \n",
       "rmse      20.667342  "
      ]
     },
     "execution_count": 79,
     "metadata": {},
     "output_type": "execute_result"
    }
   ],
   "source": [
    "pd.concat([ls_1, rs, rcs], axis = 1)"
   ]
  },
  {
   "cell_type": "code",
   "execution_count": 80,
   "id": "04efc130",
   "metadata": {
    "ExecuteTime": {
     "end_time": "2024-02-10T18:47:46.222672Z",
     "start_time": "2024-02-10T18:47:46.193920Z"
    }
   },
   "outputs": [],
   "source": [
    "rcm_df = pd.DataFrame(ridge_cv_model.coef_, columns = [\"ridge_cv_model.coef_13.6\"])"
   ]
  },
  {
   "cell_type": "code",
   "execution_count": 81,
   "id": "6180db8d",
   "metadata": {
    "ExecuteTime": {
     "end_time": "2024-02-10T18:47:46.242888Z",
     "start_time": "2024-02-10T18:47:46.235865Z"
    }
   },
   "outputs": [
    {
     "data": {
      "text/html": [
       "<div>\n",
       "<style scoped>\n",
       "    .dataframe tbody tr th:only-of-type {\n",
       "        vertical-align: middle;\n",
       "    }\n",
       "\n",
       "    .dataframe tbody tr th {\n",
       "        vertical-align: top;\n",
       "    }\n",
       "\n",
       "    .dataframe thead th {\n",
       "        text-align: right;\n",
       "    }\n",
       "</style>\n",
       "<table border=\"1\" class=\"dataframe\">\n",
       "  <thead>\n",
       "    <tr style=\"text-align: right;\">\n",
       "      <th></th>\n",
       "      <th>lm_1_coef</th>\n",
       "      <th>ridge_coef_1</th>\n",
       "      <th>ridge_cv_model.coef_13.6</th>\n",
       "    </tr>\n",
       "  </thead>\n",
       "  <tbody>\n",
       "    <tr>\n",
       "      <th>0</th>\n",
       "      <td>16.985172</td>\n",
       "      <td>16.985747</td>\n",
       "      <td>16.996002</td>\n",
       "    </tr>\n",
       "    <tr>\n",
       "      <th>1</th>\n",
       "      <td>14.962943</td>\n",
       "      <td>17.199238</td>\n",
       "      <td>18.408439</td>\n",
       "    </tr>\n",
       "    <tr>\n",
       "      <th>2</th>\n",
       "      <td>4.573660</td>\n",
       "      <td>5.771487</td>\n",
       "      <td>6.812353</td>\n",
       "    </tr>\n",
       "    <tr>\n",
       "      <th>3</th>\n",
       "      <td>20.743780</td>\n",
       "      <td>17.347599</td>\n",
       "      <td>15.084412</td>\n",
       "    </tr>\n",
       "  </tbody>\n",
       "</table>\n",
       "</div>"
      ],
      "text/plain": [
       "   lm_1_coef  ridge_coef_1  ridge_cv_model.coef_13.6\n",
       "0  16.985172     16.985747                 16.996002\n",
       "1  14.962943     17.199238                 18.408439\n",
       "2   4.573660      5.771487                  6.812353\n",
       "3  20.743780     17.347599                 15.084412"
      ]
     },
     "execution_count": 81,
     "metadata": {},
     "output_type": "execute_result"
    }
   ],
   "source": [
    "pd.concat([lm_1_df, rm_df, rcm_df], axis=1)"
   ]
  },
  {
   "cell_type": "markdown",
   "id": "a2665b37",
   "metadata": {},
   "source": [
    "### Lasso"
   ]
  },
  {
   "cell_type": "code",
   "execution_count": 82,
   "id": "aa5a65af",
   "metadata": {
    "ExecuteTime": {
     "end_time": "2024-02-10T18:47:46.246218Z",
     "start_time": "2024-02-10T18:47:46.244369Z"
    }
   },
   "outputs": [],
   "source": [
    "from sklearn.linear_model import Lasso, LassoCV"
   ]
  },
  {
   "cell_type": "code",
   "execution_count": 83,
   "id": "62062308",
   "metadata": {
    "ExecuteTime": {
     "end_time": "2024-02-10T18:47:46.277428Z",
     "start_time": "2024-02-10T18:47:46.247618Z"
    }
   },
   "outputs": [
    {
     "data": {
      "text/html": [
       "<style>#sk-container-id-6 {color: black;}#sk-container-id-6 pre{padding: 0;}#sk-container-id-6 div.sk-toggleable {background-color: white;}#sk-container-id-6 label.sk-toggleable__label {cursor: pointer;display: block;width: 100%;margin-bottom: 0;padding: 0.3em;box-sizing: border-box;text-align: center;}#sk-container-id-6 label.sk-toggleable__label-arrow:before {content: \"▸\";float: left;margin-right: 0.25em;color: #696969;}#sk-container-id-6 label.sk-toggleable__label-arrow:hover:before {color: black;}#sk-container-id-6 div.sk-estimator:hover label.sk-toggleable__label-arrow:before {color: black;}#sk-container-id-6 div.sk-toggleable__content {max-height: 0;max-width: 0;overflow: hidden;text-align: left;background-color: #f0f8ff;}#sk-container-id-6 div.sk-toggleable__content pre {margin: 0.2em;color: black;border-radius: 0.25em;background-color: #f0f8ff;}#sk-container-id-6 input.sk-toggleable__control:checked~div.sk-toggleable__content {max-height: 200px;max-width: 100%;overflow: auto;}#sk-container-id-6 input.sk-toggleable__control:checked~label.sk-toggleable__label-arrow:before {content: \"▾\";}#sk-container-id-6 div.sk-estimator input.sk-toggleable__control:checked~label.sk-toggleable__label {background-color: #d4ebff;}#sk-container-id-6 div.sk-label input.sk-toggleable__control:checked~label.sk-toggleable__label {background-color: #d4ebff;}#sk-container-id-6 input.sk-hidden--visually {border: 0;clip: rect(1px 1px 1px 1px);clip: rect(1px, 1px, 1px, 1px);height: 1px;margin: -1px;overflow: hidden;padding: 0;position: absolute;width: 1px;}#sk-container-id-6 div.sk-estimator {font-family: monospace;background-color: #f0f8ff;border: 1px dotted black;border-radius: 0.25em;box-sizing: border-box;margin-bottom: 0.5em;}#sk-container-id-6 div.sk-estimator:hover {background-color: #d4ebff;}#sk-container-id-6 div.sk-parallel-item::after {content: \"\";width: 100%;border-bottom: 1px solid gray;flex-grow: 1;}#sk-container-id-6 div.sk-label:hover label.sk-toggleable__label {background-color: #d4ebff;}#sk-container-id-6 div.sk-serial::before {content: \"\";position: absolute;border-left: 1px solid gray;box-sizing: border-box;top: 0;bottom: 0;left: 50%;z-index: 0;}#sk-container-id-6 div.sk-serial {display: flex;flex-direction: column;align-items: center;background-color: white;padding-right: 0.2em;padding-left: 0.2em;position: relative;}#sk-container-id-6 div.sk-item {position: relative;z-index: 1;}#sk-container-id-6 div.sk-parallel {display: flex;align-items: stretch;justify-content: center;background-color: white;position: relative;}#sk-container-id-6 div.sk-item::before, #sk-container-id-6 div.sk-parallel-item::before {content: \"\";position: absolute;border-left: 1px solid gray;box-sizing: border-box;top: 0;bottom: 0;left: 50%;z-index: -1;}#sk-container-id-6 div.sk-parallel-item {display: flex;flex-direction: column;z-index: 1;position: relative;background-color: white;}#sk-container-id-6 div.sk-parallel-item:first-child::after {align-self: flex-end;width: 50%;}#sk-container-id-6 div.sk-parallel-item:last-child::after {align-self: flex-start;width: 50%;}#sk-container-id-6 div.sk-parallel-item:only-child::after {width: 0;}#sk-container-id-6 div.sk-dashed-wrapped {border: 1px dashed gray;margin: 0 0.4em 0.5em 0.4em;box-sizing: border-box;padding-bottom: 0.4em;background-color: white;}#sk-container-id-6 div.sk-label label {font-family: monospace;font-weight: bold;display: inline-block;line-height: 1.2em;}#sk-container-id-6 div.sk-label-container {text-align: center;}#sk-container-id-6 div.sk-container {/* jupyter's `normalize.less` sets `[hidden] { display: none; }` but bootstrap.min.css set `[hidden] { display: none !important; }` so we also need the `!important` here to be able to override the default hidden behavior on the sphinx rendered scikit-learn.org. See: https://github.com/scikit-learn/scikit-learn/issues/21755 */display: inline-block !important;position: relative;}#sk-container-id-6 div.sk-text-repr-fallback {display: none;}</style><div id=\"sk-container-id-6\" class=\"sk-top-container\"><div class=\"sk-text-repr-fallback\"><pre>Lasso(random_state=42)</pre><b>In a Jupyter environment, please rerun this cell to show the HTML representation or trust the notebook. <br />On GitHub, the HTML representation is unable to render, please try loading this page with nbviewer.org.</b></div><div class=\"sk-container\" hidden><div class=\"sk-item\"><div class=\"sk-estimator sk-toggleable\"><input class=\"sk-toggleable__control sk-hidden--visually\" id=\"sk-estimator-id-6\" type=\"checkbox\" checked><label for=\"sk-estimator-id-6\" class=\"sk-toggleable__label sk-toggleable__label-arrow\">Lasso</label><div class=\"sk-toggleable__content\"><pre>Lasso(random_state=42)</pre></div></div></div></div></div>"
      ],
      "text/plain": [
       "Lasso(random_state=42)"
      ]
     },
     "execution_count": 83,
     "metadata": {},
     "output_type": "execute_result"
    }
   ],
   "source": [
    "lasso_model = Lasso(alpha=1.0, random_state = 42)\n",
    "lasso_model.fit(X_train_scaled, y_train)"
   ]
  },
  {
   "cell_type": "code",
   "execution_count": 84,
   "id": "7a151d79",
   "metadata": {
    "ExecuteTime": {
     "end_time": "2024-02-10T18:47:46.349836Z",
     "start_time": "2024-02-10T18:47:46.332160Z"
    }
   },
   "outputs": [],
   "source": [
    "y_pred = lasso_model.predict(X_test_scaled)\n",
    "y_train_pred = lasso_model.predict(X_train_scaled)"
   ]
  },
  {
   "cell_type": "code",
   "execution_count": 85,
   "id": "83b0f2de",
   "metadata": {
    "ExecuteTime": {
     "end_time": "2024-02-10T18:47:46.369280Z",
     "start_time": "2024-02-10T18:47:46.352170Z"
    }
   },
   "outputs": [
    {
     "data": {
      "text/html": [
       "<div>\n",
       "<style scoped>\n",
       "    .dataframe tbody tr th:only-of-type {\n",
       "        vertical-align: middle;\n",
       "    }\n",
       "\n",
       "    .dataframe tbody tr th {\n",
       "        vertical-align: top;\n",
       "    }\n",
       "\n",
       "    .dataframe thead th {\n",
       "        text-align: right;\n",
       "    }\n",
       "</style>\n",
       "<table border=\"1\" class=\"dataframe\">\n",
       "  <thead>\n",
       "    <tr style=\"text-align: right;\">\n",
       "      <th></th>\n",
       "      <th>lasso_train</th>\n",
       "      <th>lasso_test</th>\n",
       "    </tr>\n",
       "  </thead>\n",
       "  <tbody>\n",
       "    <tr>\n",
       "      <th>R2</th>\n",
       "      <td>0.873341</td>\n",
       "      <td>0.873733</td>\n",
       "    </tr>\n",
       "    <tr>\n",
       "      <th>mae</th>\n",
       "      <td>13.651458</td>\n",
       "      <td>13.377128</td>\n",
       "    </tr>\n",
       "    <tr>\n",
       "      <th>mse</th>\n",
       "      <td>436.066012</td>\n",
       "      <td>426.471264</td>\n",
       "    </tr>\n",
       "    <tr>\n",
       "      <th>rmse</th>\n",
       "      <td>20.882194</td>\n",
       "      <td>20.651181</td>\n",
       "    </tr>\n",
       "  </tbody>\n",
       "</table>\n",
       "</div>"
      ],
      "text/plain": [
       "      lasso_train  lasso_test\n",
       "R2       0.873341    0.873733\n",
       "mae     13.651458   13.377128\n",
       "mse    436.066012  426.471264\n",
       "rmse    20.882194   20.651181"
      ]
     },
     "execution_count": 85,
     "metadata": {},
     "output_type": "execute_result"
    }
   ],
   "source": [
    "lss = train_val(y_train, y_train_pred, y_test, y_pred, \"lasso\")\n",
    "lss"
   ]
  },
  {
   "cell_type": "code",
   "execution_count": 86,
   "id": "17c1a1ea",
   "metadata": {
    "ExecuteTime": {
     "end_time": "2024-02-10T18:47:46.384409Z",
     "start_time": "2024-02-10T18:47:46.372273Z"
    }
   },
   "outputs": [
    {
     "data": {
      "text/html": [
       "<div>\n",
       "<style scoped>\n",
       "    .dataframe tbody tr th:only-of-type {\n",
       "        vertical-align: middle;\n",
       "    }\n",
       "\n",
       "    .dataframe tbody tr th {\n",
       "        vertical-align: top;\n",
       "    }\n",
       "\n",
       "    .dataframe thead th {\n",
       "        text-align: right;\n",
       "    }\n",
       "</style>\n",
       "<table border=\"1\" class=\"dataframe\">\n",
       "  <thead>\n",
       "    <tr style=\"text-align: right;\">\n",
       "      <th></th>\n",
       "      <th>linear_train</th>\n",
       "      <th>linear_test</th>\n",
       "      <th>ridge_train</th>\n",
       "      <th>ridge_test</th>\n",
       "      <th>ridge_cv_train</th>\n",
       "      <th>ridge_cv_test</th>\n",
       "      <th>lasso_train</th>\n",
       "      <th>lasso_test</th>\n",
       "    </tr>\n",
       "  </thead>\n",
       "  <tbody>\n",
       "    <tr>\n",
       "      <th>R2</th>\n",
       "      <td>0.873668</td>\n",
       "      <td>0.873554</td>\n",
       "      <td>0.873667</td>\n",
       "      <td>0.873543</td>\n",
       "      <td>0.873663</td>\n",
       "      <td>0.873535</td>\n",
       "      <td>0.873341</td>\n",
       "      <td>0.873733</td>\n",
       "    </tr>\n",
       "    <tr>\n",
       "      <th>mae</th>\n",
       "      <td>13.424130</td>\n",
       "      <td>13.156975</td>\n",
       "      <td>13.424475</td>\n",
       "      <td>13.158126</td>\n",
       "      <td>13.428366</td>\n",
       "      <td>13.162172</td>\n",
       "      <td>13.651458</td>\n",
       "      <td>13.377128</td>\n",
       "    </tr>\n",
       "    <tr>\n",
       "      <th>mse</th>\n",
       "      <td>434.941944</td>\n",
       "      <td>427.074018</td>\n",
       "      <td>434.944562</td>\n",
       "      <td>427.110221</td>\n",
       "      <td>434.959111</td>\n",
       "      <td>427.139035</td>\n",
       "      <td>436.066012</td>\n",
       "      <td>426.471264</td>\n",
       "    </tr>\n",
       "    <tr>\n",
       "      <th>rmse</th>\n",
       "      <td>20.855262</td>\n",
       "      <td>20.665769</td>\n",
       "      <td>20.855325</td>\n",
       "      <td>20.666645</td>\n",
       "      <td>20.855673</td>\n",
       "      <td>20.667342</td>\n",
       "      <td>20.882194</td>\n",
       "      <td>20.651181</td>\n",
       "    </tr>\n",
       "  </tbody>\n",
       "</table>\n",
       "</div>"
      ],
      "text/plain": [
       "      linear_train  linear_test  ridge_train  ridge_test  ridge_cv_train  \\\n",
       "R2        0.873668     0.873554     0.873667    0.873543        0.873663   \n",
       "mae      13.424130    13.156975    13.424475   13.158126       13.428366   \n",
       "mse     434.941944   427.074018   434.944562  427.110221      434.959111   \n",
       "rmse     20.855262    20.665769    20.855325   20.666645       20.855673   \n",
       "\n",
       "      ridge_cv_test  lasso_train  lasso_test  \n",
       "R2         0.873535     0.873341    0.873733  \n",
       "mae       13.162172    13.651458   13.377128  \n",
       "mse      427.139035   436.066012  426.471264  \n",
       "rmse      20.667342    20.882194   20.651181  "
      ]
     },
     "execution_count": 86,
     "metadata": {},
     "output_type": "execute_result"
    }
   ],
   "source": [
    "pd.concat([ls_1, rs, rcs, lss], axis = 1)"
   ]
  },
  {
   "cell_type": "code",
   "execution_count": 87,
   "id": "44b07a8f",
   "metadata": {
    "ExecuteTime": {
     "end_time": "2024-02-10T18:47:46.565255Z",
     "start_time": "2024-02-10T18:47:46.385888Z"
    }
   },
   "outputs": [],
   "source": [
    "model = Lasso(alpha=1.0, random_state = 42)\n",
    "scores = cross_validate(model, X_train_scaled, y_train, scoring =['r2',\n",
    "                                                                  'neg_mean_absolute_error',\n",
    "                                                                  'neg_mean_squared_error',\n",
    "                                                                  'neg_root_mean_squared_error',], cv = 5)"
   ]
  },
  {
   "cell_type": "code",
   "execution_count": 88,
   "id": "59576c07",
   "metadata": {
    "ExecuteTime": {
     "end_time": "2024-02-10T18:47:46.571844Z",
     "start_time": "2024-02-10T18:47:46.566614Z"
    }
   },
   "outputs": [
    {
     "data": {
      "text/plain": [
       "test_r2                               0.873070\n",
       "test_neg_mean_absolute_error        -13.661825\n",
       "test_neg_mean_squared_error        -437.026712\n",
       "test_neg_root_mean_squared_error    -20.877882\n",
       "dtype: float64"
      ]
     },
     "execution_count": 88,
     "metadata": {},
     "output_type": "execute_result"
    }
   ],
   "source": [
    "scores = pd.DataFrame(scores, index = range(1, 6))\n",
    "scores.iloc[:, 2:].mean()"
   ]
  },
  {
   "cell_type": "code",
   "execution_count": 89,
   "id": "e3a2623b",
   "metadata": {
    "ExecuteTime": {
     "end_time": "2024-02-10T18:47:46.697441Z",
     "start_time": "2024-02-10T18:47:46.573467Z"
    }
   },
   "outputs": [
    {
     "data": {
      "text/plain": [
       "<Axes: >"
      ]
     },
     "execution_count": 89,
     "metadata": {},
     "output_type": "execute_result"
    },
    {
     "data": {
      "image/png": "[encoded data removed]",
      "text/plain": [
       "<Figure size 1000x600 with 1 Axes>"
      ]
     },
     "metadata": {},
     "output_type": "display_data"
    }
   ],
   "source": [
    "sns.lineplot(data = scores.iloc[:, 2:])"
   ]
  },
  {
   "cell_type": "code",
   "execution_count": 90,
   "id": "13608ed7",
   "metadata": {
    "ExecuteTime": {
     "end_time": "2024-02-10T18:47:46.707203Z",
     "start_time": "2024-02-10T18:47:46.699473Z"
    }
   },
   "outputs": [
    {
     "data": {
      "text/plain": [
       "array([16.35376295, 17.07298064,  4.97425309, 17.7695968 ])"
      ]
     },
     "execution_count": 90,
     "metadata": {},
     "output_type": "execute_result"
    }
   ],
   "source": [
    "lasso_model.coef_"
   ]
  },
  {
   "cell_type": "code",
   "execution_count": 91,
   "id": "5e1df256",
   "metadata": {
    "ExecuteTime": {
     "end_time": "2024-02-10T18:47:46.713279Z",
     "start_time": "2024-02-10T18:47:46.708764Z"
    }
   },
   "outputs": [],
   "source": [
    "lsm_df = pd.DataFrame(lasso_model.coef_, columns=[\"lasso_coef_alpha_1\"])"
   ]
  },
  {
   "cell_type": "code",
   "execution_count": 92,
   "id": "47024777",
   "metadata": {
    "ExecuteTime": {
     "end_time": "2024-02-10T18:47:46.722893Z",
     "start_time": "2024-02-10T18:47:46.716159Z"
    }
   },
   "outputs": [
    {
     "data": {
      "text/html": [
       "<div>\n",
       "<style scoped>\n",
       "    .dataframe tbody tr th:only-of-type {\n",
       "        vertical-align: middle;\n",
       "    }\n",
       "\n",
       "    .dataframe tbody tr th {\n",
       "        vertical-align: top;\n",
       "    }\n",
       "\n",
       "    .dataframe thead th {\n",
       "        text-align: right;\n",
       "    }\n",
       "</style>\n",
       "<table border=\"1\" class=\"dataframe\">\n",
       "  <thead>\n",
       "    <tr style=\"text-align: right;\">\n",
       "      <th></th>\n",
       "      <th>lm_coef</th>\n",
       "      <th>ridge_coef_1</th>\n",
       "      <th>ridge_cv_model.coef_13.6</th>\n",
       "      <th>lasso_coef_alpha_1</th>\n",
       "    </tr>\n",
       "  </thead>\n",
       "  <tbody>\n",
       "    <tr>\n",
       "      <th>0</th>\n",
       "      <td>49.731525</td>\n",
       "      <td>16.985747</td>\n",
       "      <td>16.996002</td>\n",
       "      <td>16.353763</td>\n",
       "    </tr>\n",
       "    <tr>\n",
       "      <th>1</th>\n",
       "      <td>NaN</td>\n",
       "      <td>17.199238</td>\n",
       "      <td>18.408439</td>\n",
       "      <td>17.072981</td>\n",
       "    </tr>\n",
       "    <tr>\n",
       "      <th>2</th>\n",
       "      <td>NaN</td>\n",
       "      <td>5.771487</td>\n",
       "      <td>6.812353</td>\n",
       "      <td>4.974253</td>\n",
       "    </tr>\n",
       "    <tr>\n",
       "      <th>3</th>\n",
       "      <td>NaN</td>\n",
       "      <td>17.347599</td>\n",
       "      <td>15.084412</td>\n",
       "      <td>17.769597</td>\n",
       "    </tr>\n",
       "  </tbody>\n",
       "</table>\n",
       "</div>"
      ],
      "text/plain": [
       "     lm_coef  ridge_coef_1  ridge_cv_model.coef_13.6  lasso_coef_alpha_1\n",
       "0  49.731525     16.985747                 16.996002           16.353763\n",
       "1        NaN     17.199238                 18.408439           17.072981\n",
       "2        NaN      5.771487                  6.812353            4.974253\n",
       "3        NaN     17.347599                 15.084412           17.769597"
      ]
     },
     "execution_count": 92,
     "metadata": {},
     "output_type": "execute_result"
    }
   ],
   "source": [
    "pd.concat([lm_df, rm_df, rcm_df, lsm_df], axis=1) "
   ]
  },
  {
   "cell_type": "code",
   "execution_count": 93,
   "id": "22c7d706",
   "metadata": {
    "ExecuteTime": {
     "end_time": "2024-02-10T18:47:46.731823Z",
     "start_time": "2024-02-10T18:47:46.725686Z"
    }
   },
   "outputs": [
    {
     "data": {
      "text/plain": [
       "array([0.01, 0.02, 0.03, 0.04, 0.05, 0.06, 0.07, 0.08, 0.09, 0.1 , 0.11,\n",
       "       0.12, 0.13, 0.14, 0.15, 0.16, 0.17, 0.18, 0.19, 0.2 , 0.21, 0.22,\n",
       "       0.23, 0.24, 0.25, 0.26, 0.27, 0.28, 0.29, 0.3 , 0.31, 0.32, 0.33,\n",
       "       0.34, 0.35, 0.36, 0.37, 0.38, 0.39, 0.4 , 0.41, 0.42, 0.43, 0.44,\n",
       "       0.45, 0.46, 0.47, 0.48, 0.49, 0.5 , 0.51, 0.52, 0.53, 0.54, 0.55,\n",
       "       0.56, 0.57, 0.58, 0.59, 0.6 , 0.61, 0.62, 0.63, 0.64, 0.65, 0.66,\n",
       "       0.67, 0.68, 0.69, 0.7 , 0.71, 0.72, 0.73, 0.74, 0.75, 0.76, 0.77,\n",
       "       0.78, 0.79, 0.8 , 0.81, 0.82, 0.83, 0.84, 0.85, 0.86, 0.87, 0.88,\n",
       "       0.89, 0.9 , 0.91, 0.92, 0.93, 0.94, 0.95, 0.96, 0.97, 0.98, 0.99,\n",
       "       1.  ])"
      ]
     },
     "execution_count": 93,
     "metadata": {},
     "output_type": "execute_result"
    }
   ],
   "source": [
    "alpha_space = np.linspace(0.01, 1, 100)\n",
    "alpha_space"
   ]
  },
  {
   "cell_type": "code",
   "execution_count": 94,
   "id": "3d5e3e90",
   "metadata": {
    "ExecuteTime": {
     "end_time": "2024-02-10T18:47:46.742399Z",
     "start_time": "2024-02-10T18:47:46.737414Z"
    }
   },
   "outputs": [],
   "source": [
    "lasso_cv_model = LassoCV(alphas=alpha_space, cv=5, max_iter=10000, random_state=42)"
   ]
  },
  {
   "cell_type": "code",
   "execution_count": 95,
   "id": "ba7f057e",
   "metadata": {
    "ExecuteTime": {
     "end_time": "2024-02-10T18:47:46.953275Z",
     "start_time": "2024-02-10T18:47:46.743574Z"
    }
   },
   "outputs": [
    {
     "data": {
      "text/html": [
       "<style>#sk-container-id-7 {color: black;}#sk-container-id-7 pre{padding: 0;}#sk-container-id-7 div.sk-toggleable {background-color: white;}#sk-container-id-7 label.sk-toggleable__label {cursor: pointer;display: block;width: 100%;margin-bottom: 0;padding: 0.3em;box-sizing: border-box;text-align: center;}#sk-container-id-7 label.sk-toggleable__label-arrow:before {content: \"▸\";float: left;margin-right: 0.25em;color: #696969;}#sk-container-id-7 label.sk-toggleable__label-arrow:hover:before {color: black;}#sk-container-id-7 div.sk-estimator:hover label.sk-toggleable__label-arrow:before {color: black;}#sk-container-id-7 div.sk-toggleable__content {max-height: 0;max-width: 0;overflow: hidden;text-align: left;background-color: #f0f8ff;}#sk-container-id-7 div.sk-toggleable__content pre {margin: 0.2em;color: black;border-radius: 0.25em;background-color: #f0f8ff;}#sk-container-id-7 input.sk-toggleable__control:checked~div.sk-toggleable__content {max-height: 200px;max-width: 100%;overflow: auto;}#sk-container-id-7 input.sk-toggleable__control:checked~label.sk-toggleable__label-arrow:before {content: \"▾\";}#sk-container-id-7 div.sk-estimator input.sk-toggleable__control:checked~label.sk-toggleable__label {background-color: #d4ebff;}#sk-container-id-7 div.sk-label input.sk-toggleable__control:checked~label.sk-toggleable__label {background-color: #d4ebff;}#sk-container-id-7 input.sk-hidden--visually {border: 0;clip: rect(1px 1px 1px 1px);clip: rect(1px, 1px, 1px, 1px);height: 1px;margin: -1px;overflow: hidden;padding: 0;position: absolute;width: 1px;}#sk-container-id-7 div.sk-estimator {font-family: monospace;background-color: #f0f8ff;border: 1px dotted black;border-radius: 0.25em;box-sizing: border-box;margin-bottom: 0.5em;}#sk-container-id-7 div.sk-estimator:hover {background-color: #d4ebff;}#sk-container-id-7 div.sk-parallel-item::after {content: \"\";width: 100%;border-bottom: 1px solid gray;flex-grow: 1;}#sk-container-id-7 div.sk-label:hover label.sk-toggleable__label {background-color: #d4ebff;}#sk-container-id-7 div.sk-serial::before {content: \"\";position: absolute;border-left: 1px solid gray;box-sizing: border-box;top: 0;bottom: 0;left: 50%;z-index: 0;}#sk-container-id-7 div.sk-serial {display: flex;flex-direction: column;align-items: center;background-color: white;padding-right: 0.2em;padding-left: 0.2em;position: relative;}#sk-container-id-7 div.sk-item {position: relative;z-index: 1;}#sk-container-id-7 div.sk-parallel {display: flex;align-items: stretch;justify-content: center;background-color: white;position: relative;}#sk-container-id-7 div.sk-item::before, #sk-container-id-7 div.sk-parallel-item::before {content: \"\";position: absolute;border-left: 1px solid gray;box-sizing: border-box;top: 0;bottom: 0;left: 50%;z-index: -1;}#sk-container-id-7 div.sk-parallel-item {display: flex;flex-direction: column;z-index: 1;position: relative;background-color: white;}#sk-container-id-7 div.sk-parallel-item:first-child::after {align-self: flex-end;width: 50%;}#sk-container-id-7 div.sk-parallel-item:last-child::after {align-self: flex-start;width: 50%;}#sk-container-id-7 div.sk-parallel-item:only-child::after {width: 0;}#sk-container-id-7 div.sk-dashed-wrapped {border: 1px dashed gray;margin: 0 0.4em 0.5em 0.4em;box-sizing: border-box;padding-bottom: 0.4em;background-color: white;}#sk-container-id-7 div.sk-label label {font-family: monospace;font-weight: bold;display: inline-block;line-height: 1.2em;}#sk-container-id-7 div.sk-label-container {text-align: center;}#sk-container-id-7 div.sk-container {/* jupyter's `normalize.less` sets `[hidden] { display: none; }` but bootstrap.min.css set `[hidden] { display: none !important; }` so we also need the `!important` here to be able to override the default hidden behavior on the sphinx rendered scikit-learn.org. See: https://github.com/scikit-learn/scikit-learn/issues/21755 */display: inline-block !important;position: relative;}#sk-container-id-7 div.sk-text-repr-fallback {display: none;}</style><div id=\"sk-container-id-7\" class=\"sk-top-container\"><div class=\"sk-text-repr-fallback\"><pre>LassoCV(alphas=array([0.01, 0.02, 0.03, 0.04, 0.05, 0.06, 0.07, 0.08, 0.09, 0.1 , 0.11,\n",
       "       0.12, 0.13, 0.14, 0.15, 0.16, 0.17, 0.18, 0.19, 0.2 , 0.21, 0.22,\n",
       "       0.23, 0.24, 0.25, 0.26, 0.27, 0.28, 0.29, 0.3 , 0.31, 0.32, 0.33,\n",
       "       0.34, 0.35, 0.36, 0.37, 0.38, 0.39, 0.4 , 0.41, 0.42, 0.43, 0.44,\n",
       "       0.45, 0.46, 0.47, 0.48, 0.49, 0.5 , 0.51, 0.52, 0.53, 0.54, 0.55,\n",
       "       0.56, 0.57, 0.58, 0.59, 0.6 , 0.61, 0.62, 0.63, 0.64, 0.65, 0.66,\n",
       "       0.67, 0.68, 0.69, 0.7 , 0.71, 0.72, 0.73, 0.74, 0.75, 0.76, 0.77,\n",
       "       0.78, 0.79, 0.8 , 0.81, 0.82, 0.83, 0.84, 0.85, 0.86, 0.87, 0.88,\n",
       "       0.89, 0.9 , 0.91, 0.92, 0.93, 0.94, 0.95, 0.96, 0.97, 0.98, 0.99,\n",
       "       1.  ]),\n",
       "        cv=5, max_iter=10000, random_state=42)</pre><b>In a Jupyter environment, please rerun this cell to show the HTML representation or trust the notebook. <br />On GitHub, the HTML representation is unable to render, please try loading this page with nbviewer.org.</b></div><div class=\"sk-container\" hidden><div class=\"sk-item\"><div class=\"sk-estimator sk-toggleable\"><input class=\"sk-toggleable__control sk-hidden--visually\" id=\"sk-estimator-id-7\" type=\"checkbox\" checked><label for=\"sk-estimator-id-7\" class=\"sk-toggleable__label sk-toggleable__label-arrow\">LassoCV</label><div class=\"sk-toggleable__content\"><pre>LassoCV(alphas=array([0.01, 0.02, 0.03, 0.04, 0.05, 0.06, 0.07, 0.08, 0.09, 0.1 , 0.11,\n",
       "       0.12, 0.13, 0.14, 0.15, 0.16, 0.17, 0.18, 0.19, 0.2 , 0.21, 0.22,\n",
       "       0.23, 0.24, 0.25, 0.26, 0.27, 0.28, 0.29, 0.3 , 0.31, 0.32, 0.33,\n",
       "       0.34, 0.35, 0.36, 0.37, 0.38, 0.39, 0.4 , 0.41, 0.42, 0.43, 0.44,\n",
       "       0.45, 0.46, 0.47, 0.48, 0.49, 0.5 , 0.51, 0.52, 0.53, 0.54, 0.55,\n",
       "       0.56, 0.57, 0.58, 0.59, 0.6 , 0.61, 0.62, 0.63, 0.64, 0.65, 0.66,\n",
       "       0.67, 0.68, 0.69, 0.7 , 0.71, 0.72, 0.73, 0.74, 0.75, 0.76, 0.77,\n",
       "       0.78, 0.79, 0.8 , 0.81, 0.82, 0.83, 0.84, 0.85, 0.86, 0.87, 0.88,\n",
       "       0.89, 0.9 , 0.91, 0.92, 0.93, 0.94, 0.95, 0.96, 0.97, 0.98, 0.99,\n",
       "       1.  ]),\n",
       "        cv=5, max_iter=10000, random_state=42)</pre></div></div></div></div></div>"
      ],
      "text/plain": [
       "LassoCV(alphas=array([0.01, 0.02, 0.03, 0.04, 0.05, 0.06, 0.07, 0.08, 0.09, 0.1 , 0.11,\n",
       "       0.12, 0.13, 0.14, 0.15, 0.16, 0.17, 0.18, 0.19, 0.2 , 0.21, 0.22,\n",
       "       0.23, 0.24, 0.25, 0.26, 0.27, 0.28, 0.29, 0.3 , 0.31, 0.32, 0.33,\n",
       "       0.34, 0.35, 0.36, 0.37, 0.38, 0.39, 0.4 , 0.41, 0.42, 0.43, 0.44,\n",
       "       0.45, 0.46, 0.47, 0.48, 0.49, 0.5 , 0.51, 0.52, 0.53, 0.54, 0.55,\n",
       "       0.56, 0.57, 0.58, 0.59, 0.6 , 0.61, 0.62, 0.63, 0.64, 0.65, 0.66,\n",
       "       0.67, 0.68, 0.69, 0.7 , 0.71, 0.72, 0.73, 0.74, 0.75, 0.76, 0.77,\n",
       "       0.78, 0.79, 0.8 , 0.81, 0.82, 0.83, 0.84, 0.85, 0.86, 0.87, 0.88,\n",
       "       0.89, 0.9 , 0.91, 0.92, 0.93, 0.94, 0.95, 0.96, 0.97, 0.98, 0.99,\n",
       "       1.  ]),\n",
       "        cv=5, max_iter=10000, random_state=42)"
      ]
     },
     "execution_count": 95,
     "metadata": {},
     "output_type": "execute_result"
    }
   ],
   "source": [
    "lasso_cv_model.fit(X_train_scaled, y_train )"
   ]
  },
  {
   "cell_type": "code",
   "execution_count": 96,
   "id": "eba8a0d3",
   "metadata": {
    "ExecuteTime": {
     "end_time": "2024-02-10T18:47:46.973335Z",
     "start_time": "2024-02-10T18:47:46.955750Z"
    }
   },
   "outputs": [
    {
     "data": {
      "text/plain": [
       "0.24000000000000002"
      ]
     },
     "execution_count": 96,
     "metadata": {},
     "output_type": "execute_result"
    }
   ],
   "source": [
    "lasso_cv_model.alpha_"
   ]
  },
  {
   "cell_type": "code",
   "execution_count": 97,
   "id": "4486cd03",
   "metadata": {
    "ExecuteTime": {
     "end_time": "2024-02-10T18:47:46.987567Z",
     "start_time": "2024-02-10T18:47:46.974829Z"
    }
   },
   "outputs": [],
   "source": [
    "best_alpha = lasso_cv_model.alpha_"
   ]
  },
  {
   "cell_type": "code",
   "execution_count": 98,
   "id": "337b95a5",
   "metadata": {
    "ExecuteTime": {
     "end_time": "2024-02-10T18:47:57.351547Z",
     "start_time": "2024-02-10T18:47:46.993488Z"
    }
   },
   "outputs": [
    {
     "data": {
      "image/png": "[encoded data removed]",
      "text/plain": [
       "<Figure size 1000x600 with 1 Axes>"
      ]
     },
     "metadata": {},
     "output_type": "display_data"
    }
   ],
   "source": [
    "rmse_values = []\n",
    "for alpha in alpha_space:\n",
    "    lasso_model = Lasso(alpha=alpha, max_iter=100000, random_state=42)\n",
    "    lasso_model.fit(X, y)\n",
    "    y_pred = lasso_model.predict(X)\n",
    "    rmse = np.sqrt(mean_squared_error(y, y_pred))\n",
    "    rmse_values.append(rmse)\n",
    "# Alpha değerlerini ve RMSE değerlerini görselleştirin\n",
    "plt.figure(figsize=(10, 6))\n",
    "plt.plot(alpha_space, rmse_values, marker='o')\n",
    "plt.xscale('log')  # X eksenini logaritmik ölçekte ayarlayın\n",
    "plt.xlabel('Alpha Değerleri')\n",
    "plt.ylabel('RMSE (Kök Ortalama Kare Hata)')\n",
    "plt.title(f'En İyi Alpha Değeri: {best_alpha:.2e}')\n",
    "plt.grid()\n",
    "plt.show()"
   ]
  },
  {
   "cell_type": "code",
   "execution_count": 99,
   "id": "6a7cdb82",
   "metadata": {
    "ExecuteTime": {
     "end_time": "2024-02-10T18:47:57.377986Z",
     "start_time": "2024-02-10T18:47:57.364606Z"
    }
   },
   "outputs": [],
   "source": [
    "y_pred = lasso_cv_model.predict(X_test)\n",
    "y_train_pred = lasso_cv_model.predict(X_train_scaled)"
   ]
  },
  {
   "cell_type": "code",
   "execution_count": 100,
   "id": "1bc6c1e1",
   "metadata": {
    "ExecuteTime": {
     "end_time": "2024-02-10T18:47:57.402862Z",
     "start_time": "2024-02-10T18:47:57.379754Z"
    }
   },
   "outputs": [
    {
     "data": {
      "text/html": [
       "<div>\n",
       "<style scoped>\n",
       "    .dataframe tbody tr th:only-of-type {\n",
       "        vertical-align: middle;\n",
       "    }\n",
       "\n",
       "    .dataframe tbody tr th {\n",
       "        vertical-align: top;\n",
       "    }\n",
       "\n",
       "    .dataframe thead th {\n",
       "        text-align: right;\n",
       "    }\n",
       "</style>\n",
       "<table border=\"1\" class=\"dataframe\">\n",
       "  <thead>\n",
       "    <tr style=\"text-align: right;\">\n",
       "      <th></th>\n",
       "      <th>lasso_cv_train</th>\n",
       "      <th>lasso_cv_test</th>\n",
       "    </tr>\n",
       "  </thead>\n",
       "  <tbody>\n",
       "    <tr>\n",
       "      <th>R2</th>\n",
       "      <td>0.873648</td>\n",
       "      <td>-77.456086</td>\n",
       "    </tr>\n",
       "    <tr>\n",
       "      <th>mae</th>\n",
       "      <td>13.473127</td>\n",
       "      <td>506.892490</td>\n",
       "    </tr>\n",
       "    <tr>\n",
       "      <th>mse</th>\n",
       "      <td>435.010865</td>\n",
       "      <td>264987.425310</td>\n",
       "    </tr>\n",
       "    <tr>\n",
       "      <th>rmse</th>\n",
       "      <td>20.856914</td>\n",
       "      <td>514.769293</td>\n",
       "    </tr>\n",
       "  </tbody>\n",
       "</table>\n",
       "</div>"
      ],
      "text/plain": [
       "      lasso_cv_train  lasso_cv_test\n",
       "R2          0.873648     -77.456086\n",
       "mae        13.473127     506.892490\n",
       "mse       435.010865  264987.425310\n",
       "rmse       20.856914     514.769293"
      ]
     },
     "execution_count": 100,
     "metadata": {},
     "output_type": "execute_result"
    }
   ],
   "source": [
    "lcs = train_val(y_train, y_train_pred, y_test, y_pred, \"lasso_cv\")\n",
    "lcs"
   ]
  },
  {
   "cell_type": "code",
   "execution_count": 101,
   "id": "5c39e48d",
   "metadata": {
    "ExecuteTime": {
     "end_time": "2024-02-10T18:47:57.433308Z",
     "start_time": "2024-02-10T18:47:57.404861Z"
    }
   },
   "outputs": [
    {
     "data": {
      "text/html": [
       "<div>\n",
       "<style scoped>\n",
       "    .dataframe tbody tr th:only-of-type {\n",
       "        vertical-align: middle;\n",
       "    }\n",
       "\n",
       "    .dataframe tbody tr th {\n",
       "        vertical-align: top;\n",
       "    }\n",
       "\n",
       "    .dataframe thead th {\n",
       "        text-align: right;\n",
       "    }\n",
       "</style>\n",
       "<table border=\"1\" class=\"dataframe\">\n",
       "  <thead>\n",
       "    <tr style=\"text-align: right;\">\n",
       "      <th></th>\n",
       "      <th>linear_train</th>\n",
       "      <th>linear_test</th>\n",
       "      <th>ridge_train</th>\n",
       "      <th>ridge_test</th>\n",
       "      <th>ridge_cv_train</th>\n",
       "      <th>ridge_cv_test</th>\n",
       "      <th>lasso_train</th>\n",
       "      <th>lasso_test</th>\n",
       "      <th>lasso_cv_train</th>\n",
       "      <th>lasso_cv_test</th>\n",
       "    </tr>\n",
       "  </thead>\n",
       "  <tbody>\n",
       "    <tr>\n",
       "      <th>R2</th>\n",
       "      <td>0.873668</td>\n",
       "      <td>0.873554</td>\n",
       "      <td>0.873667</td>\n",
       "      <td>0.873543</td>\n",
       "      <td>0.873663</td>\n",
       "      <td>0.873535</td>\n",
       "      <td>0.873341</td>\n",
       "      <td>0.873733</td>\n",
       "      <td>0.873648</td>\n",
       "      <td>-77.456086</td>\n",
       "    </tr>\n",
       "    <tr>\n",
       "      <th>mae</th>\n",
       "      <td>13.424130</td>\n",
       "      <td>13.156975</td>\n",
       "      <td>13.424475</td>\n",
       "      <td>13.158126</td>\n",
       "      <td>13.428366</td>\n",
       "      <td>13.162172</td>\n",
       "      <td>13.651458</td>\n",
       "      <td>13.377128</td>\n",
       "      <td>13.473127</td>\n",
       "      <td>506.892490</td>\n",
       "    </tr>\n",
       "    <tr>\n",
       "      <th>mse</th>\n",
       "      <td>434.941944</td>\n",
       "      <td>427.074018</td>\n",
       "      <td>434.944562</td>\n",
       "      <td>427.110221</td>\n",
       "      <td>434.959111</td>\n",
       "      <td>427.139035</td>\n",
       "      <td>436.066012</td>\n",
       "      <td>426.471264</td>\n",
       "      <td>435.010865</td>\n",
       "      <td>264987.425310</td>\n",
       "    </tr>\n",
       "    <tr>\n",
       "      <th>rmse</th>\n",
       "      <td>20.855262</td>\n",
       "      <td>20.665769</td>\n",
       "      <td>20.855325</td>\n",
       "      <td>20.666645</td>\n",
       "      <td>20.855673</td>\n",
       "      <td>20.667342</td>\n",
       "      <td>20.882194</td>\n",
       "      <td>20.651181</td>\n",
       "      <td>20.856914</td>\n",
       "      <td>514.769293</td>\n",
       "    </tr>\n",
       "  </tbody>\n",
       "</table>\n",
       "</div>"
      ],
      "text/plain": [
       "      linear_train  linear_test  ridge_train  ridge_test  ridge_cv_train  \\\n",
       "R2        0.873668     0.873554     0.873667    0.873543        0.873663   \n",
       "mae      13.424130    13.156975    13.424475   13.158126       13.428366   \n",
       "mse     434.941944   427.074018   434.944562  427.110221      434.959111   \n",
       "rmse     20.855262    20.665769    20.855325   20.666645       20.855673   \n",
       "\n",
       "      ridge_cv_test  lasso_train  lasso_test  lasso_cv_train  lasso_cv_test  \n",
       "R2         0.873535     0.873341    0.873733        0.873648     -77.456086  \n",
       "mae       13.162172    13.651458   13.377128       13.473127     506.892490  \n",
       "mse      427.139035   436.066012  426.471264      435.010865  264987.425310  \n",
       "rmse      20.667342    20.882194   20.651181       20.856914     514.769293  "
      ]
     },
     "execution_count": 101,
     "metadata": {},
     "output_type": "execute_result"
    }
   ],
   "source": [
    "pd.concat([ls_1, rs, rcs, lss, lcs], axis = 1)"
   ]
  },
  {
   "cell_type": "code",
   "execution_count": 102,
   "id": "583e9596",
   "metadata": {
    "ExecuteTime": {
     "end_time": "2024-02-10T18:47:57.456616Z",
     "start_time": "2024-02-10T18:47:57.444455Z"
    }
   },
   "outputs": [
    {
     "data": {
      "text/plain": [
       "array([16.83502037, 12.20179047,  2.96067117, 24.94546221])"
      ]
     },
     "execution_count": 102,
     "metadata": {},
     "output_type": "execute_result"
    }
   ],
   "source": [
    "lasso_cv_model.coef_"
   ]
  },
  {
   "cell_type": "code",
   "execution_count": 103,
   "id": "9130ff6d",
   "metadata": {
    "ExecuteTime": {
     "end_time": "2024-02-10T18:47:57.471289Z",
     "start_time": "2024-02-10T18:47:57.458247Z"
    }
   },
   "outputs": [],
   "source": [
    "lcm_df = pd.DataFrame(lasso_cv_model.coef_, columns=[\"lasso_cv_coef_0.24\"])"
   ]
  },
  {
   "cell_type": "code",
   "execution_count": 104,
   "id": "2026b4ed",
   "metadata": {
    "ExecuteTime": {
     "end_time": "2024-02-10T18:47:57.480445Z",
     "start_time": "2024-02-10T18:47:57.473149Z"
    }
   },
   "outputs": [
    {
     "data": {
      "text/html": [
       "<div>\n",
       "<style scoped>\n",
       "    .dataframe tbody tr th:only-of-type {\n",
       "        vertical-align: middle;\n",
       "    }\n",
       "\n",
       "    .dataframe tbody tr th {\n",
       "        vertical-align: top;\n",
       "    }\n",
       "\n",
       "    .dataframe thead th {\n",
       "        text-align: right;\n",
       "    }\n",
       "</style>\n",
       "<table border=\"1\" class=\"dataframe\">\n",
       "  <thead>\n",
       "    <tr style=\"text-align: right;\">\n",
       "      <th></th>\n",
       "      <th>lm_coef</th>\n",
       "      <th>ridge_coef_1</th>\n",
       "      <th>ridge_cv_model.coef_13.6</th>\n",
       "      <th>lasso_coef_alpha_1</th>\n",
       "      <th>lasso_cv_coef_0.24</th>\n",
       "    </tr>\n",
       "  </thead>\n",
       "  <tbody>\n",
       "    <tr>\n",
       "      <th>0</th>\n",
       "      <td>49.731525</td>\n",
       "      <td>16.985747</td>\n",
       "      <td>16.996002</td>\n",
       "      <td>16.353763</td>\n",
       "      <td>16.835020</td>\n",
       "    </tr>\n",
       "    <tr>\n",
       "      <th>1</th>\n",
       "      <td>NaN</td>\n",
       "      <td>17.199238</td>\n",
       "      <td>18.408439</td>\n",
       "      <td>17.072981</td>\n",
       "      <td>12.201790</td>\n",
       "    </tr>\n",
       "    <tr>\n",
       "      <th>2</th>\n",
       "      <td>NaN</td>\n",
       "      <td>5.771487</td>\n",
       "      <td>6.812353</td>\n",
       "      <td>4.974253</td>\n",
       "      <td>2.960671</td>\n",
       "    </tr>\n",
       "    <tr>\n",
       "      <th>3</th>\n",
       "      <td>NaN</td>\n",
       "      <td>17.347599</td>\n",
       "      <td>15.084412</td>\n",
       "      <td>17.769597</td>\n",
       "      <td>24.945462</td>\n",
       "    </tr>\n",
       "  </tbody>\n",
       "</table>\n",
       "</div>"
      ],
      "text/plain": [
       "     lm_coef  ridge_coef_1  ridge_cv_model.coef_13.6  lasso_coef_alpha_1  \\\n",
       "0  49.731525     16.985747                 16.996002           16.353763   \n",
       "1        NaN     17.199238                 18.408439           17.072981   \n",
       "2        NaN      5.771487                  6.812353            4.974253   \n",
       "3        NaN     17.347599                 15.084412           17.769597   \n",
       "\n",
       "   lasso_cv_coef_0.24  \n",
       "0           16.835020  \n",
       "1           12.201790  \n",
       "2            2.960671  \n",
       "3           24.945462  "
      ]
     },
     "execution_count": 104,
     "metadata": {},
     "output_type": "execute_result"
    }
   ],
   "source": [
    "pd.concat([lm_df, rm_df, rcm_df, lsm_df, lcm_df], axis=1)"
   ]
  },
  {
   "cell_type": "markdown",
   "id": "f72065de",
   "metadata": {},
   "source": [
    "### Elastic Net"
   ]
  },
  {
   "cell_type": "code",
   "execution_count": 105,
   "id": "492c01fb",
   "metadata": {
    "ExecuteTime": {
     "end_time": "2024-02-10T18:47:57.484348Z",
     "start_time": "2024-02-10T18:47:57.482312Z"
    }
   },
   "outputs": [],
   "source": [
    "from sklearn.linear_model import ElasticNet, ElasticNetCV"
   ]
  },
  {
   "cell_type": "code",
   "execution_count": 106,
   "id": "af20cafa",
   "metadata": {
    "ExecuteTime": {
     "end_time": "2024-02-10T18:47:57.487991Z",
     "start_time": "2024-02-10T18:47:57.485515Z"
    }
   },
   "outputs": [],
   "source": [
    "elastic_model = ElasticNet(alpha =1.0, l1_ratio=0.5 , random_state= 42)"
   ]
  },
  {
   "cell_type": "code",
   "execution_count": 107,
   "id": "e7926375",
   "metadata": {
    "ExecuteTime": {
     "end_time": "2024-02-10T18:47:57.499701Z",
     "start_time": "2024-02-10T18:47:57.489655Z"
    }
   },
   "outputs": [
    {
     "data": {
      "text/html": [
       "<style>#sk-container-id-8 {color: black;}#sk-container-id-8 pre{padding: 0;}#sk-container-id-8 div.sk-toggleable {background-color: white;}#sk-container-id-8 label.sk-toggleable__label {cursor: pointer;display: block;width: 100%;margin-bottom: 0;padding: 0.3em;box-sizing: border-box;text-align: center;}#sk-container-id-8 label.sk-toggleable__label-arrow:before {content: \"▸\";float: left;margin-right: 0.25em;color: #696969;}#sk-container-id-8 label.sk-toggleable__label-arrow:hover:before {color: black;}#sk-container-id-8 div.sk-estimator:hover label.sk-toggleable__label-arrow:before {color: black;}#sk-container-id-8 div.sk-toggleable__content {max-height: 0;max-width: 0;overflow: hidden;text-align: left;background-color: #f0f8ff;}#sk-container-id-8 div.sk-toggleable__content pre {margin: 0.2em;color: black;border-radius: 0.25em;background-color: #f0f8ff;}#sk-container-id-8 input.sk-toggleable__control:checked~div.sk-toggleable__content {max-height: 200px;max-width: 100%;overflow: auto;}#sk-container-id-8 input.sk-toggleable__control:checked~label.sk-toggleable__label-arrow:before {content: \"▾\";}#sk-container-id-8 div.sk-estimator input.sk-toggleable__control:checked~label.sk-toggleable__label {background-color: #d4ebff;}#sk-container-id-8 div.sk-label input.sk-toggleable__control:checked~label.sk-toggleable__label {background-color: #d4ebff;}#sk-container-id-8 input.sk-hidden--visually {border: 0;clip: rect(1px 1px 1px 1px);clip: rect(1px, 1px, 1px, 1px);height: 1px;margin: -1px;overflow: hidden;padding: 0;position: absolute;width: 1px;}#sk-container-id-8 div.sk-estimator {font-family: monospace;background-color: #f0f8ff;border: 1px dotted black;border-radius: 0.25em;box-sizing: border-box;margin-bottom: 0.5em;}#sk-container-id-8 div.sk-estimator:hover {background-color: #d4ebff;}#sk-container-id-8 div.sk-parallel-item::after {content: \"\";width: 100%;border-bottom: 1px solid gray;flex-grow: 1;}#sk-container-id-8 div.sk-label:hover label.sk-toggleable__label {background-color: #d4ebff;}#sk-container-id-8 div.sk-serial::before {content: \"\";position: absolute;border-left: 1px solid gray;box-sizing: border-box;top: 0;bottom: 0;left: 50%;z-index: 0;}#sk-container-id-8 div.sk-serial {display: flex;flex-direction: column;align-items: center;background-color: white;padding-right: 0.2em;padding-left: 0.2em;position: relative;}#sk-container-id-8 div.sk-item {position: relative;z-index: 1;}#sk-container-id-8 div.sk-parallel {display: flex;align-items: stretch;justify-content: center;background-color: white;position: relative;}#sk-container-id-8 div.sk-item::before, #sk-container-id-8 div.sk-parallel-item::before {content: \"\";position: absolute;border-left: 1px solid gray;box-sizing: border-box;top: 0;bottom: 0;left: 50%;z-index: -1;}#sk-container-id-8 div.sk-parallel-item {display: flex;flex-direction: column;z-index: 1;position: relative;background-color: white;}#sk-container-id-8 div.sk-parallel-item:first-child::after {align-self: flex-end;width: 50%;}#sk-container-id-8 div.sk-parallel-item:last-child::after {align-self: flex-start;width: 50%;}#sk-container-id-8 div.sk-parallel-item:only-child::after {width: 0;}#sk-container-id-8 div.sk-dashed-wrapped {border: 1px dashed gray;margin: 0 0.4em 0.5em 0.4em;box-sizing: border-box;padding-bottom: 0.4em;background-color: white;}#sk-container-id-8 div.sk-label label {font-family: monospace;font-weight: bold;display: inline-block;line-height: 1.2em;}#sk-container-id-8 div.sk-label-container {text-align: center;}#sk-container-id-8 div.sk-container {/* jupyter's `normalize.less` sets `[hidden] { display: none; }` but bootstrap.min.css set `[hidden] { display: none !important; }` so we also need the `!important` here to be able to override the default hidden behavior on the sphinx rendered scikit-learn.org. See: https://github.com/scikit-learn/scikit-learn/issues/21755 */display: inline-block !important;position: relative;}#sk-container-id-8 div.sk-text-repr-fallback {display: none;}</style><div id=\"sk-container-id-8\" class=\"sk-top-container\"><div class=\"sk-text-repr-fallback\"><pre>ElasticNet(random_state=42)</pre><b>In a Jupyter environment, please rerun this cell to show the HTML representation or trust the notebook. <br />On GitHub, the HTML representation is unable to render, please try loading this page with nbviewer.org.</b></div><div class=\"sk-container\" hidden><div class=\"sk-item\"><div class=\"sk-estimator sk-toggleable\"><input class=\"sk-toggleable__control sk-hidden--visually\" id=\"sk-estimator-id-8\" type=\"checkbox\" checked><label for=\"sk-estimator-id-8\" class=\"sk-toggleable__label sk-toggleable__label-arrow\">ElasticNet</label><div class=\"sk-toggleable__content\"><pre>ElasticNet(random_state=42)</pre></div></div></div></div></div>"
      ],
      "text/plain": [
       "ElasticNet(random_state=42)"
      ]
     },
     "execution_count": 107,
     "metadata": {},
     "output_type": "execute_result"
    }
   ],
   "source": [
    "elastic_model.fit(X_train_scaled, y_train)"
   ]
  },
  {
   "cell_type": "code",
   "execution_count": 108,
   "id": "702e9ce9",
   "metadata": {
    "ExecuteTime": {
     "end_time": "2024-02-10T18:47:57.509658Z",
     "start_time": "2024-02-10T18:47:57.502673Z"
    }
   },
   "outputs": [],
   "source": [
    "y_pred = elastic_model.predict(X_test_scaled)\n",
    "y_train_pred = elastic_model.predict(X_train_scaled)"
   ]
  },
  {
   "cell_type": "code",
   "execution_count": 109,
   "id": "234b22b0",
   "metadata": {
    "ExecuteTime": {
     "end_time": "2024-02-10T18:47:57.519667Z",
     "start_time": "2024-02-10T18:47:57.510963Z"
    }
   },
   "outputs": [
    {
     "data": {
      "text/html": [
       "<div>\n",
       "<style scoped>\n",
       "    .dataframe tbody tr th:only-of-type {\n",
       "        vertical-align: middle;\n",
       "    }\n",
       "\n",
       "    .dataframe tbody tr th {\n",
       "        vertical-align: top;\n",
       "    }\n",
       "\n",
       "    .dataframe thead th {\n",
       "        text-align: right;\n",
       "    }\n",
       "</style>\n",
       "<table border=\"1\" class=\"dataframe\">\n",
       "  <thead>\n",
       "    <tr style=\"text-align: right;\">\n",
       "      <th></th>\n",
       "      <th>elastic_train</th>\n",
       "      <th>elastic_test</th>\n",
       "    </tr>\n",
       "  </thead>\n",
       "  <tbody>\n",
       "    <tr>\n",
       "      <th>R2</th>\n",
       "      <td>0.857501</td>\n",
       "      <td>0.859910</td>\n",
       "    </tr>\n",
       "    <tr>\n",
       "      <th>mae</th>\n",
       "      <td>15.758966</td>\n",
       "      <td>15.419568</td>\n",
       "    </tr>\n",
       "    <tr>\n",
       "      <th>mse</th>\n",
       "      <td>490.601369</td>\n",
       "      <td>473.158287</td>\n",
       "    </tr>\n",
       "    <tr>\n",
       "      <th>rmse</th>\n",
       "      <td>22.149523</td>\n",
       "      <td>21.752202</td>\n",
       "    </tr>\n",
       "  </tbody>\n",
       "</table>\n",
       "</div>"
      ],
      "text/plain": [
       "      elastic_train  elastic_test\n",
       "R2         0.857501      0.859910\n",
       "mae       15.758966     15.419568\n",
       "mse      490.601369    473.158287\n",
       "rmse      22.149523     21.752202"
      ]
     },
     "execution_count": 109,
     "metadata": {},
     "output_type": "execute_result"
    }
   ],
   "source": [
    "es = train_val(y_train, y_train_pred, y_test, y_pred, \"elastic\")\n",
    "es"
   ]
  },
  {
   "cell_type": "code",
   "execution_count": 110,
   "id": "2e106fba",
   "metadata": {
    "ExecuteTime": {
     "end_time": "2024-02-10T18:47:57.531363Z",
     "start_time": "2024-02-10T18:47:57.522362Z"
    }
   },
   "outputs": [
    {
     "data": {
      "text/html": [
       "<div>\n",
       "<style scoped>\n",
       "    .dataframe tbody tr th:only-of-type {\n",
       "        vertical-align: middle;\n",
       "    }\n",
       "\n",
       "    .dataframe tbody tr th {\n",
       "        vertical-align: top;\n",
       "    }\n",
       "\n",
       "    .dataframe thead th {\n",
       "        text-align: right;\n",
       "    }\n",
       "</style>\n",
       "<table border=\"1\" class=\"dataframe\">\n",
       "  <thead>\n",
       "    <tr style=\"text-align: right;\">\n",
       "      <th></th>\n",
       "      <th>linear_train</th>\n",
       "      <th>linear_test</th>\n",
       "      <th>ridge_train</th>\n",
       "      <th>ridge_test</th>\n",
       "      <th>ridge_cv_train</th>\n",
       "      <th>ridge_cv_test</th>\n",
       "      <th>lasso_train</th>\n",
       "      <th>lasso_test</th>\n",
       "      <th>lasso_cv_train</th>\n",
       "      <th>lasso_cv_test</th>\n",
       "      <th>elastic_train</th>\n",
       "      <th>elastic_test</th>\n",
       "    </tr>\n",
       "  </thead>\n",
       "  <tbody>\n",
       "    <tr>\n",
       "      <th>R2</th>\n",
       "      <td>0.873668</td>\n",
       "      <td>0.873554</td>\n",
       "      <td>0.873667</td>\n",
       "      <td>0.873543</td>\n",
       "      <td>0.873663</td>\n",
       "      <td>0.873535</td>\n",
       "      <td>0.873341</td>\n",
       "      <td>0.873733</td>\n",
       "      <td>0.873648</td>\n",
       "      <td>-77.456086</td>\n",
       "      <td>0.857501</td>\n",
       "      <td>0.859910</td>\n",
       "    </tr>\n",
       "    <tr>\n",
       "      <th>mae</th>\n",
       "      <td>13.424130</td>\n",
       "      <td>13.156975</td>\n",
       "      <td>13.424475</td>\n",
       "      <td>13.158126</td>\n",
       "      <td>13.428366</td>\n",
       "      <td>13.162172</td>\n",
       "      <td>13.651458</td>\n",
       "      <td>13.377128</td>\n",
       "      <td>13.473127</td>\n",
       "      <td>506.892490</td>\n",
       "      <td>15.758966</td>\n",
       "      <td>15.419568</td>\n",
       "    </tr>\n",
       "    <tr>\n",
       "      <th>mse</th>\n",
       "      <td>434.941944</td>\n",
       "      <td>427.074018</td>\n",
       "      <td>434.944562</td>\n",
       "      <td>427.110221</td>\n",
       "      <td>434.959111</td>\n",
       "      <td>427.139035</td>\n",
       "      <td>436.066012</td>\n",
       "      <td>426.471264</td>\n",
       "      <td>435.010865</td>\n",
       "      <td>264987.425310</td>\n",
       "      <td>490.601369</td>\n",
       "      <td>473.158287</td>\n",
       "    </tr>\n",
       "    <tr>\n",
       "      <th>rmse</th>\n",
       "      <td>20.855262</td>\n",
       "      <td>20.665769</td>\n",
       "      <td>20.855325</td>\n",
       "      <td>20.666645</td>\n",
       "      <td>20.855673</td>\n",
       "      <td>20.667342</td>\n",
       "      <td>20.882194</td>\n",
       "      <td>20.651181</td>\n",
       "      <td>20.856914</td>\n",
       "      <td>514.769293</td>\n",
       "      <td>22.149523</td>\n",
       "      <td>21.752202</td>\n",
       "    </tr>\n",
       "  </tbody>\n",
       "</table>\n",
       "</div>"
      ],
      "text/plain": [
       "      linear_train  linear_test  ridge_train  ridge_test  ridge_cv_train  \\\n",
       "R2        0.873668     0.873554     0.873667    0.873543        0.873663   \n",
       "mae      13.424130    13.156975    13.424475   13.158126       13.428366   \n",
       "mse     434.941944   427.074018   434.944562  427.110221      434.959111   \n",
       "rmse     20.855262    20.665769    20.855325   20.666645       20.855673   \n",
       "\n",
       "      ridge_cv_test  lasso_train  lasso_test  lasso_cv_train  lasso_cv_test  \\\n",
       "R2         0.873535     0.873341    0.873733        0.873648     -77.456086   \n",
       "mae       13.162172    13.651458   13.377128       13.473127     506.892490   \n",
       "mse      427.139035   436.066012  426.471264      435.010865  264987.425310   \n",
       "rmse      20.667342    20.882194   20.651181       20.856914     514.769293   \n",
       "\n",
       "      elastic_train  elastic_test  \n",
       "R2         0.857501      0.859910  \n",
       "mae       15.758966     15.419568  \n",
       "mse      490.601369    473.158287  \n",
       "rmse      22.149523     21.752202  "
      ]
     },
     "execution_count": 110,
     "metadata": {},
     "output_type": "execute_result"
    }
   ],
   "source": [
    "pd.concat([ls_1, rs, rcs, lss, lcs, es], axis=1)"
   ]
  },
  {
   "cell_type": "code",
   "execution_count": 111,
   "id": "beec5308",
   "metadata": {
    "ExecuteTime": {
     "end_time": "2024-02-10T18:47:57.587724Z",
     "start_time": "2024-02-10T18:47:57.532719Z"
    }
   },
   "outputs": [],
   "source": [
    "model = ElasticNet(alpha=1, l1_ratio=0.5 ,random_state = 42)\n",
    "scores = cross_validate(model, X_train_scaled, y_train, scoring =['r2',\n",
    "                                                                  'neg_mean_absolute_error',\n",
    "                                                                  'neg_mean_squared_error',\n",
    "                                                                  'neg_root_mean_squared_error',], cv = 5)"
   ]
  },
  {
   "cell_type": "code",
   "execution_count": 112,
   "id": "54a8fb12",
   "metadata": {
    "ExecuteTime": {
     "end_time": "2024-02-10T18:47:57.646430Z",
     "start_time": "2024-02-10T18:47:57.589336Z"
    }
   },
   "outputs": [
    {
     "data": {
      "text/plain": [
       "test_r2                               0.857366\n",
       "test_neg_mean_absolute_error        -15.764043\n",
       "test_neg_mean_squared_error        -490.971534\n",
       "test_neg_root_mean_squared_error    -22.140930\n",
       "dtype: float64"
      ]
     },
     "execution_count": 112,
     "metadata": {},
     "output_type": "execute_result"
    }
   ],
   "source": [
    "scores = pd.DataFrame(scores, index = range(1,6))\n",
    "scores.iloc[:, 2:].mean()"
   ]
  },
  {
   "cell_type": "code",
   "execution_count": 113,
   "id": "a0dc8a9c",
   "metadata": {
    "ExecuteTime": {
     "end_time": "2024-02-10T18:47:57.685481Z",
     "start_time": "2024-02-10T18:47:57.647935Z"
    }
   },
   "outputs": [
    {
     "data": {
      "text/html": [
       "<div>\n",
       "<style scoped>\n",
       "    .dataframe tbody tr th:only-of-type {\n",
       "        vertical-align: middle;\n",
       "    }\n",
       "\n",
       "    .dataframe tbody tr th {\n",
       "        vertical-align: top;\n",
       "    }\n",
       "\n",
       "    .dataframe thead th {\n",
       "        text-align: right;\n",
       "    }\n",
       "</style>\n",
       "<table border=\"1\" class=\"dataframe\">\n",
       "  <thead>\n",
       "    <tr style=\"text-align: right;\">\n",
       "      <th></th>\n",
       "      <th>elastic_train</th>\n",
       "      <th>elastic_test</th>\n",
       "    </tr>\n",
       "  </thead>\n",
       "  <tbody>\n",
       "    <tr>\n",
       "      <th>R2</th>\n",
       "      <td>0.857501</td>\n",
       "      <td>0.859910</td>\n",
       "    </tr>\n",
       "    <tr>\n",
       "      <th>mae</th>\n",
       "      <td>15.758966</td>\n",
       "      <td>15.419568</td>\n",
       "    </tr>\n",
       "    <tr>\n",
       "      <th>mse</th>\n",
       "      <td>490.601369</td>\n",
       "      <td>473.158287</td>\n",
       "    </tr>\n",
       "    <tr>\n",
       "      <th>rmse</th>\n",
       "      <td>22.149523</td>\n",
       "      <td>21.752202</td>\n",
       "    </tr>\n",
       "  </tbody>\n",
       "</table>\n",
       "</div>"
      ],
      "text/plain": [
       "      elastic_train  elastic_test\n",
       "R2         0.857501      0.859910\n",
       "mae       15.758966     15.419568\n",
       "mse      490.601369    473.158287\n",
       "rmse      22.149523     21.752202"
      ]
     },
     "execution_count": 113,
     "metadata": {},
     "output_type": "execute_result"
    }
   ],
   "source": [
    "train_val(y_train, y_train_pred, y_test, y_pred, \"elastic\")"
   ]
  },
  {
   "cell_type": "code",
   "execution_count": 114,
   "id": "cfaad58a",
   "metadata": {
    "ExecuteTime": {
     "end_time": "2024-02-10T18:47:57.705394Z",
     "start_time": "2024-02-10T18:47:57.687617Z"
    }
   },
   "outputs": [
    {
     "data": {
      "text/plain": [
       "array([13.17816176, 12.97312536, 11.23667893, 12.54022897])"
      ]
     },
     "execution_count": 114,
     "metadata": {},
     "output_type": "execute_result"
    }
   ],
   "source": [
    "elastic_model.coef_"
   ]
  },
  {
   "cell_type": "code",
   "execution_count": 115,
   "id": "980bec92",
   "metadata": {
    "ExecuteTime": {
     "end_time": "2024-02-10T18:47:57.709920Z",
     "start_time": "2024-02-10T18:47:57.707248Z"
    }
   },
   "outputs": [],
   "source": [
    "em_df = pd.DataFrame(elastic_model.coef_, columns = [\"elastic_coef_(apl:1) l1:0.5\"])"
   ]
  },
  {
   "cell_type": "code",
   "execution_count": 116,
   "id": "d309411d",
   "metadata": {
    "ExecuteTime": {
     "end_time": "2024-02-10T18:47:57.720540Z",
     "start_time": "2024-02-10T18:47:57.712463Z"
    },
    "scrolled": true
   },
   "outputs": [
    {
     "data": {
      "text/html": [
       "<div>\n",
       "<style scoped>\n",
       "    .dataframe tbody tr th:only-of-type {\n",
       "        vertical-align: middle;\n",
       "    }\n",
       "\n",
       "    .dataframe tbody tr th {\n",
       "        vertical-align: top;\n",
       "    }\n",
       "\n",
       "    .dataframe thead th {\n",
       "        text-align: right;\n",
       "    }\n",
       "</style>\n",
       "<table border=\"1\" class=\"dataframe\">\n",
       "  <thead>\n",
       "    <tr style=\"text-align: right;\">\n",
       "      <th></th>\n",
       "      <th>lm_1_coef</th>\n",
       "      <th>ridge_coef_1</th>\n",
       "      <th>ridge_cv_model.coef_13.6</th>\n",
       "      <th>lasso_coef_alpha_1</th>\n",
       "      <th>lasso_cv_coef_0.24</th>\n",
       "      <th>elastic_coef_(apl:1) l1:0.5</th>\n",
       "    </tr>\n",
       "  </thead>\n",
       "  <tbody>\n",
       "    <tr>\n",
       "      <th>0</th>\n",
       "      <td>16.985172</td>\n",
       "      <td>16.985747</td>\n",
       "      <td>16.996002</td>\n",
       "      <td>16.353763</td>\n",
       "      <td>16.835020</td>\n",
       "      <td>13.178162</td>\n",
       "    </tr>\n",
       "    <tr>\n",
       "      <th>1</th>\n",
       "      <td>14.962943</td>\n",
       "      <td>17.199238</td>\n",
       "      <td>18.408439</td>\n",
       "      <td>17.072981</td>\n",
       "      <td>12.201790</td>\n",
       "      <td>12.973125</td>\n",
       "    </tr>\n",
       "    <tr>\n",
       "      <th>2</th>\n",
       "      <td>4.573660</td>\n",
       "      <td>5.771487</td>\n",
       "      <td>6.812353</td>\n",
       "      <td>4.974253</td>\n",
       "      <td>2.960671</td>\n",
       "      <td>11.236679</td>\n",
       "    </tr>\n",
       "    <tr>\n",
       "      <th>3</th>\n",
       "      <td>20.743780</td>\n",
       "      <td>17.347599</td>\n",
       "      <td>15.084412</td>\n",
       "      <td>17.769597</td>\n",
       "      <td>24.945462</td>\n",
       "      <td>12.540229</td>\n",
       "    </tr>\n",
       "  </tbody>\n",
       "</table>\n",
       "</div>"
      ],
      "text/plain": [
       "   lm_1_coef  ridge_coef_1  ridge_cv_model.coef_13.6  lasso_coef_alpha_1  \\\n",
       "0  16.985172     16.985747                 16.996002           16.353763   \n",
       "1  14.962943     17.199238                 18.408439           17.072981   \n",
       "2   4.573660      5.771487                  6.812353            4.974253   \n",
       "3  20.743780     17.347599                 15.084412           17.769597   \n",
       "\n",
       "   lasso_cv_coef_0.24  elastic_coef_(apl:1) l1:0.5  \n",
       "0           16.835020                    13.178162  \n",
       "1           12.201790                    12.973125  \n",
       "2            2.960671                    11.236679  \n",
       "3           24.945462                    12.540229  "
      ]
     },
     "execution_count": 116,
     "metadata": {},
     "output_type": "execute_result"
    }
   ],
   "source": [
    "pd.concat([lm_1_df, rm_df, rcm_df, lsm_df, lcm_df, em_df], axis=1)"
   ]
  },
  {
   "cell_type": "code",
   "execution_count": 117,
   "id": "dbef9ae5",
   "metadata": {
    "ExecuteTime": {
     "end_time": "2024-02-10T18:47:57.725542Z",
     "start_time": "2024-02-10T18:47:57.722935Z"
    }
   },
   "outputs": [],
   "source": [
    "elastic_cv_model = ElasticNetCV(alphas= alpha_space, l1_ratio=[0.1, 0.5, 0.7, 0.9, 0.95, 1], \n",
    "                                cv=5, max_iter = 100000, random_state=42)"
   ]
  },
  {
   "cell_type": "code",
   "execution_count": 118,
   "id": "15c8dfd0",
   "metadata": {
    "ExecuteTime": {
     "end_time": "2024-02-10T18:47:57.913682Z",
     "start_time": "2024-02-10T18:47:57.727230Z"
    }
   },
   "outputs": [
    {
     "data": {
      "text/html": [
       "<style>#sk-container-id-9 {color: black;}#sk-container-id-9 pre{padding: 0;}#sk-container-id-9 div.sk-toggleable {background-color: white;}#sk-container-id-9 label.sk-toggleable__label {cursor: pointer;display: block;width: 100%;margin-bottom: 0;padding: 0.3em;box-sizing: border-box;text-align: center;}#sk-container-id-9 label.sk-toggleable__label-arrow:before {content: \"▸\";float: left;margin-right: 0.25em;color: #696969;}#sk-container-id-9 label.sk-toggleable__label-arrow:hover:before {color: black;}#sk-container-id-9 div.sk-estimator:hover label.sk-toggleable__label-arrow:before {color: black;}#sk-container-id-9 div.sk-toggleable__content {max-height: 0;max-width: 0;overflow: hidden;text-align: left;background-color: #f0f8ff;}#sk-container-id-9 div.sk-toggleable__content pre {margin: 0.2em;color: black;border-radius: 0.25em;background-color: #f0f8ff;}#sk-container-id-9 input.sk-toggleable__control:checked~div.sk-toggleable__content {max-height: 200px;max-width: 100%;overflow: auto;}#sk-container-id-9 input.sk-toggleable__control:checked~label.sk-toggleable__label-arrow:before {content: \"▾\";}#sk-container-id-9 div.sk-estimator input.sk-toggleable__control:checked~label.sk-toggleable__label {background-color: #d4ebff;}#sk-container-id-9 div.sk-label input.sk-toggleable__control:checked~label.sk-toggleable__label {background-color: #d4ebff;}#sk-container-id-9 input.sk-hidden--visually {border: 0;clip: rect(1px 1px 1px 1px);clip: rect(1px, 1px, 1px, 1px);height: 1px;margin: -1px;overflow: hidden;padding: 0;position: absolute;width: 1px;}#sk-container-id-9 div.sk-estimator {font-family: monospace;background-color: #f0f8ff;border: 1px dotted black;border-radius: 0.25em;box-sizing: border-box;margin-bottom: 0.5em;}#sk-container-id-9 div.sk-estimator:hover {background-color: #d4ebff;}#sk-container-id-9 div.sk-parallel-item::after {content: \"\";width: 100%;border-bottom: 1px solid gray;flex-grow: 1;}#sk-container-id-9 div.sk-label:hover label.sk-toggleable__label {background-color: #d4ebff;}#sk-container-id-9 div.sk-serial::before {content: \"\";position: absolute;border-left: 1px solid gray;box-sizing: border-box;top: 0;bottom: 0;left: 50%;z-index: 0;}#sk-container-id-9 div.sk-serial {display: flex;flex-direction: column;align-items: center;background-color: white;padding-right: 0.2em;padding-left: 0.2em;position: relative;}#sk-container-id-9 div.sk-item {position: relative;z-index: 1;}#sk-container-id-9 div.sk-parallel {display: flex;align-items: stretch;justify-content: center;background-color: white;position: relative;}#sk-container-id-9 div.sk-item::before, #sk-container-id-9 div.sk-parallel-item::before {content: \"\";position: absolute;border-left: 1px solid gray;box-sizing: border-box;top: 0;bottom: 0;left: 50%;z-index: -1;}#sk-container-id-9 div.sk-parallel-item {display: flex;flex-direction: column;z-index: 1;position: relative;background-color: white;}#sk-container-id-9 div.sk-parallel-item:first-child::after {align-self: flex-end;width: 50%;}#sk-container-id-9 div.sk-parallel-item:last-child::after {align-self: flex-start;width: 50%;}#sk-container-id-9 div.sk-parallel-item:only-child::after {width: 0;}#sk-container-id-9 div.sk-dashed-wrapped {border: 1px dashed gray;margin: 0 0.4em 0.5em 0.4em;box-sizing: border-box;padding-bottom: 0.4em;background-color: white;}#sk-container-id-9 div.sk-label label {font-family: monospace;font-weight: bold;display: inline-block;line-height: 1.2em;}#sk-container-id-9 div.sk-label-container {text-align: center;}#sk-container-id-9 div.sk-container {/* jupyter's `normalize.less` sets `[hidden] { display: none; }` but bootstrap.min.css set `[hidden] { display: none !important; }` so we also need the `!important` here to be able to override the default hidden behavior on the sphinx rendered scikit-learn.org. See: https://github.com/scikit-learn/scikit-learn/issues/21755 */display: inline-block !important;position: relative;}#sk-container-id-9 div.sk-text-repr-fallback {display: none;}</style><div id=\"sk-container-id-9\" class=\"sk-top-container\"><div class=\"sk-text-repr-fallback\"><pre>ElasticNetCV(alphas=array([0.01, 0.02, 0.03, 0.04, 0.05, 0.06, 0.07, 0.08, 0.09, 0.1 , 0.11,\n",
       "       0.12, 0.13, 0.14, 0.15, 0.16, 0.17, 0.18, 0.19, 0.2 , 0.21, 0.22,\n",
       "       0.23, 0.24, 0.25, 0.26, 0.27, 0.28, 0.29, 0.3 , 0.31, 0.32, 0.33,\n",
       "       0.34, 0.35, 0.36, 0.37, 0.38, 0.39, 0.4 , 0.41, 0.42, 0.43, 0.44,\n",
       "       0.45, 0.46, 0.47, 0.48, 0.49, 0.5 , 0.51, 0.52, 0.53, 0.54, 0.55,\n",
       "       0.56, 0.57, 0.58, 0.59, 0.6 , 0.61, 0.62, 0.63, 0.64, 0.65, 0.66,\n",
       "       0.67, 0.68, 0.69, 0.7 , 0.71, 0.72, 0.73, 0.74, 0.75, 0.76, 0.77,\n",
       "       0.78, 0.79, 0.8 , 0.81, 0.82, 0.83, 0.84, 0.85, 0.86, 0.87, 0.88,\n",
       "       0.89, 0.9 , 0.91, 0.92, 0.93, 0.94, 0.95, 0.96, 0.97, 0.98, 0.99,\n",
       "       1.  ]),\n",
       "             cv=5, l1_ratio=[0.1, 0.5, 0.7, 0.9, 0.95, 1], max_iter=100000,\n",
       "             random_state=42)</pre><b>In a Jupyter environment, please rerun this cell to show the HTML representation or trust the notebook. <br />On GitHub, the HTML representation is unable to render, please try loading this page with nbviewer.org.</b></div><div class=\"sk-container\" hidden><div class=\"sk-item\"><div class=\"sk-estimator sk-toggleable\"><input class=\"sk-toggleable__control sk-hidden--visually\" id=\"sk-estimator-id-9\" type=\"checkbox\" checked><label for=\"sk-estimator-id-9\" class=\"sk-toggleable__label sk-toggleable__label-arrow\">ElasticNetCV</label><div class=\"sk-toggleable__content\"><pre>ElasticNetCV(alphas=array([0.01, 0.02, 0.03, 0.04, 0.05, 0.06, 0.07, 0.08, 0.09, 0.1 , 0.11,\n",
       "       0.12, 0.13, 0.14, 0.15, 0.16, 0.17, 0.18, 0.19, 0.2 , 0.21, 0.22,\n",
       "       0.23, 0.24, 0.25, 0.26, 0.27, 0.28, 0.29, 0.3 , 0.31, 0.32, 0.33,\n",
       "       0.34, 0.35, 0.36, 0.37, 0.38, 0.39, 0.4 , 0.41, 0.42, 0.43, 0.44,\n",
       "       0.45, 0.46, 0.47, 0.48, 0.49, 0.5 , 0.51, 0.52, 0.53, 0.54, 0.55,\n",
       "       0.56, 0.57, 0.58, 0.59, 0.6 , 0.61, 0.62, 0.63, 0.64, 0.65, 0.66,\n",
       "       0.67, 0.68, 0.69, 0.7 , 0.71, 0.72, 0.73, 0.74, 0.75, 0.76, 0.77,\n",
       "       0.78, 0.79, 0.8 , 0.81, 0.82, 0.83, 0.84, 0.85, 0.86, 0.87, 0.88,\n",
       "       0.89, 0.9 , 0.91, 0.92, 0.93, 0.94, 0.95, 0.96, 0.97, 0.98, 0.99,\n",
       "       1.  ]),\n",
       "             cv=5, l1_ratio=[0.1, 0.5, 0.7, 0.9, 0.95, 1], max_iter=100000,\n",
       "             random_state=42)</pre></div></div></div></div></div>"
      ],
      "text/plain": [
       "ElasticNetCV(alphas=array([0.01, 0.02, 0.03, 0.04, 0.05, 0.06, 0.07, 0.08, 0.09, 0.1 , 0.11,\n",
       "       0.12, 0.13, 0.14, 0.15, 0.16, 0.17, 0.18, 0.19, 0.2 , 0.21, 0.22,\n",
       "       0.23, 0.24, 0.25, 0.26, 0.27, 0.28, 0.29, 0.3 , 0.31, 0.32, 0.33,\n",
       "       0.34, 0.35, 0.36, 0.37, 0.38, 0.39, 0.4 , 0.41, 0.42, 0.43, 0.44,\n",
       "       0.45, 0.46, 0.47, 0.48, 0.49, 0.5 , 0.51, 0.52, 0.53, 0.54, 0.55,\n",
       "       0.56, 0.57, 0.58, 0.59, 0.6 , 0.61, 0.62, 0.63, 0.64, 0.65, 0.66,\n",
       "       0.67, 0.68, 0.69, 0.7 , 0.71, 0.72, 0.73, 0.74, 0.75, 0.76, 0.77,\n",
       "       0.78, 0.79, 0.8 , 0.81, 0.82, 0.83, 0.84, 0.85, 0.86, 0.87, 0.88,\n",
       "       0.89, 0.9 , 0.91, 0.92, 0.93, 0.94, 0.95, 0.96, 0.97, 0.98, 0.99,\n",
       "       1.  ]),\n",
       "             cv=5, l1_ratio=[0.1, 0.5, 0.7, 0.9, 0.95, 1], max_iter=100000,\n",
       "             random_state=42)"
      ]
     },
     "execution_count": 118,
     "metadata": {},
     "output_type": "execute_result"
    }
   ],
   "source": [
    "elastic_cv_model.fit(X_train_scaled, y_train)"
   ]
  },
  {
   "cell_type": "code",
   "execution_count": 119,
   "id": "9feccca3",
   "metadata": {
    "ExecuteTime": {
     "end_time": "2024-02-10T18:47:57.938032Z",
     "start_time": "2024-02-10T18:47:57.922366Z"
    }
   },
   "outputs": [
    {
     "data": {
      "text/plain": [
       "0.03"
      ]
     },
     "execution_count": 119,
     "metadata": {},
     "output_type": "execute_result"
    }
   ],
   "source": [
    "elastic_cv_model.alpha_"
   ]
  },
  {
   "cell_type": "code",
   "execution_count": 120,
   "id": "f7fbeace",
   "metadata": {
    "ExecuteTime": {
     "end_time": "2024-02-10T18:47:57.955331Z",
     "start_time": "2024-02-10T18:47:57.939574Z"
    }
   },
   "outputs": [
    {
     "data": {
      "text/plain": [
       "0.9"
      ]
     },
     "execution_count": 120,
     "metadata": {},
     "output_type": "execute_result"
    }
   ],
   "source": [
    "elastic_cv_model.l1_ratio_"
   ]
  },
  {
   "cell_type": "code",
   "execution_count": 121,
   "id": "6c3c0dfb",
   "metadata": {
    "ExecuteTime": {
     "end_time": "2024-02-10T18:47:57.961544Z",
     "start_time": "2024-02-10T18:47:57.956886Z"
    }
   },
   "outputs": [],
   "source": [
    "y_pred = elastic_cv_model.predict(X_test_scaled)\n",
    "y_train_pred = elastic_cv_model.predict(X_train_scaled)"
   ]
  },
  {
   "cell_type": "code",
   "execution_count": 122,
   "id": "6192e04e",
   "metadata": {
    "ExecuteTime": {
     "end_time": "2024-02-10T18:47:57.972318Z",
     "start_time": "2024-02-10T18:47:57.963059Z"
    }
   },
   "outputs": [
    {
     "data": {
      "text/html": [
       "<div>\n",
       "<style scoped>\n",
       "    .dataframe tbody tr th:only-of-type {\n",
       "        vertical-align: middle;\n",
       "    }\n",
       "\n",
       "    .dataframe tbody tr th {\n",
       "        vertical-align: top;\n",
       "    }\n",
       "\n",
       "    .dataframe thead th {\n",
       "        text-align: right;\n",
       "    }\n",
       "</style>\n",
       "<table border=\"1\" class=\"dataframe\">\n",
       "  <thead>\n",
       "    <tr style=\"text-align: right;\">\n",
       "      <th></th>\n",
       "      <th>elastic_cv_train</th>\n",
       "      <th>elastic_cv_test</th>\n",
       "    </tr>\n",
       "  </thead>\n",
       "  <tbody>\n",
       "    <tr>\n",
       "      <th>R2</th>\n",
       "      <td>0.873661</td>\n",
       "      <td>0.873546</td>\n",
       "    </tr>\n",
       "    <tr>\n",
       "      <th>mae</th>\n",
       "      <td>13.433930</td>\n",
       "      <td>13.167642</td>\n",
       "    </tr>\n",
       "    <tr>\n",
       "      <th>mse</th>\n",
       "      <td>434.965872</td>\n",
       "      <td>427.103267</td>\n",
       "    </tr>\n",
       "    <tr>\n",
       "      <th>rmse</th>\n",
       "      <td>20.855835</td>\n",
       "      <td>20.666477</td>\n",
       "    </tr>\n",
       "  </tbody>\n",
       "</table>\n",
       "</div>"
      ],
      "text/plain": [
       "      elastic_cv_train  elastic_cv_test\n",
       "R2            0.873661         0.873546\n",
       "mae          13.433930        13.167642\n",
       "mse         434.965872       427.103267\n",
       "rmse         20.855835        20.666477"
      ]
     },
     "execution_count": 122,
     "metadata": {},
     "output_type": "execute_result"
    }
   ],
   "source": [
    "ecs = train_val(y_train, y_train_pred, y_test, y_pred, \"elastic_cv\")\n",
    "ecs"
   ]
  },
  {
   "cell_type": "code",
   "execution_count": 123,
   "id": "6828b985",
   "metadata": {
    "ExecuteTime": {
     "end_time": "2024-02-10T18:47:57.983371Z",
     "start_time": "2024-02-10T18:47:57.973557Z"
    }
   },
   "outputs": [
    {
     "data": {
      "text/html": [
       "<div>\n",
       "<style scoped>\n",
       "    .dataframe tbody tr th:only-of-type {\n",
       "        vertical-align: middle;\n",
       "    }\n",
       "\n",
       "    .dataframe tbody tr th {\n",
       "        vertical-align: top;\n",
       "    }\n",
       "\n",
       "    .dataframe thead th {\n",
       "        text-align: right;\n",
       "    }\n",
       "</style>\n",
       "<table border=\"1\" class=\"dataframe\">\n",
       "  <thead>\n",
       "    <tr style=\"text-align: right;\">\n",
       "      <th></th>\n",
       "      <th>linear_train</th>\n",
       "      <th>linear_test</th>\n",
       "      <th>ridge_train</th>\n",
       "      <th>ridge_test</th>\n",
       "      <th>ridge_cv_train</th>\n",
       "      <th>ridge_cv_test</th>\n",
       "      <th>lasso_train</th>\n",
       "      <th>lasso_test</th>\n",
       "      <th>lasso_cv_train</th>\n",
       "      <th>lasso_cv_test</th>\n",
       "      <th>elastic_train</th>\n",
       "      <th>elastic_test</th>\n",
       "      <th>elastic_cv_train</th>\n",
       "      <th>elastic_cv_test</th>\n",
       "    </tr>\n",
       "  </thead>\n",
       "  <tbody>\n",
       "    <tr>\n",
       "      <th>R2</th>\n",
       "      <td>0.873668</td>\n",
       "      <td>0.873554</td>\n",
       "      <td>0.873667</td>\n",
       "      <td>0.873543</td>\n",
       "      <td>0.873663</td>\n",
       "      <td>0.873535</td>\n",
       "      <td>0.873341</td>\n",
       "      <td>0.873733</td>\n",
       "      <td>0.873648</td>\n",
       "      <td>-77.456086</td>\n",
       "      <td>0.857501</td>\n",
       "      <td>0.859910</td>\n",
       "      <td>0.873661</td>\n",
       "      <td>0.873546</td>\n",
       "    </tr>\n",
       "    <tr>\n",
       "      <th>mae</th>\n",
       "      <td>13.424130</td>\n",
       "      <td>13.156975</td>\n",
       "      <td>13.424475</td>\n",
       "      <td>13.158126</td>\n",
       "      <td>13.428366</td>\n",
       "      <td>13.162172</td>\n",
       "      <td>13.651458</td>\n",
       "      <td>13.377128</td>\n",
       "      <td>13.473127</td>\n",
       "      <td>506.892490</td>\n",
       "      <td>15.758966</td>\n",
       "      <td>15.419568</td>\n",
       "      <td>13.433930</td>\n",
       "      <td>13.167642</td>\n",
       "    </tr>\n",
       "    <tr>\n",
       "      <th>mse</th>\n",
       "      <td>434.941944</td>\n",
       "      <td>427.074018</td>\n",
       "      <td>434.944562</td>\n",
       "      <td>427.110221</td>\n",
       "      <td>434.959111</td>\n",
       "      <td>427.139035</td>\n",
       "      <td>436.066012</td>\n",
       "      <td>426.471264</td>\n",
       "      <td>435.010865</td>\n",
       "      <td>264987.425310</td>\n",
       "      <td>490.601369</td>\n",
       "      <td>473.158287</td>\n",
       "      <td>434.965872</td>\n",
       "      <td>427.103267</td>\n",
       "    </tr>\n",
       "    <tr>\n",
       "      <th>rmse</th>\n",
       "      <td>20.855262</td>\n",
       "      <td>20.665769</td>\n",
       "      <td>20.855325</td>\n",
       "      <td>20.666645</td>\n",
       "      <td>20.855673</td>\n",
       "      <td>20.667342</td>\n",
       "      <td>20.882194</td>\n",
       "      <td>20.651181</td>\n",
       "      <td>20.856914</td>\n",
       "      <td>514.769293</td>\n",
       "      <td>22.149523</td>\n",
       "      <td>21.752202</td>\n",
       "      <td>20.855835</td>\n",
       "      <td>20.666477</td>\n",
       "    </tr>\n",
       "  </tbody>\n",
       "</table>\n",
       "</div>"
      ],
      "text/plain": [
       "      linear_train  linear_test  ridge_train  ridge_test  ridge_cv_train  \\\n",
       "R2        0.873668     0.873554     0.873667    0.873543        0.873663   \n",
       "mae      13.424130    13.156975    13.424475   13.158126       13.428366   \n",
       "mse     434.941944   427.074018   434.944562  427.110221      434.959111   \n",
       "rmse     20.855262    20.665769    20.855325   20.666645       20.855673   \n",
       "\n",
       "      ridge_cv_test  lasso_train  lasso_test  lasso_cv_train  lasso_cv_test  \\\n",
       "R2         0.873535     0.873341    0.873733        0.873648     -77.456086   \n",
       "mae       13.162172    13.651458   13.377128       13.473127     506.892490   \n",
       "mse      427.139035   436.066012  426.471264      435.010865  264987.425310   \n",
       "rmse      20.667342    20.882194   20.651181       20.856914     514.769293   \n",
       "\n",
       "      elastic_train  elastic_test  elastic_cv_train  elastic_cv_test  \n",
       "R2         0.857501      0.859910          0.873661         0.873546  \n",
       "mae       15.758966     15.419568         13.433930        13.167642  \n",
       "mse      490.601369    473.158287        434.965872       427.103267  \n",
       "rmse      22.149523     21.752202         20.855835        20.666477  "
      ]
     },
     "execution_count": 123,
     "metadata": {},
     "output_type": "execute_result"
    }
   ],
   "source": [
    "pd.concat([ls_1, rs, rcs, lss, lcs, es, ecs], axis=1)"
   ]
  },
  {
   "cell_type": "code",
   "execution_count": 124,
   "id": "8516797b",
   "metadata": {
    "ExecuteTime": {
     "end_time": "2024-02-10T18:47:57.987901Z",
     "start_time": "2024-02-10T18:47:57.984953Z"
    }
   },
   "outputs": [
    {
     "data": {
      "text/plain": [
       "array([16.97968594, 18.54357658,  6.93191721, 14.81495228])"
      ]
     },
     "execution_count": 124,
     "metadata": {},
     "output_type": "execute_result"
    }
   ],
   "source": [
    "elastic_cv_model.coef_"
   ]
  },
  {
   "cell_type": "code",
   "execution_count": 125,
   "id": "4a9f9afb",
   "metadata": {
    "ExecuteTime": {
     "end_time": "2024-02-10T18:47:57.996428Z",
     "start_time": "2024-02-10T18:47:57.989139Z"
    }
   },
   "outputs": [
    {
     "data": {
      "text/html": [
       "<div>\n",
       "<style scoped>\n",
       "    .dataframe tbody tr th:only-of-type {\n",
       "        vertical-align: middle;\n",
       "    }\n",
       "\n",
       "    .dataframe tbody tr th {\n",
       "        vertical-align: top;\n",
       "    }\n",
       "\n",
       "    .dataframe thead th {\n",
       "        text-align: right;\n",
       "    }\n",
       "</style>\n",
       "<table border=\"1\" class=\"dataframe\">\n",
       "  <thead>\n",
       "    <tr style=\"text-align: right;\">\n",
       "      <th></th>\n",
       "      <th>lm_1_coef</th>\n",
       "      <th>ridge_coef_1</th>\n",
       "      <th>ridge_cv_model.coef_13.6</th>\n",
       "      <th>lasso_coef_alpha_1</th>\n",
       "      <th>lasso_cv_coef_0.24</th>\n",
       "      <th>elastic_coef_(apl:1) l1:0.5</th>\n",
       "      <th>elastic_coef_(alp:0.01, l1:1)</th>\n",
       "    </tr>\n",
       "  </thead>\n",
       "  <tbody>\n",
       "    <tr>\n",
       "      <th>0</th>\n",
       "      <td>16.985172</td>\n",
       "      <td>16.985747</td>\n",
       "      <td>16.996002</td>\n",
       "      <td>16.353763</td>\n",
       "      <td>16.835020</td>\n",
       "      <td>13.178162</td>\n",
       "      <td>16.979686</td>\n",
       "    </tr>\n",
       "    <tr>\n",
       "      <th>1</th>\n",
       "      <td>14.962943</td>\n",
       "      <td>17.199238</td>\n",
       "      <td>18.408439</td>\n",
       "      <td>17.072981</td>\n",
       "      <td>12.201790</td>\n",
       "      <td>12.973125</td>\n",
       "      <td>18.543577</td>\n",
       "    </tr>\n",
       "    <tr>\n",
       "      <th>2</th>\n",
       "      <td>4.573660</td>\n",
       "      <td>5.771487</td>\n",
       "      <td>6.812353</td>\n",
       "      <td>4.974253</td>\n",
       "      <td>2.960671</td>\n",
       "      <td>11.236679</td>\n",
       "      <td>6.931917</td>\n",
       "    </tr>\n",
       "    <tr>\n",
       "      <th>3</th>\n",
       "      <td>20.743780</td>\n",
       "      <td>17.347599</td>\n",
       "      <td>15.084412</td>\n",
       "      <td>17.769597</td>\n",
       "      <td>24.945462</td>\n",
       "      <td>12.540229</td>\n",
       "      <td>14.814952</td>\n",
       "    </tr>\n",
       "  </tbody>\n",
       "</table>\n",
       "</div>"
      ],
      "text/plain": [
       "   lm_1_coef  ridge_coef_1  ridge_cv_model.coef_13.6  lasso_coef_alpha_1  \\\n",
       "0  16.985172     16.985747                 16.996002           16.353763   \n",
       "1  14.962943     17.199238                 18.408439           17.072981   \n",
       "2   4.573660      5.771487                  6.812353            4.974253   \n",
       "3  20.743780     17.347599                 15.084412           17.769597   \n",
       "\n",
       "   lasso_cv_coef_0.24  elastic_coef_(apl:1) l1:0.5  \\\n",
       "0           16.835020                    13.178162   \n",
       "1           12.201790                    12.973125   \n",
       "2            2.960671                    11.236679   \n",
       "3           24.945462                    12.540229   \n",
       "\n",
       "   elastic_coef_(alp:0.01, l1:1)  \n",
       "0                      16.979686  \n",
       "1                      18.543577  \n",
       "2                       6.931917  \n",
       "3                      14.814952  "
      ]
     },
     "execution_count": 125,
     "metadata": {},
     "output_type": "execute_result"
    }
   ],
   "source": [
    "ecm_df = pd.DataFrame(elastic_cv_model.coef_, columns=[\"elastic_coef_(alp:0.01, l1:1)\"])\n",
    "\n",
    "pd.concat([lm_1_df, rm_df, rcm_df, lsm_df, lcm_df, em_df, ecm_df], axis = 1)"
   ]
  },
  {
   "cell_type": "markdown",
   "id": "06f75a1c",
   "metadata": {},
   "source": [
    "## Grid Search"
   ]
  },
  {
   "cell_type": "code",
   "execution_count": 126,
   "id": "13f81f45",
   "metadata": {
    "ExecuteTime": {
     "end_time": "2024-02-10T18:47:58.000263Z",
     "start_time": "2024-02-10T18:47:57.997854Z"
    }
   },
   "outputs": [],
   "source": [
    "from sklearn.model_selection import GridSearchCV"
   ]
  },
  {
   "cell_type": "code",
   "execution_count": 127,
   "id": "49095282",
   "metadata": {
    "ExecuteTime": {
     "end_time": "2024-02-10T18:47:58.006983Z",
     "start_time": "2024-02-10T18:47:58.004955Z"
    },
    "scrolled": true
   },
   "outputs": [],
   "source": [
    "linear_model = LinearRegression()"
   ]
  },
  {
   "cell_type": "code",
   "execution_count": 128,
   "id": "77088f51",
   "metadata": {
    "ExecuteTime": {
     "end_time": "2024-02-10T18:47:58.064790Z",
     "start_time": "2024-02-10T18:47:58.008384Z"
    }
   },
   "outputs": [
    {
     "data": {
      "text/html": [
       "<style>#sk-container-id-10 {color: black;}#sk-container-id-10 pre{padding: 0;}#sk-container-id-10 div.sk-toggleable {background-color: white;}#sk-container-id-10 label.sk-toggleable__label {cursor: pointer;display: block;width: 100%;margin-bottom: 0;padding: 0.3em;box-sizing: border-box;text-align: center;}#sk-container-id-10 label.sk-toggleable__label-arrow:before {content: \"▸\";float: left;margin-right: 0.25em;color: #696969;}#sk-container-id-10 label.sk-toggleable__label-arrow:hover:before {color: black;}#sk-container-id-10 div.sk-estimator:hover label.sk-toggleable__label-arrow:before {color: black;}#sk-container-id-10 div.sk-toggleable__content {max-height: 0;max-width: 0;overflow: hidden;text-align: left;background-color: #f0f8ff;}#sk-container-id-10 div.sk-toggleable__content pre {margin: 0.2em;color: black;border-radius: 0.25em;background-color: #f0f8ff;}#sk-container-id-10 input.sk-toggleable__control:checked~div.sk-toggleable__content {max-height: 200px;max-width: 100%;overflow: auto;}#sk-container-id-10 input.sk-toggleable__control:checked~label.sk-toggleable__label-arrow:before {content: \"▾\";}#sk-container-id-10 div.sk-estimator input.sk-toggleable__control:checked~label.sk-toggleable__label {background-color: #d4ebff;}#sk-container-id-10 div.sk-label input.sk-toggleable__control:checked~label.sk-toggleable__label {background-color: #d4ebff;}#sk-container-id-10 input.sk-hidden--visually {border: 0;clip: rect(1px 1px 1px 1px);clip: rect(1px, 1px, 1px, 1px);height: 1px;margin: -1px;overflow: hidden;padding: 0;position: absolute;width: 1px;}#sk-container-id-10 div.sk-estimator {font-family: monospace;background-color: #f0f8ff;border: 1px dotted black;border-radius: 0.25em;box-sizing: border-box;margin-bottom: 0.5em;}#sk-container-id-10 div.sk-estimator:hover {background-color: #d4ebff;}#sk-container-id-10 div.sk-parallel-item::after {content: \"\";width: 100%;border-bottom: 1px solid gray;flex-grow: 1;}#sk-container-id-10 div.sk-label:hover label.sk-toggleable__label {background-color: #d4ebff;}#sk-container-id-10 div.sk-serial::before {content: \"\";position: absolute;border-left: 1px solid gray;box-sizing: border-box;top: 0;bottom: 0;left: 50%;z-index: 0;}#sk-container-id-10 div.sk-serial {display: flex;flex-direction: column;align-items: center;background-color: white;padding-right: 0.2em;padding-left: 0.2em;position: relative;}#sk-container-id-10 div.sk-item {position: relative;z-index: 1;}#sk-container-id-10 div.sk-parallel {display: flex;align-items: stretch;justify-content: center;background-color: white;position: relative;}#sk-container-id-10 div.sk-item::before, #sk-container-id-10 div.sk-parallel-item::before {content: \"\";position: absolute;border-left: 1px solid gray;box-sizing: border-box;top: 0;bottom: 0;left: 50%;z-index: -1;}#sk-container-id-10 div.sk-parallel-item {display: flex;flex-direction: column;z-index: 1;position: relative;background-color: white;}#sk-container-id-10 div.sk-parallel-item:first-child::after {align-self: flex-end;width: 50%;}#sk-container-id-10 div.sk-parallel-item:last-child::after {align-self: flex-start;width: 50%;}#sk-container-id-10 div.sk-parallel-item:only-child::after {width: 0;}#sk-container-id-10 div.sk-dashed-wrapped {border: 1px dashed gray;margin: 0 0.4em 0.5em 0.4em;box-sizing: border-box;padding-bottom: 0.4em;background-color: white;}#sk-container-id-10 div.sk-label label {font-family: monospace;font-weight: bold;display: inline-block;line-height: 1.2em;}#sk-container-id-10 div.sk-label-container {text-align: center;}#sk-container-id-10 div.sk-container {/* jupyter's `normalize.less` sets `[hidden] { display: none; }` but bootstrap.min.css set `[hidden] { display: none !important; }` so we also need the `!important` here to be able to override the default hidden behavior on the sphinx rendered scikit-learn.org. See: https://github.com/scikit-learn/scikit-learn/issues/21755 */display: inline-block !important;position: relative;}#sk-container-id-10 div.sk-text-repr-fallback {display: none;}</style><div id=\"sk-container-id-10\" class=\"sk-top-container\"><div class=\"sk-text-repr-fallback\"><pre>GridSearchCV(cv=15, estimator=LinearRegression(),\n",
       "             param_grid={&#x27;fit_intercept&#x27;: [True, False],\n",
       "                         &#x27;positive&#x27;: [True, False]},\n",
       "             scoring=&#x27;neg_mean_squared_error&#x27;)</pre><b>In a Jupyter environment, please rerun this cell to show the HTML representation or trust the notebook. <br />On GitHub, the HTML representation is unable to render, please try loading this page with nbviewer.org.</b></div><div class=\"sk-container\" hidden><div class=\"sk-item sk-dashed-wrapped\"><div class=\"sk-label-container\"><div class=\"sk-label sk-toggleable\"><input class=\"sk-toggleable__control sk-hidden--visually\" id=\"sk-estimator-id-10\" type=\"checkbox\" ><label for=\"sk-estimator-id-10\" class=\"sk-toggleable__label sk-toggleable__label-arrow\">GridSearchCV</label><div class=\"sk-toggleable__content\"><pre>GridSearchCV(cv=15, estimator=LinearRegression(),\n",
       "             param_grid={&#x27;fit_intercept&#x27;: [True, False],\n",
       "                         &#x27;positive&#x27;: [True, False]},\n",
       "             scoring=&#x27;neg_mean_squared_error&#x27;)</pre></div></div></div><div class=\"sk-parallel\"><div class=\"sk-parallel-item\"><div class=\"sk-item\"><div class=\"sk-label-container\"><div class=\"sk-label sk-toggleable\"><input class=\"sk-toggleable__control sk-hidden--visually\" id=\"sk-estimator-id-11\" type=\"checkbox\" ><label for=\"sk-estimator-id-11\" class=\"sk-toggleable__label sk-toggleable__label-arrow\">estimator: LinearRegression</label><div class=\"sk-toggleable__content\"><pre>LinearRegression()</pre></div></div></div><div class=\"sk-serial\"><div class=\"sk-item\"><div class=\"sk-estimator sk-toggleable\"><input class=\"sk-toggleable__control sk-hidden--visually\" id=\"sk-estimator-id-12\" type=\"checkbox\" ><label for=\"sk-estimator-id-12\" class=\"sk-toggleable__label sk-toggleable__label-arrow\">LinearRegression</label><div class=\"sk-toggleable__content\"><pre>LinearRegression()</pre></div></div></div></div></div></div></div></div></div></div>"
      ],
      "text/plain": [
       "GridSearchCV(cv=15, estimator=LinearRegression(),\n",
       "             param_grid={'fit_intercept': [True, False],\n",
       "                         'positive': [True, False]},\n",
       "             scoring='neg_mean_squared_error')"
      ]
     },
     "execution_count": 128,
     "metadata": {},
     "output_type": "execute_result"
    }
   ],
   "source": [
    "# Train a linear regression model using grid search and cross-validation\n",
    "linear_model = LinearRegression()\n",
    "\n",
    "param_grid = {'fit_intercept': [True, False], 'positive': [True, False]}\n",
    "\n",
    "grid_model = GridSearchCV(linear_model, param_grid, cv=15, scoring='neg_mean_squared_error')\n",
    "grid_model.fit(X_train_scaled, y_train)"
   ]
  },
  {
   "cell_type": "code",
   "execution_count": 129,
   "id": "f5e4b807",
   "metadata": {
    "ExecuteTime": {
     "end_time": "2024-02-10T18:47:58.069279Z",
     "start_time": "2024-02-10T18:47:58.066197Z"
    }
   },
   "outputs": [
    {
     "data": {
      "text/plain": [
       "{'fit_intercept': True, 'positive': False}"
      ]
     },
     "execution_count": 129,
     "metadata": {},
     "output_type": "execute_result"
    }
   ],
   "source": [
    "grid_model.best_params_"
   ]
  },
  {
   "cell_type": "code",
   "execution_count": 130,
   "id": "e36e2ce4",
   "metadata": {
    "ExecuteTime": {
     "end_time": "2024-02-10T18:47:58.079663Z",
     "start_time": "2024-02-10T18:47:58.070694Z"
    }
   },
   "outputs": [
    {
     "data": {
      "text/plain": [
       "1"
      ]
     },
     "execution_count": 130,
     "metadata": {},
     "output_type": "execute_result"
    }
   ],
   "source": [
    "grid_model.best_index_"
   ]
  },
  {
   "cell_type": "code",
   "execution_count": 131,
   "id": "ed9bd867",
   "metadata": {
    "ExecuteTime": {
     "end_time": "2024-02-10T18:47:58.095813Z",
     "start_time": "2024-02-10T18:47:58.092697Z"
    }
   },
   "outputs": [
    {
     "data": {
      "text/plain": [
       "-436.12097777683255"
      ]
     },
     "execution_count": 131,
     "metadata": {},
     "output_type": "execute_result"
    }
   ],
   "source": [
    "grid_model.best_score_"
   ]
  },
  {
   "cell_type": "code",
   "execution_count": 132,
   "id": "e2e02d4b",
   "metadata": {
    "ExecuteTime": {
     "end_time": "2024-02-10T18:47:58.107378Z",
     "start_time": "2024-02-10T18:47:58.098952Z"
    }
   },
   "outputs": [
    {
     "data": {
      "text/html": [
       "<div>\n",
       "<style scoped>\n",
       "    .dataframe tbody tr th:only-of-type {\n",
       "        vertical-align: middle;\n",
       "    }\n",
       "\n",
       "    .dataframe tbody tr th {\n",
       "        vertical-align: top;\n",
       "    }\n",
       "\n",
       "    .dataframe thead th {\n",
       "        text-align: right;\n",
       "    }\n",
       "</style>\n",
       "<table border=\"1\" class=\"dataframe\">\n",
       "  <thead>\n",
       "    <tr style=\"text-align: right;\">\n",
       "      <th></th>\n",
       "      <th>mean_fit_time</th>\n",
       "      <th>std_fit_time</th>\n",
       "      <th>mean_score_time</th>\n",
       "      <th>std_score_time</th>\n",
       "      <th>param_fit_intercept</th>\n",
       "      <th>param_positive</th>\n",
       "      <th>params</th>\n",
       "      <th>split0_test_score</th>\n",
       "      <th>split1_test_score</th>\n",
       "      <th>split2_test_score</th>\n",
       "      <th>split3_test_score</th>\n",
       "      <th>split4_test_score</th>\n",
       "      <th>split5_test_score</th>\n",
       "      <th>split6_test_score</th>\n",
       "      <th>split7_test_score</th>\n",
       "      <th>split8_test_score</th>\n",
       "      <th>split9_test_score</th>\n",
       "      <th>split10_test_score</th>\n",
       "      <th>split11_test_score</th>\n",
       "      <th>split12_test_score</th>\n",
       "      <th>split13_test_score</th>\n",
       "      <th>split14_test_score</th>\n",
       "      <th>mean_test_score</th>\n",
       "      <th>std_test_score</th>\n",
       "      <th>rank_test_score</th>\n",
       "    </tr>\n",
       "  </thead>\n",
       "  <tbody>\n",
       "    <tr>\n",
       "      <th>0</th>\n",
       "      <td>0.000769</td>\n",
       "      <td>0.000285</td>\n",
       "      <td>0.000223</td>\n",
       "      <td>0.000116</td>\n",
       "      <td>True</td>\n",
       "      <td>True</td>\n",
       "      <td>{'fit_intercept': True, 'positive': True}</td>\n",
       "      <td>-538.881338</td>\n",
       "      <td>-531.801748</td>\n",
       "      <td>-452.404354</td>\n",
       "      <td>-385.368538</td>\n",
       "      <td>-348.440412</td>\n",
       "      <td>-355.242391</td>\n",
       "      <td>-475.844832</td>\n",
       "      <td>-391.905176</td>\n",
       "      <td>-430.811147</td>\n",
       "      <td>-434.375683</td>\n",
       "      <td>-377.065291</td>\n",
       "      <td>-466.705490</td>\n",
       "      <td>-422.192195</td>\n",
       "      <td>-440.592175</td>\n",
       "      <td>-490.183896</td>\n",
       "      <td>-436.120978</td>\n",
       "      <td>56.514740</td>\n",
       "      <td>2</td>\n",
       "    </tr>\n",
       "    <tr>\n",
       "      <th>1</th>\n",
       "      <td>0.000492</td>\n",
       "      <td>0.000051</td>\n",
       "      <td>0.000138</td>\n",
       "      <td>0.000027</td>\n",
       "      <td>True</td>\n",
       "      <td>False</td>\n",
       "      <td>{'fit_intercept': True, 'positive': False}</td>\n",
       "      <td>-538.881338</td>\n",
       "      <td>-531.801748</td>\n",
       "      <td>-452.404354</td>\n",
       "      <td>-385.368538</td>\n",
       "      <td>-348.440412</td>\n",
       "      <td>-355.242391</td>\n",
       "      <td>-475.844832</td>\n",
       "      <td>-391.905176</td>\n",
       "      <td>-430.811147</td>\n",
       "      <td>-434.375683</td>\n",
       "      <td>-377.065291</td>\n",
       "      <td>-466.705490</td>\n",
       "      <td>-422.192195</td>\n",
       "      <td>-440.592175</td>\n",
       "      <td>-490.183896</td>\n",
       "      <td>-436.120978</td>\n",
       "      <td>56.514740</td>\n",
       "      <td>1</td>\n",
       "    </tr>\n",
       "    <tr>\n",
       "      <th>2</th>\n",
       "      <td>0.000646</td>\n",
       "      <td>0.000190</td>\n",
       "      <td>0.000244</td>\n",
       "      <td>0.000120</td>\n",
       "      <td>False</td>\n",
       "      <td>True</td>\n",
       "      <td>{'fit_intercept': False, 'positive': True}</td>\n",
       "      <td>-63472.461715</td>\n",
       "      <td>-62639.986116</td>\n",
       "      <td>-63502.965331</td>\n",
       "      <td>-63125.193728</td>\n",
       "      <td>-63975.706874</td>\n",
       "      <td>-63732.561268</td>\n",
       "      <td>-62877.651823</td>\n",
       "      <td>-63984.628233</td>\n",
       "      <td>-63297.848722</td>\n",
       "      <td>-62785.057359</td>\n",
       "      <td>-62895.133940</td>\n",
       "      <td>-63658.464067</td>\n",
       "      <td>-63926.180685</td>\n",
       "      <td>-63853.801975</td>\n",
       "      <td>-62673.513786</td>\n",
       "      <td>-63360.077042</td>\n",
       "      <td>477.676670</td>\n",
       "      <td>3</td>\n",
       "    </tr>\n",
       "    <tr>\n",
       "      <th>3</th>\n",
       "      <td>0.000358</td>\n",
       "      <td>0.000007</td>\n",
       "      <td>0.000124</td>\n",
       "      <td>0.000002</td>\n",
       "      <td>False</td>\n",
       "      <td>False</td>\n",
       "      <td>{'fit_intercept': False, 'positive': False}</td>\n",
       "      <td>-63473.202365</td>\n",
       "      <td>-62645.013499</td>\n",
       "      <td>-63531.299572</td>\n",
       "      <td>-63161.217048</td>\n",
       "      <td>-63975.706874</td>\n",
       "      <td>-63799.804266</td>\n",
       "      <td>-62893.687112</td>\n",
       "      <td>-64017.644579</td>\n",
       "      <td>-63305.820247</td>\n",
       "      <td>-62790.082950</td>\n",
       "      <td>-62898.902469</td>\n",
       "      <td>-63661.293726</td>\n",
       "      <td>-64153.141944</td>\n",
       "      <td>-63875.054372</td>\n",
       "      <td>-62751.893003</td>\n",
       "      <td>-63395.584268</td>\n",
       "      <td>496.093467</td>\n",
       "      <td>4</td>\n",
       "    </tr>\n",
       "  </tbody>\n",
       "</table>\n",
       "</div>"
      ],
      "text/plain": [
       "   mean_fit_time  std_fit_time  mean_score_time  std_score_time  \\\n",
       "0       0.000769      0.000285         0.000223        0.000116   \n",
       "1       0.000492      0.000051         0.000138        0.000027   \n",
       "2       0.000646      0.000190         0.000244        0.000120   \n",
       "3       0.000358      0.000007         0.000124        0.000002   \n",
       "\n",
       "  param_fit_intercept param_positive  \\\n",
       "0                True           True   \n",
       "1                True          False   \n",
       "2               False           True   \n",
       "3               False          False   \n",
       "\n",
       "                                        params  split0_test_score  \\\n",
       "0    {'fit_intercept': True, 'positive': True}        -538.881338   \n",
       "1   {'fit_intercept': True, 'positive': False}        -538.881338   \n",
       "2   {'fit_intercept': False, 'positive': True}      -63472.461715   \n",
       "3  {'fit_intercept': False, 'positive': False}      -63473.202365   \n",
       "\n",
       "   split1_test_score  split2_test_score  split3_test_score  split4_test_score  \\\n",
       "0        -531.801748        -452.404354        -385.368538        -348.440412   \n",
       "1        -531.801748        -452.404354        -385.368538        -348.440412   \n",
       "2      -62639.986116      -63502.965331      -63125.193728      -63975.706874   \n",
       "3      -62645.013499      -63531.299572      -63161.217048      -63975.706874   \n",
       "\n",
       "   split5_test_score  split6_test_score  split7_test_score  split8_test_score  \\\n",
       "0        -355.242391        -475.844832        -391.905176        -430.811147   \n",
       "1        -355.242391        -475.844832        -391.905176        -430.811147   \n",
       "2      -63732.561268      -62877.651823      -63984.628233      -63297.848722   \n",
       "3      -63799.804266      -62893.687112      -64017.644579      -63305.820247   \n",
       "\n",
       "   split9_test_score  split10_test_score  split11_test_score  \\\n",
       "0        -434.375683         -377.065291         -466.705490   \n",
       "1        -434.375683         -377.065291         -466.705490   \n",
       "2      -62785.057359       -62895.133940       -63658.464067   \n",
       "3      -62790.082950       -62898.902469       -63661.293726   \n",
       "\n",
       "   split12_test_score  split13_test_score  split14_test_score  \\\n",
       "0         -422.192195         -440.592175         -490.183896   \n",
       "1         -422.192195         -440.592175         -490.183896   \n",
       "2       -63926.180685       -63853.801975       -62673.513786   \n",
       "3       -64153.141944       -63875.054372       -62751.893003   \n",
       "\n",
       "   mean_test_score  std_test_score  rank_test_score  \n",
       "0      -436.120978       56.514740                2  \n",
       "1      -436.120978       56.514740                1  \n",
       "2    -63360.077042      477.676670                3  \n",
       "3    -63395.584268      496.093467                4  "
      ]
     },
     "execution_count": 132,
     "metadata": {},
     "output_type": "execute_result"
    }
   ],
   "source": [
    "pd.DataFrame(pd.DataFrame(grid_model.cv_results_))"
   ]
  },
  {
   "cell_type": "code",
   "execution_count": 133,
   "id": "d40ac30d",
   "metadata": {
    "ExecuteTime": {
     "end_time": "2024-02-10T18:47:58.117611Z",
     "start_time": "2024-02-10T18:47:58.108991Z"
    }
   },
   "outputs": [
    {
     "data": {
      "text/html": [
       "<div>\n",
       "<style scoped>\n",
       "    .dataframe tbody tr th:only-of-type {\n",
       "        vertical-align: middle;\n",
       "    }\n",
       "\n",
       "    .dataframe tbody tr th {\n",
       "        vertical-align: top;\n",
       "    }\n",
       "\n",
       "    .dataframe thead th {\n",
       "        text-align: right;\n",
       "    }\n",
       "</style>\n",
       "<table border=\"1\" class=\"dataframe\">\n",
       "  <thead>\n",
       "    <tr style=\"text-align: right;\">\n",
       "      <th></th>\n",
       "      <th>GridSearch_train</th>\n",
       "      <th>GridSearch_test</th>\n",
       "    </tr>\n",
       "  </thead>\n",
       "  <tbody>\n",
       "    <tr>\n",
       "      <th>R2</th>\n",
       "      <td>0.873661</td>\n",
       "      <td>0.873546</td>\n",
       "    </tr>\n",
       "    <tr>\n",
       "      <th>mae</th>\n",
       "      <td>13.433930</td>\n",
       "      <td>13.167642</td>\n",
       "    </tr>\n",
       "    <tr>\n",
       "      <th>mse</th>\n",
       "      <td>434.965872</td>\n",
       "      <td>427.103267</td>\n",
       "    </tr>\n",
       "    <tr>\n",
       "      <th>rmse</th>\n",
       "      <td>20.855835</td>\n",
       "      <td>20.666477</td>\n",
       "    </tr>\n",
       "  </tbody>\n",
       "</table>\n",
       "</div>"
      ],
      "text/plain": [
       "      GridSearch_train  GridSearch_test\n",
       "R2            0.873661         0.873546\n",
       "mae          13.433930        13.167642\n",
       "mse         434.965872       427.103267\n",
       "rmse         20.855835        20.666477"
      ]
     },
     "execution_count": 133,
     "metadata": {},
     "output_type": "execute_result"
    }
   ],
   "source": [
    "train_val(y_train, y_train_pred, y_test, y_pred, \"GridSearch\")"
   ]
  },
  {
   "cell_type": "code",
   "execution_count": 134,
   "id": "18489294",
   "metadata": {
    "ExecuteTime": {
     "end_time": "2024-02-10T18:47:58.124257Z",
     "start_time": "2024-02-10T18:47:58.119445Z"
    }
   },
   "outputs": [],
   "source": [
    "y_pred = grid_model.predict(X_test_scaled)\n",
    "y_train_pred = grid_model.predict(X_train_scaled)"
   ]
  },
  {
   "cell_type": "markdown",
   "id": "86fa906b",
   "metadata": {},
   "source": [
    "## Final Model"
   ]
  },
  {
   "cell_type": "code",
   "execution_count": 135,
   "id": "8f354eaf",
   "metadata": {
    "ExecuteTime": {
     "end_time": "2024-02-10T18:47:58.131600Z",
     "start_time": "2024-02-10T18:47:58.125779Z"
    }
   },
   "outputs": [],
   "source": [
    "final_scaler = StandardScaler()\n",
    "X_scaled = final_scaler.fit_transform(df_1)"
   ]
  },
  {
   "cell_type": "code",
   "execution_count": 136,
   "id": "cd23f97f",
   "metadata": {
    "ExecuteTime": {
     "end_time": "2024-02-10T18:47:58.135687Z",
     "start_time": "2024-02-10T18:47:58.133337Z"
    }
   },
   "outputs": [],
   "source": [
    "final_model = LinearRegression()"
   ]
  },
  {
   "cell_type": "code",
   "execution_count": 137,
   "id": "46994b61",
   "metadata": {
    "ExecuteTime": {
     "end_time": "2024-02-10T18:47:58.140984Z",
     "start_time": "2024-02-10T18:47:58.137050Z"
    }
   },
   "outputs": [
    {
     "data": {
      "text/html": [
       "<style>#sk-container-id-11 {color: black;}#sk-container-id-11 pre{padding: 0;}#sk-container-id-11 div.sk-toggleable {background-color: white;}#sk-container-id-11 label.sk-toggleable__label {cursor: pointer;display: block;width: 100%;margin-bottom: 0;padding: 0.3em;box-sizing: border-box;text-align: center;}#sk-container-id-11 label.sk-toggleable__label-arrow:before {content: \"▸\";float: left;margin-right: 0.25em;color: #696969;}#sk-container-id-11 label.sk-toggleable__label-arrow:hover:before {color: black;}#sk-container-id-11 div.sk-estimator:hover label.sk-toggleable__label-arrow:before {color: black;}#sk-container-id-11 div.sk-toggleable__content {max-height: 0;max-width: 0;overflow: hidden;text-align: left;background-color: #f0f8ff;}#sk-container-id-11 div.sk-toggleable__content pre {margin: 0.2em;color: black;border-radius: 0.25em;background-color: #f0f8ff;}#sk-container-id-11 input.sk-toggleable__control:checked~div.sk-toggleable__content {max-height: 200px;max-width: 100%;overflow: auto;}#sk-container-id-11 input.sk-toggleable__control:checked~label.sk-toggleable__label-arrow:before {content: \"▾\";}#sk-container-id-11 div.sk-estimator input.sk-toggleable__control:checked~label.sk-toggleable__label {background-color: #d4ebff;}#sk-container-id-11 div.sk-label input.sk-toggleable__control:checked~label.sk-toggleable__label {background-color: #d4ebff;}#sk-container-id-11 input.sk-hidden--visually {border: 0;clip: rect(1px 1px 1px 1px);clip: rect(1px, 1px, 1px, 1px);height: 1px;margin: -1px;overflow: hidden;padding: 0;position: absolute;width: 1px;}#sk-container-id-11 div.sk-estimator {font-family: monospace;background-color: #f0f8ff;border: 1px dotted black;border-radius: 0.25em;box-sizing: border-box;margin-bottom: 0.5em;}#sk-container-id-11 div.sk-estimator:hover {background-color: #d4ebff;}#sk-container-id-11 div.sk-parallel-item::after {content: \"\";width: 100%;border-bottom: 1px solid gray;flex-grow: 1;}#sk-container-id-11 div.sk-label:hover label.sk-toggleable__label {background-color: #d4ebff;}#sk-container-id-11 div.sk-serial::before {content: \"\";position: absolute;border-left: 1px solid gray;box-sizing: border-box;top: 0;bottom: 0;left: 50%;z-index: 0;}#sk-container-id-11 div.sk-serial {display: flex;flex-direction: column;align-items: center;background-color: white;padding-right: 0.2em;padding-left: 0.2em;position: relative;}#sk-container-id-11 div.sk-item {position: relative;z-index: 1;}#sk-container-id-11 div.sk-parallel {display: flex;align-items: stretch;justify-content: center;background-color: white;position: relative;}#sk-container-id-11 div.sk-item::before, #sk-container-id-11 div.sk-parallel-item::before {content: \"\";position: absolute;border-left: 1px solid gray;box-sizing: border-box;top: 0;bottom: 0;left: 50%;z-index: -1;}#sk-container-id-11 div.sk-parallel-item {display: flex;flex-direction: column;z-index: 1;position: relative;background-color: white;}#sk-container-id-11 div.sk-parallel-item:first-child::after {align-self: flex-end;width: 50%;}#sk-container-id-11 div.sk-parallel-item:last-child::after {align-self: flex-start;width: 50%;}#sk-container-id-11 div.sk-parallel-item:only-child::after {width: 0;}#sk-container-id-11 div.sk-dashed-wrapped {border: 1px dashed gray;margin: 0 0.4em 0.5em 0.4em;box-sizing: border-box;padding-bottom: 0.4em;background-color: white;}#sk-container-id-11 div.sk-label label {font-family: monospace;font-weight: bold;display: inline-block;line-height: 1.2em;}#sk-container-id-11 div.sk-label-container {text-align: center;}#sk-container-id-11 div.sk-container {/* jupyter's `normalize.less` sets `[hidden] { display: none; }` but bootstrap.min.css set `[hidden] { display: none !important; }` so we also need the `!important` here to be able to override the default hidden behavior on the sphinx rendered scikit-learn.org. See: https://github.com/scikit-learn/scikit-learn/issues/21755 */display: inline-block !important;position: relative;}#sk-container-id-11 div.sk-text-repr-fallback {display: none;}</style><div id=\"sk-container-id-11\" class=\"sk-top-container\"><div class=\"sk-text-repr-fallback\"><pre>LinearRegression()</pre><b>In a Jupyter environment, please rerun this cell to show the HTML representation or trust the notebook. <br />On GitHub, the HTML representation is unable to render, please try loading this page with nbviewer.org.</b></div><div class=\"sk-container\" hidden><div class=\"sk-item\"><div class=\"sk-estimator sk-toggleable\"><input class=\"sk-toggleable__control sk-hidden--visually\" id=\"sk-estimator-id-13\" type=\"checkbox\" checked><label for=\"sk-estimator-id-13\" class=\"sk-toggleable__label sk-toggleable__label-arrow\">LinearRegression</label><div class=\"sk-toggleable__content\"><pre>LinearRegression()</pre></div></div></div></div></div>"
      ],
      "text/plain": [
       "LinearRegression()"
      ]
     },
     "execution_count": 137,
     "metadata": {},
     "output_type": "execute_result"
    }
   ],
   "source": [
    "final_model.fit(X_scaled, y)"
   ]
  },
  {
   "cell_type": "markdown",
   "id": "1c5d7b44",
   "metadata": {},
   "source": [
    "## Feature Importance with Ridge"
   ]
  },
  {
   "cell_type": "code",
   "execution_count": 138,
   "id": "403743d4",
   "metadata": {
    "ExecuteTime": {
     "end_time": "2024-02-10T18:47:58.560325Z",
     "start_time": "2024-02-10T18:47:58.142728Z"
    }
   },
   "outputs": [],
   "source": [
    "from yellowbrick.model_selection import FeatureImportances\n",
    "from yellowbrick.features import RadViz"
   ]
  },
  {
   "cell_type": "code",
   "execution_count": 139,
   "id": "ac1d5587",
   "metadata": {
    "ExecuteTime": {
     "end_time": "2024-02-10T18:47:58.665011Z",
     "start_time": "2024-02-10T18:47:58.561382Z"
    }
   },
   "outputs": [
    {
     "data": {
      "image/png": "[encoded data removed]",
      "text/plain": [
       "<Figure size 720x3000 with 1 Axes>"
      ]
     },
     "metadata": {},
     "output_type": "display_data"
    },
    {
     "data": {
      "text/plain": [
       "<Axes: title={'center': 'Feature Importances of 4 Features using RidgeCV'}, xlabel='relative coefficient magnitude'>"
      ]
     },
     "execution_count": 139,
     "metadata": {},
     "output_type": "execute_result"
    }
   ],
   "source": [
    "viz = FeatureImportances(ridge_cv_model, labels = pd.DataFrame(X_train).columns)\n",
    "visualizer = RadViz(size=(720,3000))\n",
    "viz.fit(X_train, y_train)\n",
    "viz.show()"
   ]
  },
  {
   "cell_type": "markdown",
   "id": "2bb0b126",
   "metadata": {},
   "source": [
    "## Feature Importance with Lasso"
   ]
  },
  {
   "cell_type": "code",
   "execution_count": 140,
   "id": "2f932993",
   "metadata": {
    "ExecuteTime": {
     "end_time": "2024-02-10T18:47:58.760520Z",
     "start_time": "2024-02-10T18:47:58.665696Z"
    }
   },
   "outputs": [
    {
     "data": {
      "image/png": "[encoded data removed]",
      "text/plain": [
       "<Figure size 720x3000 with 1 Axes>"
      ]
     },
     "metadata": {},
     "output_type": "display_data"
    },
    {
     "data": {
      "text/plain": [
       "<Axes: title={'center': 'Feature Importances of 4 Features using LassoCV'}, xlabel='relative coefficient magnitude'>"
      ]
     },
     "execution_count": 140,
     "metadata": {},
     "output_type": "execute_result"
    }
   ],
   "source": [
    "viz = FeatureImportances(lasso_cv_model, labels=pd.DataFrame(X_train).columns)\n",
    "visualizer = RadViz(size=(720, 3000))\n",
    "viz.fit(X_train, y_train)\n",
    "viz.show()"
   ]
  }
 ],
 "metadata": {
  "hide_input": false,
  "kernelspec": {
   "display_name": "Python 3 (ipykernel)",
   "language": "python",
   "name": "python3"
  },
  "language_info": {
   "codemirror_mode": {
    "name": "ipython",
    "version": 3
   },
   "file_extension": ".py",
   "mimetype": "text/x-python",
   "name": "python",
   "nbconvert_exporter": "python",
   "pygments_lexer": "ipython3",
   "version": "3.11.4"
  },
  "toc": {
   "base_numbering": 1,
   "nav_menu": {},
   "number_sections": true,
   "sideBar": true,
   "skip_h1_title": false,
   "title_cell": "Table of Contents",
   "title_sidebar": "Contents",
   "toc_cell": false,
   "toc_position": {
    "height": "calc(100% - 180px)",
    "left": "10px",
    "top": "150px",
    "width": "212px"
   },
   "toc_section_display": true,
   "toc_window_display": true
  }
 },
 "nbformat": 4,
 "nbformat_minor": 5
}
